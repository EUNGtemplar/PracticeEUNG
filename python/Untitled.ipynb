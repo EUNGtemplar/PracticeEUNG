{
 "cells": [
  {
   "cell_type": "code",
   "execution_count": 4,
   "id": "e0ad0945",
   "metadata": {},
   "outputs": [],
   "source": [
    "# pandas : 표\n",
    "# seaborn, matplotlib 그림(시각화, 도식화)"
   ]
  },
  {
   "cell_type": "code",
   "execution_count": 5,
   "id": "d40c40ae",
   "metadata": {},
   "outputs": [],
   "source": [
    "# sql : 행(row)    : 한 건\n",
    "#       열(column) : 종 류\n",
    "\n",
    "\n",
    "#      국   영   수\n",
    "#학생1  98   88  78\n",
    "#학생2  88   83  72\n",
    "#학생3  78   83  71\n",
    "#학생4  68   63  46"
   ]
  },
  {
   "cell_type": "code",
   "execution_count": 6,
   "id": "1ed24dba",
   "metadata": {},
   "outputs": [],
   "source": [
    "# pandas - Series ( 표 칼럼 )\n",
    "# pandas - DataFrame ( 표, 2차원 )"
   ]
  },
  {
   "cell_type": "code",
   "execution_count": 7,
   "id": "61402a12",
   "metadata": {},
   "outputs": [],
   "source": [
    "import pandas as pd\n",
    "# import matplotlib.pyplot as plt"
   ]
  },
  {
   "cell_type": "code",
   "execution_count": 8,
   "id": "af37f2a4",
   "metadata": {},
   "outputs": [
    {
     "data": {
      "text/plain": [
       "0    98\n",
       "1    88\n",
       "2    78\n",
       "3    68\n",
       "dtype: int64"
      ]
     },
     "execution_count": 8,
     "metadata": {},
     "output_type": "execute_result"
    }
   ],
   "source": [
    "kor_data = [98, 88, 78, 68]\n",
    "s_kor_data = pd.Series(kor_data)\n",
    "s_kor_data"
   ]
  },
  {
   "cell_type": "code",
   "execution_count": 9,
   "id": "97898c27",
   "metadata": {},
   "outputs": [
    {
     "data": {
      "text/plain": [
       "학생1    98\n",
       "학생2    88\n",
       "학생3    78\n",
       "학생4    68\n",
       "dtype: int64"
      ]
     },
     "execution_count": 9,
     "metadata": {},
     "output_type": "execute_result"
    }
   ],
   "source": [
    "s_kor_data_1 = pd.Series(kor_data, index=[\"학생1\",\"학생2\",\"학생3\",\"학생4\"])\n",
    "s_kor_data_1"
   ]
  },
  {
   "cell_type": "code",
   "execution_count": 10,
   "id": "e6182c86",
   "metadata": {},
   "outputs": [
    {
     "data": {
      "text/plain": [
       "학생1    88\n",
       "학생2    83\n",
       "학생3    83\n",
       "학생4    76\n",
       "dtype: int64"
      ]
     },
     "execution_count": 10,
     "metadata": {},
     "output_type": "execute_result"
    }
   ],
   "source": [
    "s_eor_data_1 = pd.Series([88, 83, 83, 76], index=[\"학생1\",\"학생2\",\"학생3\",\"학생4\"])\n",
    "s_eor_data_1"
   ]
  },
  {
   "cell_type": "code",
   "execution_count": 11,
   "id": "c4ffb632",
   "metadata": {},
   "outputs": [
    {
     "data": {
      "text/plain": [
       "학생1    78\n",
       "학생2    72\n",
       "학생3    71\n",
       "학생4    46\n",
       "dtype: int64"
      ]
     },
     "execution_count": 11,
     "metadata": {},
     "output_type": "execute_result"
    }
   ],
   "source": [
    "s_math_data_1 = pd.Series([78, 72, 71, 46], index=[\"학생1\",\"학생2\",\"학생3\",\"학생4\"])\n",
    "s_math_data_1"
   ]
  },
  {
   "cell_type": "code",
   "execution_count": 12,
   "id": "46424332",
   "metadata": {},
   "outputs": [
    {
     "name": "stderr",
     "output_type": "stream",
     "text": [
      "/var/folders/ss/tbf715dj6jl7lr6p44lxrw3w0000gn/T/ipykernel_1303/1432318668.py:1: FutureWarning: Series.__getitem__ treating keys as positions is deprecated. In a future version, integer keys will always be treated as labels (consistent with DataFrame behavior). To access a value by position, use `ser.iloc[pos]`\n",
      "  s_math_data_1[3], s_math_data_1[\"학생1\"]\n"
     ]
    },
    {
     "data": {
      "text/plain": [
       "(46, 78)"
      ]
     },
     "execution_count": 12,
     "metadata": {},
     "output_type": "execute_result"
    }
   ],
   "source": [
    "s_math_data_1[3], s_math_data_1[\"학생1\"]"
   ]
  },
  {
   "cell_type": "code",
   "execution_count": 13,
   "id": "d24b5704",
   "metadata": {},
   "outputs": [
    {
     "data": {
      "text/plain": [
       "학생1    99\n",
       "학생2    72\n",
       "학생3    71\n",
       "학생4    46\n",
       "dtype: int64"
      ]
     },
     "execution_count": 13,
     "metadata": {},
     "output_type": "execute_result"
    }
   ],
   "source": [
    "s_math_data_1[\"학생1\"] = 99 # sql update [tablename] set math=66 where name='응'\n",
    "s_math_data_1"
   ]
  },
  {
   "cell_type": "code",
   "execution_count": 14,
   "id": "f1d17830",
   "metadata": {},
   "outputs": [],
   "source": [
    "# sql : 행(row)    : 한 건\n",
    "#       열(column) : 종 류\n",
    "\n",
    "\n",
    "#      국   영   수  + 과학을 추가\n",
    "#학생1  98   88  78    87\n",
    "#학생2  88   83  72    85\n",
    "#학생3  78   83  71    83\n",
    "#학생4  68   63  46    81"
   ]
  },
  {
   "cell_type": "code",
   "execution_count": 15,
   "id": "d19735dc",
   "metadata": {},
   "outputs": [
    {
     "data": {
      "text/plain": [
       "학생1    87\n",
       "학생2    85\n",
       "학생3    83\n",
       "학생4    81\n",
       "dtype: int64"
      ]
     },
     "execution_count": 15,
     "metadata": {},
     "output_type": "execute_result"
    }
   ],
   "source": [
    "s_sci_data_1 = pd.Series({\"학생1\":87, \"학생2\":85, \"학생3\":83, \"학생4\":81})\n",
    "s_sci_data_1"
   ]
  },
  {
   "cell_type": "code",
   "execution_count": 16,
   "id": "9b56093c",
   "metadata": {},
   "outputs": [
    {
     "data": {
      "text/plain": [
       "(87, 85)"
      ]
     },
     "execution_count": 16,
     "metadata": {},
     "output_type": "execute_result"
    }
   ],
   "source": [
    "s_sci_data_1[\"학생1\"], s_sci_data_1[\"학생2\"]"
   ]
  },
  {
   "cell_type": "code",
   "execution_count": 17,
   "id": "b42018a5",
   "metadata": {},
   "outputs": [
    {
     "data": {
      "text/plain": [
       "학생1    87\n",
       "학생2    85\n",
       "dtype: int64"
      ]
     },
     "execution_count": 17,
     "metadata": {},
     "output_type": "execute_result"
    }
   ],
   "source": [
    "s_sci_data_1[[\"학생1\",\"학생2\"]]"
   ]
  },
  {
   "cell_type": "code",
   "execution_count": 19,
   "id": "6bb6b0e6",
   "metadata": {},
   "outputs": [
    {
     "data": {
      "text/plain": [
       "'apple'"
      ]
     },
     "execution_count": 19,
     "metadata": {},
     "output_type": "execute_result"
    }
   ],
   "source": [
    "str1 = \"pine apple\"\n",
    "str1[5:]"
   ]
  },
  {
   "cell_type": "code",
   "execution_count": 20,
   "id": "ee28f118",
   "metadata": {},
   "outputs": [
    {
     "data": {
      "text/plain": [
       "학생3    83\n",
       "학생4    81\n",
       "dtype: int64"
      ]
     },
     "execution_count": 20,
     "metadata": {},
     "output_type": "execute_result"
    }
   ],
   "source": [
    "s_sci_data_1[-2:]"
   ]
  },
  {
   "cell_type": "code",
   "execution_count": 21,
   "id": "dfe68218",
   "metadata": {},
   "outputs": [
    {
     "data": {
      "text/plain": [
       "학생3    83\n",
       "학생4    81\n",
       "dtype: int64"
      ]
     },
     "execution_count": 21,
     "metadata": {},
     "output_type": "execute_result"
    }
   ],
   "source": [
    "s_sci_data_1[2:]"
   ]
  },
  {
   "cell_type": "code",
   "execution_count": 22,
   "id": "f9a209e1",
   "metadata": {},
   "outputs": [
    {
     "data": {
      "text/plain": [
       "학생1    87\n",
       "학생2    85\n",
       "dtype: int64"
      ]
     },
     "execution_count": 22,
     "metadata": {},
     "output_type": "execute_result"
    }
   ],
   "source": [
    "s_sci_data_1[s_sci_data_1>=85]"
   ]
  },
  {
   "cell_type": "code",
   "execution_count": 23,
   "id": "547e0733",
   "metadata": {},
   "outputs": [
    {
     "data": {
      "text/plain": [
       "학생1    87.0\n",
       "학생2    85.0\n",
       "학생3    83.0\n",
       "학생4    81.0\n",
       "dtype: float64"
      ]
     },
     "execution_count": 23,
     "metadata": {},
     "output_type": "execute_result"
    }
   ],
   "source": [
    "s_sci_data_1.astype(\"float\")\n"
   ]
  },
  {
   "cell_type": "code",
   "execution_count": 24,
   "id": "bafaca06",
   "metadata": {},
   "outputs": [
    {
     "data": {
      "text/plain": [
       "학생1    87\n",
       "학생2    85\n",
       "학생3    83\n",
       "학생4    81\n",
       "dtype: string"
      ]
     },
     "execution_count": 24,
     "metadata": {},
     "output_type": "execute_result"
    }
   ],
   "source": [
    "s_sci_data_1.astype(\"string\")"
   ]
  },
  {
   "cell_type": "code",
   "execution_count": 25,
   "id": "766c06f3",
   "metadata": {},
   "outputs": [
    {
     "data": {
      "text/plain": [
       "학생1    87\n",
       "학생2    85\n",
       "학생3    83\n",
       "학생4    81\n",
       "dtype: object"
      ]
     },
     "execution_count": 25,
     "metadata": {},
     "output_type": "execute_result"
    }
   ],
   "source": [
    "s_sci_data_1.astype(\"object\") # pandas string=object"
   ]
  },
  {
   "cell_type": "code",
   "execution_count": null,
   "id": "1a0a56b0",
   "metadata": {},
   "outputs": [],
   "source": []
  }
 ],
 "metadata": {
  "kernelspec": {
   "display_name": "Python 3 (ipykernel)",
   "language": "python",
   "name": "python3"
  },
  "language_info": {
   "codemirror_mode": {
    "name": "ipython",
    "version": 3
   },
   "file_extension": ".py",
   "mimetype": "text/x-python",
   "name": "python",
   "nbconvert_exporter": "python",
   "pygments_lexer": "ipython3",
   "version": "3.10.0"
  }
 },
 "nbformat": 4,
 "nbformat_minor": 5
}
