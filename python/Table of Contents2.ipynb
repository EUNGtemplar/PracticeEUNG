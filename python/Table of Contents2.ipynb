{
 "cells": [
  {
   "cell_type": "code",
   "execution_count": 1,
   "id": "db4d35e2",
   "metadata": {},
   "outputs": [],
   "source": [
    "# 자료구조와 알고리즘\n",
    "# 운영체제\n",
    "# 분산 시스템\n",
    "# 네트워크 통신"
   ]
  },
  {
   "cell_type": "code",
   "execution_count": 2,
   "id": "7b1f0583",
   "metadata": {},
   "outputs": [
    {
     "ename": "SyntaxError",
     "evalue": "invalid syntax (1723630454.py, line 5)",
     "output_type": "error",
     "traceback": [
      "\u001b[0;36m  Cell \u001b[0;32mIn[2], line 5\u001b[0;36m\u001b[0m\n\u001b[0;31m    if div ?? 0: # div 가 0이 아닐 때\u001b[0m\n\u001b[0m           ^\u001b[0m\n\u001b[0;31mSyntaxError\u001b[0m\u001b[0;31m:\u001b[0m invalid syntax\n"
     ]
    }
   ],
   "source": [
    "def divide1(n, div):\n",
    "    return n/div\n",
    "\n",
    "def divide1(n, div):\n",
    "    if div ?? 0: # div 가 0이 아닐 때\n",
    "        return n/div\n",
    "    else\n",
    "    return -1\n"
   ]
  },
  {
   "cell_type": "code",
   "execution_count": 3,
   "id": "81dc1d06",
   "metadata": {},
   "outputs": [],
   "source": [
    "# 파이썬 언어 문법 : 영어 문법 (어법)\n",
    "# 자료 구조 알고리즘 : 프로그래밍 (어법)\n",
    "\n",
    "#array vs list\n",
    "# array : 길이 고정, 같은 종류 (int, float, ...) => 속도 빠름\n",
    "# list : 길이 가변, 여러 종류 (int, float, ...) => \n"
   ]
  },
  {
   "cell_type": "code",
   "execution_count": 4,
   "id": "a878222e",
   "metadata": {},
   "outputs": [
    {
     "data": {
      "text/plain": [
       "[1, 2, 3, 4]"
      ]
     },
     "execution_count": 4,
     "metadata": {},
     "output_type": "execute_result"
    }
   ],
   "source": [
    "list_a = [1,2,3,4]\n",
    "list_a"
   ]
  },
  {
   "cell_type": "code",
   "execution_count": 5,
   "id": "60fbb22a",
   "metadata": {},
   "outputs": [],
   "source": [
    "list_a.append(5)"
   ]
  },
  {
   "cell_type": "code",
   "execution_count": 6,
   "id": "255f02a5",
   "metadata": {},
   "outputs": [
    {
     "data": {
      "text/plain": [
       "[1, 2, 3, 4, 5]"
      ]
     },
     "execution_count": 6,
     "metadata": {},
     "output_type": "execute_result"
    }
   ],
   "source": [
    "list_a"
   ]
  },
  {
   "cell_type": "code",
   "execution_count": 7,
   "id": "7482de0e",
   "metadata": {},
   "outputs": [
    {
     "data": {
      "text/plain": [
       "[1, 2.5, 2, 3, 4, 5]"
      ]
     },
     "execution_count": 7,
     "metadata": {},
     "output_type": "execute_result"
    }
   ],
   "source": [
    "list_a.insert(1, 2.5)\n",
    "list_a"
   ]
  },
  {
   "cell_type": "code",
   "execution_count": 8,
   "id": "98fc1c75",
   "metadata": {},
   "outputs": [
    {
     "data": {
      "text/plain": [
       "[1, 2, 3, 4, 0, 0, 0]"
      ]
     },
     "execution_count": 8,
     "metadata": {},
     "output_type": "execute_result"
    }
   ],
   "source": [
    "array_a = [1,2,3,4,0,0,0]\n",
    "array_a"
   ]
  },
  {
   "cell_type": "code",
   "execution_count": 9,
   "id": "3f1d0556",
   "metadata": {},
   "outputs": [
    {
     "data": {
      "text/plain": [
       "[1, 2, 3, 4, 4, 0, 0]"
      ]
     },
     "execution_count": 9,
     "metadata": {},
     "output_type": "execute_result"
    }
   ],
   "source": [
    "array_a[4] = array_a[3]\n",
    "array_a"
   ]
  },
  {
   "cell_type": "code",
   "execution_count": 10,
   "id": "7c91e76d",
   "metadata": {},
   "outputs": [
    {
     "data": {
      "text/plain": [
       "[1, 2, 3, 3, 4, 0, 0]"
      ]
     },
     "execution_count": 10,
     "metadata": {},
     "output_type": "execute_result"
    }
   ],
   "source": [
    "array_a[3] = array_a[2]\n",
    "array_a"
   ]
  },
  {
   "cell_type": "code",
   "execution_count": 11,
   "id": "fb2e2631",
   "metadata": {},
   "outputs": [
    {
     "data": {
      "text/plain": [
       "[1, 2, 5, 3, 4, 0, 0]"
      ]
     },
     "execution_count": 11,
     "metadata": {},
     "output_type": "execute_result"
    }
   ],
   "source": [
    "array_a[2] = 5\n",
    "array_a"
   ]
  },
  {
   "cell_type": "code",
   "execution_count": 15,
   "id": "90fd64c0",
   "metadata": {},
   "outputs": [
    {
     "name": "stdout",
     "output_type": "stream",
     "text": [
      "n1의 data값: 값1\n",
      "n2의 data값: 값2\n",
      "n3의 data값: 값3\n"
     ]
    }
   ],
   "source": [
    "class Node :\n",
    "    def __init__(self, data_val):\n",
    "        self.data_val = data_val # 자신의 값\n",
    "        self.next_val = None # pointer\n",
    "\n",
    "class LinkedList:\n",
    "    def __init__(self):\n",
    "        self.head_val = None\n",
    "        \n",
    "mylist = LinkedList()\n",
    "n1 = Node(\"값1\")\n",
    "mylist.head_val = n1 \n",
    "n2 = Node(\"값2\")\n",
    "n1.next_val = n2\n",
    "n3 = Node(\"값3\")\n",
    "n2.next_val = n3\n",
    "\n",
    "print(\"n1의 data값:\", mylist.head_val.data_val)\n",
    "print(\"n2의 data값:\", mylist.head_val.next_val.data_val) \n",
    "print(\"n3의 data값:\", mylist.head_val.next_val.next_val.data_val)"
   ]
  },
  {
   "cell_type": "code",
   "execution_count": 20,
   "id": "a25063fd",
   "metadata": {},
   "outputs": [
    {
     "name": "stdout",
     "output_type": "stream",
     "text": [
      "리스트의 data값: 값1\n",
      "리스트의 data값: 값12사이\n",
      "리스트의 data값: 값2\n",
      "리스트의 data값: 값3\n"
     ]
    }
   ],
   "source": [
    "n1 = Node(\"값1\")\n",
    "n2 = Node(\"값2\")\n",
    "n3 = Node(\"값3\")\n",
    "nbetween12 = Node(\"값12사이\")\n",
    "mylist2 = LinkedList()\n",
    "mylist2.head_val = n1\n",
    "# 아래 두 줄 insert()\n",
    "n1.next_val = nbetween12\n",
    "nbetween12.next_val = n2\n",
    "# 아래 한 줄 append()\n",
    "n2.next_val = n3\n",
    "print(\"리스트의 data값:\", mylist2.head_val.data_val)\n",
    "print(\"리스트의 data값:\", mylist2.head_val.next_val.data_val) \n",
    "print(\"리스트의 data값:\", mylist2.head_val.next_val.next_val.data_val)\n",
    "print(\"리스트의 data값:\", mylist2.head_val.next_val.next_val.next_val.data_val)"
   ]
  },
  {
   "cell_type": "code",
   "execution_count": 22,
   "id": "769d4b01",
   "metadata": {},
   "outputs": [
    {
     "name": "stdout",
     "output_type": "stream",
     "text": [
      "5\n",
      "54321\n"
     ]
    }
   ],
   "source": [
    "#page37\n",
    "n = input()\n",
    "numbers = input()"
   ]
  },
  {
   "cell_type": "code",
   "execution_count": 23,
   "id": "afe42557",
   "metadata": {},
   "outputs": [
    {
     "data": {
      "text/plain": [
       "('5', '54321')"
      ]
     },
     "execution_count": 23,
     "metadata": {},
     "output_type": "execute_result"
    }
   ],
   "source": [
    "n, numbers"
   ]
  },
  {
   "cell_type": "code",
   "execution_count": 24,
   "id": "3da607d3",
   "metadata": {},
   "outputs": [
    {
     "name": "stdout",
     "output_type": "stream",
     "text": [
      "15\n"
     ]
    }
   ],
   "source": [
    "answer = 15\n",
    "print(answer)"
   ]
  },
  {
   "cell_type": "code",
   "execution_count": 26,
   "id": "af96b563",
   "metadata": {},
   "outputs": [
    {
     "name": "stdout",
     "output_type": "stream",
     "text": [
      "5\n",
      "54321\n",
      "15\n"
     ]
    }
   ],
   "source": [
    "n = input()\n",
    "numbers = input()\n",
    "sum_val=0\n",
    "for i in range(int(n)):\n",
    "    sum_val += int(numbers[i])\n",
    "    \n",
    "print(sum_val)"
   ]
  },
  {
   "cell_type": "code",
   "execution_count": 2,
   "id": "a9700a08",
   "metadata": {},
   "outputs": [
    {
     "name": "stdout",
     "output_type": "stream",
     "text": [
      "5\n",
      "54321\n"
     ]
    },
    {
     "data": {
      "text/plain": [
       "('5', ['5', '4', '3', '2', '1'])"
      ]
     },
     "execution_count": 2,
     "metadata": {},
     "output_type": "execute_result"
    }
   ],
   "source": [
    "n = input()\n",
    "numbers = list(input())\n",
    "n, numbers"
   ]
  },
  {
   "cell_type": "code",
   "execution_count": 28,
   "id": "8e9ab68f",
   "metadata": {},
   "outputs": [
    {
     "data": {
      "text/plain": [
       "10"
      ]
     },
     "execution_count": 28,
     "metadata": {},
     "output_type": "execute_result"
    }
   ],
   "source": [
    "sum([1,2,3,4])"
   ]
  },
  {
   "cell_type": "code",
   "execution_count": 1,
   "id": "9011eceb",
   "metadata": {},
   "outputs": [],
   "source": [
    "# sum = 0 'sum 함수기능 자체를 없애버리는 행위'\n",
    "# sum([1,2,3,4])"
   ]
  },
  {
   "cell_type": "code",
   "execution_count": 5,
   "id": "9ee920aa",
   "metadata": {},
   "outputs": [
    {
     "name": "stdout",
     "output_type": "stream",
     "text": [
      "15\n"
     ]
    }
   ],
   "source": [
    "sum_val = 0\n",
    "for i in numbers:\n",
    "    sum_val += int(i)\n",
    "print(sum_val)"
   ]
  },
  {
   "cell_type": "code",
   "execution_count": 8,
   "id": "99cbbb6c",
   "metadata": {},
   "outputs": [
    {
     "name": "stdout",
     "output_type": "stream",
     "text": [
      "3 4 5 \n",
      "받은 값 :  [3, 4, 5]\n"
     ]
    },
    {
     "data": {
      "text/plain": [
       "[3, 4, 5]"
      ]
     },
     "execution_count": 8,
     "metadata": {},
     "output_type": "execute_result"
    }
   ],
   "source": [
    "a = list(map(int, input().split()))\n",
    "print(\"받은 값 : \" , a)\n",
    "a"
   ]
  },
  {
   "cell_type": "code",
   "execution_count": 9,
   "id": "bf0ded0c",
   "metadata": {},
   "outputs": [
    {
     "name": "stdout",
     "output_type": "stream",
     "text": [
      "3\n",
      "40 80 60\n"
     ]
    },
    {
     "data": {
      "text/plain": [
       "(3, [40, 80, 60])"
      ]
     },
     "execution_count": 9,
     "metadata": {},
     "output_type": "execute_result"
    }
   ],
   "source": [
    "# p38\n",
    "\n",
    "n = int(input())\n",
    "list_in = list(map(int, input().split()))\n",
    "n, list_in"
   ]
  },
  {
   "cell_type": "code",
   "execution_count": 10,
   "id": "4e76ab11",
   "metadata": {},
   "outputs": [
    {
     "data": {
      "text/plain": [
       "80"
      ]
     },
     "execution_count": 10,
     "metadata": {},
     "output_type": "execute_result"
    }
   ],
   "source": [
    "max_point = max(list_in)\n",
    "max_point"
   ]
  },
  {
   "cell_type": "code",
   "execution_count": 12,
   "id": "20850ce8",
   "metadata": {},
   "outputs": [
    {
     "data": {
      "text/plain": [
       "75.0"
      ]
     },
     "execution_count": 12,
     "metadata": {},
     "output_type": "execute_result"
    }
   ],
   "source": [
    "#(list_in[0]/80 + list_in[0]/80 + list_in[2]/80)/3\n",
    "#(list_in[0] + list_in[1] + list_in[2])/80*100/3\n",
    "sum(list_in)/80*100/3"
   ]
  },
  {
   "cell_type": "code",
   "execution_count": 13,
   "id": "d46fb598",
   "metadata": {
    "scrolled": true
   },
   "outputs": [
    {
     "data": {
      "text/plain": [
       "75.0"
      ]
     },
     "execution_count": 13,
     "metadata": {},
     "output_type": "execute_result"
    }
   ],
   "source": [
    "sum(list_in)/max_point*100/n"
   ]
  },
  {
   "cell_type": "code",
   "execution_count": 14,
   "id": "0ce74034",
   "metadata": {},
   "outputs": [
    {
     "name": "stdout",
     "output_type": "stream",
     "text": [
      "80\n",
      "40\n"
     ]
    },
    {
     "data": {
      "text/plain": [
       "1.25"
      ]
     },
     "execution_count": 14,
     "metadata": {},
     "output_type": "execute_result"
    }
   ],
   "source": [
    "n = int(input())\n",
    "list_in = list(map(int, input().split()))\n",
    "max_point = max(list_in)\n",
    "sum(list_in)/max_point*100/n"
   ]
  },
  {
   "cell_type": "code",
   "execution_count": 15,
   "id": "bff97b4c",
   "metadata": {},
   "outputs": [],
   "source": [
    "# 예제 입력, 예제 추력: 테스트 케이스\n",
    "# 문제에서 제시 되지 않고 자동 채점기에만 존재하는 케이스 : 히든 케이스\n",
    "\n",
    "# memoization (memoiztion )"
   ]
  },
  {
   "cell_type": "code",
   "execution_count": 23,
   "id": "a4ce60e9",
   "metadata": {},
   "outputs": [
    {
     "name": "stdout",
     "output_type": "stream",
     "text": [
      "5 3\n",
      "5 4 3 2 1\n",
      "1 3\n",
      "7\n",
      "2 4\n",
      "5\n",
      "5 5\n",
      "0\n"
     ]
    }
   ],
   "source": [
    "suNO, quizNo = list(map(int, input().split() ))\n",
    "\n",
    "numbers = list(map(int, input().split() ))\n",
    "prefix_sum = [0]\n",
    "temp = 0\n",
    "for i in numbers:\n",
    "    temp += i\n",
    "    prefix_sum.append(temp)\n",
    "\n",
    "for quiz in range(quizNo):\n",
    "    start_i, end_i = list(map(int, input().split() ))\n",
    "    ans = prefix_sum[end_i] - prefix_sum[start_i]\n",
    "\n",
    "    print(ans)"
   ]
  },
  {
   "cell_type": "code",
   "execution_count": 27,
   "id": "fe9e7725",
   "metadata": {},
   "outputs": [
    {
     "data": {
      "text/plain": [
       "[[0, 0, 0, 0, 0]]"
      ]
     },
     "execution_count": 27,
     "metadata": {},
     "output_type": "execute_result"
    }
   ],
   "source": [
    "n = 4\n",
    "A = [[0]*(n+1)]\n",
    "A"
   ]
  },
  {
   "cell_type": "code",
   "execution_count": 25,
   "id": "c2147790",
   "metadata": {},
   "outputs": [
    {
     "data": {
      "text/plain": [
       "[[0, 0, 0, 0, 0],\n",
       " [0, 0, 0, 0, 0],\n",
       " [0, 0, 0, 0, 0],\n",
       " [0, 0, 0, 0, 0],\n",
       " [0, 0, 0, 0, 0]]"
      ]
     },
     "execution_count": 25,
     "metadata": {},
     "output_type": "execute_result"
    }
   ],
   "source": [
    "D = [[0]*(n+1) for i in range(n+1)]\n",
    "D"
   ]
  },
  {
   "cell_type": "code",
   "execution_count": null,
   "id": "63106de7",
   "metadata": {},
   "outputs": [],
   "source": [
    "[i for i in range(n+1)]"
   ]
  },
  {
   "cell_type": "code",
   "execution_count": 28,
   "id": "40f768b0",
   "metadata": {},
   "outputs": [
    {
     "name": "stdout",
     "output_type": "stream",
     "text": [
      "ㄴ\n"
     ]
    },
    {
     "ename": "ValueError",
     "evalue": "invalid literal for int() with base 10: 'ㄴ'",
     "output_type": "error",
     "traceback": [
      "\u001b[0;31m---------------------------------------------------------------------------\u001b[0m",
      "\u001b[0;31mValueError\u001b[0m                                Traceback (most recent call last)",
      "Cell \u001b[0;32mIn[28], line 1\u001b[0m\n\u001b[0;32m----> 1\u001b[0m n, m \u001b[38;5;241m=\u001b[39m \u001b[38;5;28;43mlist\u001b[39;49m\u001b[43m(\u001b[49m\u001b[38;5;28;43mmap\u001b[39;49m\u001b[43m(\u001b[49m\u001b[38;5;28;43mint\u001b[39;49m\u001b[43m,\u001b[49m\u001b[43m \u001b[49m\u001b[38;5;28;43minput\u001b[39;49m\u001b[43m(\u001b[49m\u001b[43m)\u001b[49m\u001b[38;5;241;43m.\u001b[39;49m\u001b[43msplit\u001b[49m\u001b[43m(\u001b[49m\u001b[43m)\u001b[49m\u001b[43m)\u001b[49m\u001b[43m)\u001b[49m\n",
      "\u001b[0;31mValueError\u001b[0m: invalid literal for int() with base 10: 'ㄴ'"
     ]
    }
   ],
   "source": [
    "n, m = list(map(int, input().split()))"
   ]
  },
  {
   "cell_type": "code",
   "execution_count": 29,
   "id": "f8555021",
   "metadata": {},
   "outputs": [
    {
     "ename": "NameError",
     "evalue": "name 'tmep' is not defined",
     "output_type": "error",
     "traceback": [
      "\u001b[0;31m---------------------------------------------------------------------------\u001b[0m",
      "\u001b[0;31mNameError\u001b[0m                                 Traceback (most recent call last)",
      "Cell \u001b[0;32mIn[29], line 5\u001b[0m\n\u001b[1;32m      3\u001b[0m temp \u001b[38;5;241m=\u001b[39m \u001b[38;5;241m0\u001b[39m \n\u001b[1;32m      4\u001b[0m \u001b[38;5;28;01mfor\u001b[39;00m i \u001b[38;5;129;01min\u001b[39;00m numbers :\n\u001b[0;32m----> 5\u001b[0m     tmep \u001b[38;5;241m+\u001b[39m\u001b[38;5;241m=\u001b[39m i\n\u001b[1;32m      6\u001b[0m     prefix_sum\u001b[38;5;241m.\u001b[39mappend(temp)\n\u001b[1;32m      7\u001b[0m prefix_sum\n",
      "\u001b[0;31mNameError\u001b[0m: name 'tmep' is not defined"
     ]
    }
   ],
   "source": [
    "numbers = [5, 4, 3, 2, 1]\n",
    "prefix_sum = [0]\n",
    "temp = 0 \n",
    "for i in numbers :\n",
    "    tmep += i\n",
    "    prefix_sum.append(temp)\n",
    "prefix_sum"
   ]
  },
  {
   "cell_type": "code",
   "execution_count": null,
   "id": "8758281e",
   "metadata": {},
   "outputs": [],
   "source": []
  }
 ],
 "metadata": {
  "kernelspec": {
   "display_name": "Python 3 (ipykernel)",
   "language": "python",
   "name": "python3"
  },
  "language_info": {
   "codemirror_mode": {
    "name": "ipython",
    "version": 3
   },
   "file_extension": ".py",
   "mimetype": "text/x-python",
   "name": "python",
   "nbconvert_exporter": "python",
   "pygments_lexer": "ipython3",
   "version": "3.10.0"
  }
 },
 "nbformat": 4,
 "nbformat_minor": 5
}
