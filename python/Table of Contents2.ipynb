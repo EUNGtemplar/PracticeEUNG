{
 "cells": [
  {
   "cell_type": "code",
   "execution_count": 1,
   "id": "db4d35e2",
   "metadata": {},
   "outputs": [],
   "source": [
    "# 자료구조와 알고리즘\n",
    "# 운영체제\n",
    "# 분산 시스템\n",
    "# 네트워크 통신"
   ]
  },
  {
   "cell_type": "code",
   "execution_count": 2,
   "id": "7b1f0583",
   "metadata": {},
   "outputs": [
    {
     "ename": "SyntaxError",
     "evalue": "invalid syntax (1723630454.py, line 5)",
     "output_type": "error",
     "traceback": [
      "\u001b[0;36m  Cell \u001b[0;32mIn[2], line 5\u001b[0;36m\u001b[0m\n\u001b[0;31m    if div ?? 0: # div 가 0이 아닐 때\u001b[0m\n\u001b[0m           ^\u001b[0m\n\u001b[0;31mSyntaxError\u001b[0m\u001b[0;31m:\u001b[0m invalid syntax\n"
     ]
    }
   ],
   "source": [
    "def divide1(n, div):\n",
    "    return n/div\n",
    "\n",
    "def divide1(n, div):\n",
    "    if div ?? 0: # div 가 0이 아닐 때\n",
    "        return n/div\n",
    "    else\n",
    "    return -1\n"
   ]
  },
  {
   "cell_type": "code",
   "execution_count": 3,
   "id": "81dc1d06",
   "metadata": {},
   "outputs": [],
   "source": [
    "# 파이썬 언어 문법 : 영어 문법 (어법)\n",
    "# 자료 구조 알고리즘 : 프로그래밍 (어법)\n",
    "\n",
    "#array vs list\n",
    "# array : 길이 고정, 같은 종류 (int, float, ...) => 속도 빠름\n",
    "# list : 길이 가변, 여러 종류 (int, float, ...) => \n"
   ]
  },
  {
   "cell_type": "code",
   "execution_count": 4,
   "id": "a878222e",
   "metadata": {},
   "outputs": [
    {
     "data": {
      "text/plain": [
       "[1, 2, 3, 4]"
      ]
     },
     "execution_count": 4,
     "metadata": {},
     "output_type": "execute_result"
    }
   ],
   "source": [
    "list_a = [1,2,3,4]\n",
    "list_a"
   ]
  },
  {
   "cell_type": "code",
   "execution_count": 5,
   "id": "60fbb22a",
   "metadata": {},
   "outputs": [],
   "source": [
    "list_a.append(5)"
   ]
  },
  {
   "cell_type": "code",
   "execution_count": 6,
   "id": "255f02a5",
   "metadata": {},
   "outputs": [
    {
     "data": {
      "text/plain": [
       "[1, 2, 3, 4, 5]"
      ]
     },
     "execution_count": 6,
     "metadata": {},
     "output_type": "execute_result"
    }
   ],
   "source": [
    "list_a"
   ]
  },
  {
   "cell_type": "code",
   "execution_count": 7,
   "id": "7482de0e",
   "metadata": {},
   "outputs": [
    {
     "data": {
      "text/plain": [
       "[1, 2.5, 2, 3, 4, 5]"
      ]
     },
     "execution_count": 7,
     "metadata": {},
     "output_type": "execute_result"
    }
   ],
   "source": [
    "list_a.insert(1, 2.5)\n",
    "list_a"
   ]
  },
  {
   "cell_type": "code",
   "execution_count": 8,
   "id": "98fc1c75",
   "metadata": {},
   "outputs": [
    {
     "data": {
      "text/plain": [
       "[1, 2, 3, 4, 0, 0, 0]"
      ]
     },
     "execution_count": 8,
     "metadata": {},
     "output_type": "execute_result"
    }
   ],
   "source": [
    "array_a = [1,2,3,4,0,0,0]\n",
    "array_a"
   ]
  },
  {
   "cell_type": "code",
   "execution_count": 9,
   "id": "3f1d0556",
   "metadata": {},
   "outputs": [
    {
     "data": {
      "text/plain": [
       "[1, 2, 3, 4, 4, 0, 0]"
      ]
     },
     "execution_count": 9,
     "metadata": {},
     "output_type": "execute_result"
    }
   ],
   "source": [
    "array_a[4] = array_a[3]\n",
    "array_a"
   ]
  },
  {
   "cell_type": "code",
   "execution_count": 10,
   "id": "7c91e76d",
   "metadata": {},
   "outputs": [
    {
     "data": {
      "text/plain": [
       "[1, 2, 3, 3, 4, 0, 0]"
      ]
     },
     "execution_count": 10,
     "metadata": {},
     "output_type": "execute_result"
    }
   ],
   "source": [
    "array_a[3] = array_a[2]\n",
    "array_a"
   ]
  },
  {
   "cell_type": "code",
   "execution_count": 11,
   "id": "fb2e2631",
   "metadata": {},
   "outputs": [
    {
     "data": {
      "text/plain": [
       "[1, 2, 5, 3, 4, 0, 0]"
      ]
     },
     "execution_count": 11,
     "metadata": {},
     "output_type": "execute_result"
    }
   ],
   "source": [
    "array_a[2] = 5\n",
    "array_a"
   ]
  },
  {
   "cell_type": "code",
   "execution_count": 15,
   "id": "90fd64c0",
   "metadata": {},
   "outputs": [
    {
     "name": "stdout",
     "output_type": "stream",
     "text": [
      "n1의 data값: 값1\n",
      "n2의 data값: 값2\n",
      "n3의 data값: 값3\n"
     ]
    }
   ],
   "source": [
    "class Node :\n",
    "    def __init__(self, data_val):\n",
    "        self.data_val = data_val # 자신의 값\n",
    "        self.next_val = None # pointer\n",
    "\n",
    "class LinkedList:\n",
    "    def __init__(self):\n",
    "        self.head_val = None\n",
    "        \n",
    "mylist = LinkedList()\n",
    "n1 = Node(\"값1\")\n",
    "mylist.head_val = n1 \n",
    "n2 = Node(\"값2\")\n",
    "n1.next_val = n2\n",
    "n3 = Node(\"값3\")\n",
    "n2.next_val = n3\n",
    "\n",
    "print(\"n1의 data값:\", mylist.head_val.data_val)\n",
    "print(\"n2의 data값:\", mylist.head_val.next_val.data_val) \n",
    "print(\"n3의 data값:\", mylist.head_val.next_val.next_val.data_val)"
   ]
  },
  {
   "cell_type": "code",
   "execution_count": 20,
   "id": "a25063fd",
   "metadata": {},
   "outputs": [
    {
     "name": "stdout",
     "output_type": "stream",
     "text": [
      "리스트의 data값: 값1\n",
      "리스트의 data값: 값12사이\n",
      "리스트의 data값: 값2\n",
      "리스트의 data값: 값3\n"
     ]
    }
   ],
   "source": [
    "n1 = Node(\"값1\")\n",
    "n2 = Node(\"값2\")\n",
    "n3 = Node(\"값3\")\n",
    "nbetween12 = Node(\"값12사이\")\n",
    "mylist2 = LinkedList()\n",
    "mylist2.head_val = n1\n",
    "# 아래 두 줄 insert()\n",
    "n1.next_val = nbetween12\n",
    "nbetween12.next_val = n2\n",
    "# 아래 한 줄 append()\n",
    "n2.next_val = n3\n",
    "print(\"리스트의 data값:\", mylist2.head_val.data_val)\n",
    "print(\"리스트의 data값:\", mylist2.head_val.next_val.data_val) \n",
    "print(\"리스트의 data값:\", mylist2.head_val.next_val.next_val.data_val)\n",
    "print(\"리스트의 data값:\", mylist2.head_val.next_val.next_val.next_val.data_val)"
   ]
  },
  {
   "cell_type": "code",
   "execution_count": 22,
   "id": "769d4b01",
   "metadata": {},
   "outputs": [
    {
     "name": "stdout",
     "output_type": "stream",
     "text": [
      "5\n",
      "54321\n"
     ]
    }
   ],
   "source": [
    "#page37\n",
    "n = input()\n",
    "numbers = input()"
   ]
  },
  {
   "cell_type": "code",
   "execution_count": 23,
   "id": "afe42557",
   "metadata": {},
   "outputs": [
    {
     "data": {
      "text/plain": [
       "('5', '54321')"
      ]
     },
     "execution_count": 23,
     "metadata": {},
     "output_type": "execute_result"
    }
   ],
   "source": [
    "n, numbers"
   ]
  },
  {
   "cell_type": "code",
   "execution_count": 24,
   "id": "3da607d3",
   "metadata": {},
   "outputs": [
    {
     "name": "stdout",
     "output_type": "stream",
     "text": [
      "15\n"
     ]
    }
   ],
   "source": [
    "answer = 15\n",
    "print(answer)"
   ]
  },
  {
   "cell_type": "code",
   "execution_count": 26,
   "id": "af96b563",
   "metadata": {},
   "outputs": [
    {
     "name": "stdout",
     "output_type": "stream",
     "text": [
      "5\n",
      "54321\n",
      "15\n"
     ]
    }
   ],
   "source": [
    "n = input()\n",
    "numbers = input()\n",
    "sum_val=0\n",
    "for i in range(int(n)):\n",
    "    sum_val += int(numbers[i])\n",
    "    \n",
    "print(sum_val)"
   ]
  },
  {
   "cell_type": "code",
   "execution_count": 2,
   "id": "a9700a08",
   "metadata": {},
   "outputs": [
    {
     "name": "stdout",
     "output_type": "stream",
     "text": [
      "5\n",
      "54321\n"
     ]
    },
    {
     "data": {
      "text/plain": [
       "('5', ['5', '4', '3', '2', '1'])"
      ]
     },
     "execution_count": 2,
     "metadata": {},
     "output_type": "execute_result"
    }
   ],
   "source": [
    "n = input()\n",
    "numbers = list(input())\n",
    "n, numbers"
   ]
  },
  {
   "cell_type": "code",
   "execution_count": 28,
   "id": "8e9ab68f",
   "metadata": {},
   "outputs": [
    {
     "data": {
      "text/plain": [
       "10"
      ]
     },
     "execution_count": 28,
     "metadata": {},
     "output_type": "execute_result"
    }
   ],
   "source": [
    "sum([1,2,3,4])"
   ]
  },
  {
   "cell_type": "code",
   "execution_count": 1,
   "id": "9011eceb",
   "metadata": {},
   "outputs": [],
   "source": [
    "# sum = 0 'sum 함수기능 자체를 없애버리는 행위'\n",
    "# sum([1,2,3,4])"
   ]
  },
  {
   "cell_type": "code",
   "execution_count": 5,
   "id": "9ee920aa",
   "metadata": {},
   "outputs": [
    {
     "name": "stdout",
     "output_type": "stream",
     "text": [
      "15\n"
     ]
    }
   ],
   "source": [
    "sum_val = 0\n",
    "for i in numbers:\n",
    "    sum_val += int(i)\n",
    "print(sum_val)"
   ]
  },
  {
   "cell_type": "code",
   "execution_count": 8,
   "id": "99cbbb6c",
   "metadata": {},
   "outputs": [
    {
     "name": "stdout",
     "output_type": "stream",
     "text": [
      "3 4 5 \n",
      "받은 값 :  [3, 4, 5]\n"
     ]
    },
    {
     "data": {
      "text/plain": [
       "[3, 4, 5]"
      ]
     },
     "execution_count": 8,
     "metadata": {},
     "output_type": "execute_result"
    }
   ],
   "source": [
    "a = list(map(int, input().split())) #split 여러개의 숫자 받기\n",
    "print(\"받은 값 : \" , a) # map 과 list를 묶어서 쓰는것이 좋다\n",
    "a"
   ]
  },
  {
   "cell_type": "code",
   "execution_count": 9,
   "id": "bf0ded0c",
   "metadata": {},
   "outputs": [
    {
     "name": "stdout",
     "output_type": "stream",
     "text": [
      "3\n",
      "40 80 60\n"
     ]
    },
    {
     "data": {
      "text/plain": [
       "(3, [40, 80, 60])"
      ]
     },
     "execution_count": 9,
     "metadata": {},
     "output_type": "execute_result"
    }
   ],
   "source": [
    "# p38\n",
    "\n",
    "n = int(input())\n",
    "list_in = list(map(int, input().split()))\n",
    "n, list_in"
   ]
  },
  {
   "cell_type": "code",
   "execution_count": 10,
   "id": "4e76ab11",
   "metadata": {},
   "outputs": [
    {
     "data": {
      "text/plain": [
       "80"
      ]
     },
     "execution_count": 10,
     "metadata": {},
     "output_type": "execute_result"
    }
   ],
   "source": [
    "max_point = max(list_in)\n",
    "max_point"
   ]
  },
  {
   "cell_type": "code",
   "execution_count": 12,
   "id": "20850ce8",
   "metadata": {},
   "outputs": [
    {
     "data": {
      "text/plain": [
       "75.0"
      ]
     },
     "execution_count": 12,
     "metadata": {},
     "output_type": "execute_result"
    }
   ],
   "source": [
    "#(list_in[0]/80 + list_in[0]/80 + list_in[2]/80)/3\n",
    "#(list_in[0] + list_in[1] + list_in[2])/80*100/3\n",
    "sum(list_in)/80*100/3"
   ]
  },
  {
   "cell_type": "code",
   "execution_count": 13,
   "id": "d46fb598",
   "metadata": {
    "scrolled": true
   },
   "outputs": [
    {
     "data": {
      "text/plain": [
       "75.0"
      ]
     },
     "execution_count": 13,
     "metadata": {},
     "output_type": "execute_result"
    }
   ],
   "source": [
    "sum(list_in)/max_point*100/n"
   ]
  },
  {
   "cell_type": "code",
   "execution_count": 14,
   "id": "0ce74034",
   "metadata": {},
   "outputs": [
    {
     "name": "stdout",
     "output_type": "stream",
     "text": [
      "80\n",
      "40\n"
     ]
    },
    {
     "data": {
      "text/plain": [
       "1.25"
      ]
     },
     "execution_count": 14,
     "metadata": {},
     "output_type": "execute_result"
    }
   ],
   "source": [
    "n = int(input())\n",
    "list_in = list(map(int, input().split()))\n",
    "max_point = max(list_in)\n",
    "sum(list_in)/max_point*100/n"
   ]
  },
  {
   "cell_type": "code",
   "execution_count": 15,
   "id": "bff97b4c",
   "metadata": {},
   "outputs": [],
   "source": [
    "# 예제 입력, 예제 추력: 테스트 케이스\n",
    "# 문제에서 제시 되지 않고 자동 채점기에만 존재하는 케이스 : 히든 케이스\n",
    "\n",
    "# memoization (memoiztion x)"
   ]
  },
  {
   "cell_type": "code",
   "execution_count": 23,
   "id": "a4ce60e9",
   "metadata": {},
   "outputs": [
    {
     "name": "stdout",
     "output_type": "stream",
     "text": [
      "5 3\n",
      "5 4 3 2 1\n",
      "1 3\n",
      "7\n",
      "2 4\n",
      "5\n",
      "5 5\n",
      "0\n"
     ]
    }
   ],
   "source": [
    "suNO, quizNo = list(map(int, input().split() ))\n",
    "\n",
    "numbers = list(map(int, input().split() ))\n",
    "prefix_sum = [0]\n",
    "temp = 0\n",
    "for i in numbers:\n",
    "    temp += i\n",
    "    prefix_sum.append(temp)\n",
    "\n",
    "for quiz in range(quizNo):\n",
    "    start_i, end_i = list(map(int, input().split() ))\n",
    "    ans = prefix_sum[end_i] - prefix_sum[start_i]\n",
    "\n",
    "    print(ans)"
   ]
  },
  {
   "cell_type": "code",
   "execution_count": 27,
   "id": "fe9e7725",
   "metadata": {},
   "outputs": [
    {
     "data": {
      "text/plain": [
       "[[0, 0, 0, 0, 0]]"
      ]
     },
     "execution_count": 27,
     "metadata": {},
     "output_type": "execute_result"
    }
   ],
   "source": [
    "n = 4\n",
    "A = [[0]*(n+1)]\n",
    "A"
   ]
  },
  {
   "cell_type": "code",
   "execution_count": 25,
   "id": "c2147790",
   "metadata": {},
   "outputs": [
    {
     "data": {
      "text/plain": [
       "[[0, 0, 0, 0, 0],\n",
       " [0, 0, 0, 0, 0],\n",
       " [0, 0, 0, 0, 0],\n",
       " [0, 0, 0, 0, 0],\n",
       " [0, 0, 0, 0, 0]]"
      ]
     },
     "execution_count": 25,
     "metadata": {},
     "output_type": "execute_result"
    }
   ],
   "source": [
    "D = [[0]*(n+1) for i in range(n+1)]\n",
    "D"
   ]
  },
  {
   "cell_type": "code",
   "execution_count": null,
   "id": "63106de7",
   "metadata": {},
   "outputs": [],
   "source": [
    "[i for i in range(n+1)]"
   ]
  },
  {
   "cell_type": "code",
   "execution_count": 1,
   "id": "40f768b0",
   "metadata": {},
   "outputs": [
    {
     "name": "stdout",
     "output_type": "stream",
     "text": [
      "1\n"
     ]
    },
    {
     "ename": "ValueError",
     "evalue": "not enough values to unpack (expected 2, got 1)",
     "output_type": "error",
     "traceback": [
      "\u001b[0;31m---------------------------------------------------------------------------\u001b[0m",
      "\u001b[0;31mValueError\u001b[0m                                Traceback (most recent call last)",
      "Cell \u001b[0;32mIn[1], line 1\u001b[0m\n\u001b[0;32m----> 1\u001b[0m n, m \u001b[38;5;241m=\u001b[39m \u001b[38;5;28mlist\u001b[39m(\u001b[38;5;28mmap\u001b[39m(\u001b[38;5;28mint\u001b[39m, \u001b[38;5;28minput\u001b[39m()\u001b[38;5;241m.\u001b[39msplit()))\n",
      "\u001b[0;31mValueError\u001b[0m: not enough values to unpack (expected 2, got 1)"
     ]
    }
   ],
   "source": [
    "n, m = list(map(int, input().split()))"
   ]
  },
  {
   "cell_type": "code",
   "execution_count": 29,
   "id": "f8555021",
   "metadata": {
    "scrolled": true
   },
   "outputs": [
    {
     "ename": "NameError",
     "evalue": "name 'tmep' is not defined",
     "output_type": "error",
     "traceback": [
      "\u001b[0;31m---------------------------------------------------------------------------\u001b[0m",
      "\u001b[0;31mNameError\u001b[0m                                 Traceback (most recent call last)",
      "Cell \u001b[0;32mIn[29], line 5\u001b[0m\n\u001b[1;32m      3\u001b[0m temp \u001b[38;5;241m=\u001b[39m \u001b[38;5;241m0\u001b[39m \n\u001b[1;32m      4\u001b[0m \u001b[38;5;28;01mfor\u001b[39;00m i \u001b[38;5;129;01min\u001b[39;00m numbers :\n\u001b[0;32m----> 5\u001b[0m     tmep \u001b[38;5;241m+\u001b[39m\u001b[38;5;241m=\u001b[39m i\n\u001b[1;32m      6\u001b[0m     prefix_sum\u001b[38;5;241m.\u001b[39mappend(temp)\n\u001b[1;32m      7\u001b[0m prefix_sum\n",
      "\u001b[0;31mNameError\u001b[0m: name 'tmep' is not defined"
     ]
    }
   ],
   "source": [
    "numbers = [5, 4, 3, 2, 1]\n",
    "prefix_sum = [0]\n",
    "temp = 0 \n",
    "for i in numbers :\n",
    "    tmep += i\n",
    "    prefix_sum.append(temp)\n",
    "prefix_sum"
   ]
  },
  {
   "cell_type": "code",
   "execution_count": 7,
   "id": "8758281e",
   "metadata": {},
   "outputs": [
    {
     "name": "stdout",
     "output_type": "stream",
     "text": [
      "4 3 \n",
      "1 2 3 4\n",
      "2 3 4 5\n",
      "3 4 5 6\n",
      "4 5 6 7\n"
     ]
    }
   ],
   "source": [
    "n, m = list(map(int, input().split() )) # n:4, m:3\n",
    "입력  = [ [0]*(n+1)]\n",
    "누적  = [[0]*(n+1) for i in range(n+1)]\n",
    "\n",
    "for i in range(n):\n",
    "    입력_행 = [0] + list(map(int, input().split()))\n",
    "    입력.append(입력_행)"
   ]
  },
  {
   "cell_type": "code",
   "execution_count": 8,
   "id": "4866cc8f",
   "metadata": {},
   "outputs": [
    {
     "data": {
      "text/plain": [
       "[[0, 0, 0, 0, 0],\n",
       " [0, 1, 2, 3, 4],\n",
       " [0, 2, 3, 4, 5],\n",
       " [0, 3, 4, 5, 6],\n",
       " [0, 4, 5, 6, 7]]"
      ]
     },
     "execution_count": 8,
     "metadata": {},
     "output_type": "execute_result"
    }
   ],
   "source": [
    "입력"
   ]
  },
  {
   "cell_type": "code",
   "execution_count": 19,
   "id": "e73f8f8f",
   "metadata": {},
   "outputs": [
    {
     "name": "stdout",
     "output_type": "stream",
     "text": [
      "4 3\n",
      "1 2 3 4\n",
      "2 3 4 5\n",
      "3 4 5 6\n",
      "4 5 6 7\n",
      "2 2 3 4\n",
      "27\n",
      "3 4 3 4\n",
      "6\n",
      "1 1 4 4\n",
      "64\n"
     ]
    }
   ],
   "source": [
    "\n",
    "n, m = list(map(int, input().split() )) # n:4, m:3\n",
    "입력  = [ [0]*(n+1)]\n",
    "누적  = [[0]*(n+1) for i in range(n+1)]\n",
    "\n",
    "for i in range(n):\n",
    "    입력_행 = [0] + list(map(int, input().split()))\n",
    "    입력.append(입력_행)\n",
    "    \n",
    "for 행 in range(1, n+1):\n",
    "    for 열 in range(1, n+1):\n",
    "        누적[행][열] = 누적[행][열-1]+누적[행-1][열]+입력[행][열] - 누적[행-1][열-1]\n",
    "            \n",
    "for prob_set in range(m):\n",
    "    x1, y1, x2, y2 = list(map(int, input().split()))\n",
    "    ans = 누적[x2][y2] - 누적[x1-1][y2] - 누적[x2][y1-1] + 누적[x1-1][y1-1]\n",
    "    print(ans)\n",
    "            \n",
    "            "
   ]
  },
  {
   "cell_type": "code",
   "execution_count": 17,
   "id": "0244f3cf",
   "metadata": {},
   "outputs": [
    {
     "data": {
      "text/plain": [
       "(1, 1, 4, 4)"
      ]
     },
     "execution_count": 17,
     "metadata": {},
     "output_type": "execute_result"
    }
   ],
   "source": [
    "x1, y1, x2, y2"
   ]
  },
  {
   "cell_type": "code",
   "execution_count": 24,
   "id": "7b8248eb",
   "metadata": {},
   "outputs": [
    {
     "name": "stdout",
     "output_type": "stream",
     "text": [
      "4 3 \n",
      "1 2 3 4\n",
      "2 3 4 5\n",
      "3 4 5 6\n",
      "4 5 6 7\n",
      "2 2 3 4\n",
      "27\n",
      "3 4 3 4\n",
      "6\n",
      "1 1 4 4\n",
      "64\n"
     ]
    }
   ],
   "source": [
    "# 있는 그대로 풀이 \n",
    "n, m = list(map(int, input().split() )) # n:4, m:3\n",
    "arr = []\n",
    "for i in range(n):\n",
    "    arr.append(list(map(int, input().split() )))\n",
    "               \n",
    "for prob_set in range(m):\n",
    "    x1, y1, x2, y2 = list(map(int, input().split()))\n",
    "    sum_val = 0\n",
    "    for row in range(x1-1, x2):\n",
    "        for col in range(y1-1, y2):\n",
    "            sum_val += arr[row][col]\n",
    "    print(sum_val)"
   ]
  },
  {
   "cell_type": "code",
   "execution_count": 40,
   "id": "c1920118",
   "metadata": {},
   "outputs": [],
   "source": [
    "import time"
   ]
  },
  {
   "cell_type": "code",
   "execution_count": 41,
   "id": "0cc91527",
   "metadata": {},
   "outputs": [
    {
     "name": "stdout",
     "output_type": "stream",
     "text": [
      "3 4\n",
      "1 2 3 4\n",
      "2 3 4 5\n",
      "3 4 5 6\n",
      "4 5 6 7\n"
     ]
    },
    {
     "ename": "IndexError",
     "evalue": "list index out of range",
     "output_type": "error",
     "traceback": [
      "\u001b[0;31m---------------------------------------------------------------------------\u001b[0m",
      "\u001b[0;31mIndexError\u001b[0m                                Traceback (most recent call last)",
      "Cell \u001b[0;32mIn[41], line 21\u001b[0m\n\u001b[1;32m     19\u001b[0m x1, y1, x2, y2 \u001b[38;5;241m=\u001b[39m \u001b[38;5;28mlist\u001b[39m(\u001b[38;5;28mmap\u001b[39m(\u001b[38;5;28mint\u001b[39m, \u001b[38;5;28minput\u001b[39m()\u001b[38;5;241m.\u001b[39msplit()))\n\u001b[1;32m     20\u001b[0m t1 \u001b[38;5;241m=\u001b[39m time\u001b[38;5;241m.\u001b[39mtime()\n\u001b[0;32m---> 21\u001b[0m ans \u001b[38;5;241m=\u001b[39m \u001b[43m누적\u001b[49m\u001b[43m[\u001b[49m\u001b[43mx2\u001b[49m\u001b[43m]\u001b[49m[y2] \u001b[38;5;241m-\u001b[39m 누적[x1\u001b[38;5;241m-\u001b[39m\u001b[38;5;241m1\u001b[39m][y2] \u001b[38;5;241m-\u001b[39m 누적[x2][y1\u001b[38;5;241m-\u001b[39m\u001b[38;5;241m1\u001b[39m] \u001b[38;5;241m+\u001b[39m 누적[x1\u001b[38;5;241m-\u001b[39m\u001b[38;5;241m1\u001b[39m][y1\u001b[38;5;241m-\u001b[39m\u001b[38;5;241m1\u001b[39m]\n\u001b[1;32m     22\u001b[0m t2 \u001b[38;5;241m=\u001b[39m time\u001b[38;5;241m.\u001b[39mtime()\n\u001b[1;32m     23\u001b[0m time_spent \u001b[38;5;241m+\u001b[39m\u001b[38;5;241m=\u001b[39m t2 \u001b[38;5;241m-\u001b[39m t1\n",
      "\u001b[0;31mIndexError\u001b[0m: list index out of range"
     ]
    }
   ],
   "source": [
    "time_spent = 0 # 입력하는 부분 시간 계산 X\n",
    "\n",
    "n, m = list(map(int, input().split() )) # n:4, m:3\n",
    "입력  = [ [0]*(n+1)] # a 입력값\n",
    "누적  = [[0]*(n+1) for i in range(n+1)] # d: 누적값\n",
    "\n",
    "for i in range(n):\n",
    "    입력_행 = [0] + list(map(int, input().split()))\n",
    "    입력.append(입력_행)\n",
    "    \n",
    "t1 = time.time()\n",
    "for 행 in range(1, n+1):\n",
    "    for 열 in range(1, n+1):\n",
    "        누적[행][열] = 누적[행][열-1]+누적[행-1][열]+입력[행][열] - 누적[행-1][열-1]\n",
    "t2 = time.time()\n",
    "time_spent += t2 - t1\n",
    "\n",
    "for prob_set in range(m):\n",
    "    x1, y1, x2, y2 = list(map(int, input().split()))\n",
    "    t1 = time.time()\n",
    "    ans = 누적[x2][y2] - 누적[x1-1][y2] - 누적[x2][y1-1] + 누적[x1-1][y1-1]\n",
    "    t2 = time.time()\n",
    "    time_spent += t2 - t1\n",
    "    print(ans)\n",
    "\n",
    "print(f\"총 소비 시간:{time_spent}ms\")"
   ]
  },
  {
   "cell_type": "code",
   "execution_count": 42,
   "id": "6c6ea282",
   "metadata": {},
   "outputs": [
    {
     "name": "stdout",
     "output_type": "stream",
     "text": [
      "1\n"
     ]
    },
    {
     "ename": "ValueError",
     "evalue": "not enough values to unpack (expected 2, got 1)",
     "output_type": "error",
     "traceback": [
      "\u001b[0;31m---------------------------------------------------------------------------\u001b[0m",
      "\u001b[0;31mValueError\u001b[0m                                Traceback (most recent call last)",
      "Cell \u001b[0;32mIn[42], line 2\u001b[0m\n\u001b[1;32m      1\u001b[0m \u001b[38;5;66;03m# 있는 그대로 풀이 \u001b[39;00m\n\u001b[0;32m----> 2\u001b[0m n, m \u001b[38;5;241m=\u001b[39m \u001b[38;5;28mlist\u001b[39m(\u001b[38;5;28mmap\u001b[39m(\u001b[38;5;28mint\u001b[39m, \u001b[38;5;28minput\u001b[39m()\u001b[38;5;241m.\u001b[39msplit() )) \u001b[38;5;66;03m# n:4, m:3\u001b[39;00m\n\u001b[1;32m      3\u001b[0m arr \u001b[38;5;241m=\u001b[39m []\n\u001b[1;32m      4\u001b[0m \u001b[38;5;28;01mfor\u001b[39;00m i \u001b[38;5;129;01min\u001b[39;00m \u001b[38;5;28mrange\u001b[39m(n):\n",
      "\u001b[0;31mValueError\u001b[0m: not enough values to unpack (expected 2, got 1)"
     ]
    }
   ],
   "source": [
    "# 있는 그대로 풀이 \n",
    "n, m = list(map(int, input().split() )) # n:4, m:3\n",
    "arr = []\n",
    "for i in range(n):\n",
    "    arr.append(list(map(int, input().split() )))\n",
    "               \n",
    "for prob_set in range(m):\n",
    "    x1, y1, x2, y2 = list(map(int, input().split()))\n",
    "    sum_val = 0\n",
    "    for row in range(x1-1, x2):\n",
    "        for col in range(y1-1, y2):\n",
    "            sum_val += arr[row][col]\n",
    "    print(sum_val)"
   ]
  },
  {
   "cell_type": "code",
   "execution_count": 47,
   "id": "762a3828",
   "metadata": {},
   "outputs": [],
   "source": [
    "# page.55\n",
    "\n",
    "n = 15 #int(input())\n",
    "count = 1\n",
    "s = 1\n",
    "e = 1\n",
    "sum_v = 1"
   ]
  },
  {
   "cell_type": "code",
   "execution_count": 48,
   "id": "19c48ce6",
   "metadata": {},
   "outputs": [
    {
     "name": "stdout",
     "output_type": "stream",
     "text": [
      "4\n"
     ]
    }
   ],
   "source": [
    "while e != n:\n",
    "    # 합이 n에 도달하면 count 추가 \n",
    "    if sum_v == n:\n",
    "        count += 1\n",
    "        e += 1\n",
    "        sum_v += e\n",
    "    # 합이 주어진 N보다 크면 앞의 숫자 빼기\n",
    "    elif sum_v > n:\n",
    "        sum_v -= s\n",
    "        s += 1\n",
    "    # 합이 주어진 N보다 작으면 뒤의 수 추가\n",
    "    else:\n",
    "        e += 1\n",
    "        sum_v += e\n",
    "        \n",
    "\n",
    "print(count)"
   ]
  },
  {
   "cell_type": "code",
   "execution_count": 49,
   "id": "42baace9",
   "metadata": {},
   "outputs": [
    {
     "name": "stdout",
     "output_type": "stream",
     "text": [
      "4\n"
     ]
    }
   ],
   "source": [
    "n = 15\n",
    "count = 0\n",
    "for s in range(1, n+1):\n",
    "    sum_v = 0\n",
    "    for e in range(s, n+1):\n",
    "        sum_v += e\n",
    "        if sum_v == n:\n",
    "            count+=1\n",
    "            break\n",
    "print(count)"
   ]
  },
  {
   "cell_type": "code",
   "execution_count": 57,
   "id": "f9f9bef5",
   "metadata": {},
   "outputs": [
    {
     "name": "stdout",
     "output_type": "stream",
     "text": [
      "4 2\n",
      "GATA\n",
      "1 0 0 1\n",
      "0\n"
     ]
    }
   ],
   "source": [
    "# page.69\n",
    "checkList = [0]*4\n",
    "myList = [0]*4\n",
    "checkSecret = 0\n",
    "\n",
    "def myadd(c):\n",
    "    global checkList, myList, checkSecret\n",
    "    \n",
    "    if c == 'A':\n",
    "        myList[0] += 1\n",
    "        if c == checkList[0]:\n",
    "            checkSecret += 1\n",
    "    elif c == 'C':\n",
    "        myList[1] += 1\n",
    "        if c == checkList[1]:\n",
    "            checkSecret += 1\n",
    "    elif c == 'G':\n",
    "        myList[2] += 1\n",
    "        if c == checkList[2]:\n",
    "            checkSecret += 1\n",
    "    elif c == 'T':\n",
    "        myList[3] += 1\n",
    "        if c == checkList[3]:\n",
    "            checkSecret += 1\n",
    "            \n",
    "def myremove(c):\n",
    "    global checkList, myList, checkSecret\n",
    "    if c == 'A':\n",
    "        if myList[0] == checkList[0]:\n",
    "            checkSecret -= 1\n",
    "        myList[0] -= 1\n",
    "    elif c == 'C':\n",
    "        if myList[1] == checkList[1]:\n",
    "            checkSecret -= 1\n",
    "        myList[1] -= 1\n",
    "    elif c == 'G':\n",
    "        if myList[2] == checkList[2]:\n",
    "            checkSecret -= 1\n",
    "        myList[2] -= 1\n",
    "    elif c == 'T':\n",
    "        if myList[3] == checkList[3]:\n",
    "            checkSecret -= 1\n",
    "        myList[3] -= 1\n",
    "        \n",
    "\n",
    "S, P = list(map(int, input().split() ))\n",
    "Result = 0\n",
    "\n",
    "A = list(input())\n",
    "\n",
    "checkList = list(map(int, input().split()))\n",
    "\n",
    "for i in range(4):\n",
    "    if checkList[i] == 0:\n",
    "        checkSecret += 1 # 0의 개수\n",
    "        \n",
    "for i in range(P): # 부분 문자열 길이\n",
    "    myadd(A[i])\n",
    "    \n",
    "if checkSecret == 4:\n",
    "    Result += 1\n",
    "    \n",
    "for i in range(P, S):\n",
    "    myadd(A[i])\n",
    "    j = i - P\n",
    "    myremove(A[j])\n",
    "    if checkSecret == 4:\n",
    "        Result += 1\n",
    "\n",
    "print(Result)"
   ]
  },
  {
   "cell_type": "code",
   "execution_count": 60,
   "id": "f3023c60",
   "metadata": {},
   "outputs": [
    {
     "name": "stdout",
     "output_type": "stream",
     "text": [
      "9 8\n",
      "CCTGGATTG\n",
      "2 0 1 1\n"
     ]
    }
   ],
   "source": [
    "S, P = list(map(int, input().split()))\n",
    "dna = input()\n",
    "minimums = list(map(int, input().split()))\n",
    "\n",
    "ACGT = [0,0,0,0]\n",
    "start_index = 0\n",
    "end_index = P - 1\n",
    "count = 0\n",
    "\n"
   ]
  },
  {
   "cell_type": "code",
   "execution_count": 61,
   "id": "7f1af6ca",
   "metadata": {},
   "outputs": [
    {
     "data": {
      "text/plain": [
       "(9, 8, 'CCTGGATTG', [2, 0, 1, 1])"
      ]
     },
     "execution_count": 61,
     "metadata": {},
     "output_type": "execute_result"
    }
   ],
   "source": [
    "S, P, dna, minimums"
   ]
  },
  {
   "cell_type": "code",
   "execution_count": 67,
   "id": "76050d7e",
   "metadata": {},
   "outputs": [],
   "source": [
    "test_dic = {\"딸기\":0, \"바나나\":0}"
   ]
  },
  {
   "cell_type": "code",
   "execution_count": 68,
   "id": "964df545",
   "metadata": {},
   "outputs": [],
   "source": [
    "test_dic[\"딸기\"] += 1"
   ]
  },
  {
   "cell_type": "code",
   "execution_count": 69,
   "id": "61d89d4f",
   "metadata": {},
   "outputs": [
    {
     "data": {
      "text/plain": [
       "{'딸기': 1, '바나나': 0}"
      ]
     },
     "execution_count": 69,
     "metadata": {},
     "output_type": "execute_result"
    }
   ],
   "source": [
    "test_dic"
   ]
  },
  {
   "cell_type": "code",
   "execution_count": 70,
   "id": "c8b56791",
   "metadata": {},
   "outputs": [
    {
     "name": "stdout",
     "output_type": "stream",
     "text": [
      "4 2\n",
      "GTTA\n",
      "1 0 0 1\n",
      "0\n"
     ]
    }
   ],
   "source": [
    "S, P = list(map(int, input().split() ))\n",
    "dna = list(input())\n",
    "a,c,g,t = map(int, input().split())\n",
    "minimums_dic = {\"A\":a, \"C\":c, \"G\":g, \"T\":t}\n",
    "acgt_count = {\"A\":0, \"C\":0, \"G\":0, \"T\":0}\n",
    "\n",
    "count = 0\n",
    "\n",
    "for i in range(S-P+1):\n",
    "    count_up = True\n",
    "    \n",
    "    if i == 0:\n",
    "        for j in range(P):\n",
    "            acgt_count[dna[j]] += 1\n",
    "            \n",
    "        else:\n",
    "            acgt_count[dna[i+P-1]] += 1\n",
    "            acgt_count[dna[i-1]] -= 1\n",
    "        \n",
    "        for i in [\"A\",\"C\",\"G\",\"T\"]:\n",
    "            if acgt_count[i] < minimums_dic[i]:\n",
    "                count_up = False\n",
    "                break\n",
    "                \n",
    "        if count_up:\n",
    "            count+= 1\n",
    "print(count)"
   ]
  },
  {
   "cell_type": "code",
   "execution_count": 71,
   "id": "25284018",
   "metadata": {},
   "outputs": [],
   "source": [
    "stack = []"
   ]
  },
  {
   "cell_type": "code",
   "execution_count": 78,
   "id": "177fe7f4",
   "metadata": {},
   "outputs": [
    {
     "data": {
      "text/plain": [
       "[10, 10, 20, 20, 30, 10, 10]"
      ]
     },
     "execution_count": 78,
     "metadata": {},
     "output_type": "execute_result"
    }
   ],
   "source": [
    "stack.append(10)\n",
    "stack"
   ]
  },
  {
   "cell_type": "code",
   "execution_count": 79,
   "id": "f15ce719",
   "metadata": {},
   "outputs": [
    {
     "data": {
      "text/plain": [
       "[10, 10, 20, 20, 30, 10, 10, 20]"
      ]
     },
     "execution_count": 79,
     "metadata": {},
     "output_type": "execute_result"
    }
   ],
   "source": [
    "stack.append(20)\n",
    "stack"
   ]
  },
  {
   "cell_type": "code",
   "execution_count": 80,
   "id": "4e99e451",
   "metadata": {},
   "outputs": [
    {
     "data": {
      "text/plain": [
       "[10, 10, 20, 20, 30, 10, 10, 20, 30]"
      ]
     },
     "execution_count": 80,
     "metadata": {},
     "output_type": "execute_result"
    }
   ],
   "source": [
    "stack.append(30)\n",
    "stack"
   ]
  },
  {
   "cell_type": "code",
   "execution_count": 81,
   "id": "c4557d1e",
   "metadata": {},
   "outputs": [
    {
     "data": {
      "text/plain": [
       "30"
      ]
     },
     "execution_count": 81,
     "metadata": {},
     "output_type": "execute_result"
    }
   ],
   "source": [
    "stack.pop()"
   ]
  },
  {
   "cell_type": "code",
   "execution_count": 82,
   "id": "435ba856",
   "metadata": {},
   "outputs": [
    {
     "data": {
      "text/plain": [
       "[10, 10, 20, 20, 30, 10, 10, 20]"
      ]
     },
     "execution_count": 82,
     "metadata": {},
     "output_type": "execute_result"
    }
   ],
   "source": [
    "stack"
   ]
  },
  {
   "cell_type": "code",
   "execution_count": 83,
   "id": "497733fd",
   "metadata": {},
   "outputs": [
    {
     "data": {
      "text/plain": [
       "20"
      ]
     },
     "execution_count": 83,
     "metadata": {},
     "output_type": "execute_result"
    }
   ],
   "source": [
    "stack.pop()"
   ]
  },
  {
   "cell_type": "code",
   "execution_count": 84,
   "id": "6e66206f",
   "metadata": {},
   "outputs": [
    {
     "data": {
      "text/plain": [
       "[10, 10, 20, 20, 30, 10, 10]"
      ]
     },
     "execution_count": 84,
     "metadata": {},
     "output_type": "execute_result"
    }
   ],
   "source": [
    "stack"
   ]
  },
  {
   "cell_type": "code",
   "execution_count": 85,
   "id": "948c57c6",
   "metadata": {},
   "outputs": [
    {
     "data": {
      "text/plain": [
       "10"
      ]
     },
     "execution_count": 85,
     "metadata": {},
     "output_type": "execute_result"
    }
   ],
   "source": [
    "stack.pop()"
   ]
  },
  {
   "cell_type": "code",
   "execution_count": 86,
   "id": "17b8b8e5",
   "metadata": {},
   "outputs": [
    {
     "data": {
      "text/plain": [
       "10"
      ]
     },
     "execution_count": 86,
     "metadata": {},
     "output_type": "execute_result"
    }
   ],
   "source": [
    "stack.pop()\n",
    "stack.pop()\n",
    "stack.pop()\n",
    "stack.pop()\n",
    "stack.pop()\n"
   ]
  },
  {
   "cell_type": "code",
   "execution_count": 87,
   "id": "82a433b6",
   "metadata": {},
   "outputs": [
    {
     "data": {
      "text/plain": [
       "10"
      ]
     },
     "execution_count": 87,
     "metadata": {},
     "output_type": "execute_result"
    }
   ],
   "source": [
    "stack.pop()"
   ]
  },
  {
   "cell_type": "code",
   "execution_count": 89,
   "id": "0b5bcd8b",
   "metadata": {},
   "outputs": [
    {
     "data": {
      "text/plain": [
       "[]"
      ]
     },
     "execution_count": 89,
     "metadata": {},
     "output_type": "execute_result"
    }
   ],
   "source": [
    "stack"
   ]
  },
  {
   "cell_type": "code",
   "execution_count": 93,
   "id": "46c9a4c6",
   "metadata": {},
   "outputs": [],
   "source": [
    "if stack:\n",
    "    print(\"데이터 있니\")"
   ]
  },
  {
   "cell_type": "code",
   "execution_count": 94,
   "id": "a4d4ce2a",
   "metadata": {},
   "outputs": [],
   "source": [
    "stack.append(30)"
   ]
  },
  {
   "cell_type": "code",
   "execution_count": 95,
   "id": "36bfd780",
   "metadata": {},
   "outputs": [
    {
     "name": "stdout",
     "output_type": "stream",
     "text": [
      "데이터 있니\n"
     ]
    }
   ],
   "source": [
    "if stack:\n",
    "    print(\"데이터 있니\")"
   ]
  },
  {
   "cell_type": "code",
   "execution_count": 96,
   "id": "f9bf1dbd",
   "metadata": {},
   "outputs": [],
   "source": [
    "queue = []"
   ]
  },
  {
   "cell_type": "code",
   "execution_count": 97,
   "id": "595ee992",
   "metadata": {},
   "outputs": [],
   "source": [
    "queue.append(10)"
   ]
  },
  {
   "cell_type": "code",
   "execution_count": 98,
   "id": "0fae7c09",
   "metadata": {},
   "outputs": [],
   "source": [
    "queue.append(20)"
   ]
  },
  {
   "cell_type": "code",
   "execution_count": 99,
   "id": "eca178c0",
   "metadata": {},
   "outputs": [
    {
     "data": {
      "text/plain": [
       "[10, 20]"
      ]
     },
     "execution_count": 99,
     "metadata": {},
     "output_type": "execute_result"
    }
   ],
   "source": [
    "queue"
   ]
  },
  {
   "cell_type": "code",
   "execution_count": 100,
   "id": "bb21c501",
   "metadata": {},
   "outputs": [],
   "source": [
    "queue.append(30)"
   ]
  },
  {
   "cell_type": "code",
   "execution_count": 101,
   "id": "633f3ece",
   "metadata": {},
   "outputs": [
    {
     "data": {
      "text/plain": [
       "[10, 20, 30]"
      ]
     },
     "execution_count": 101,
     "metadata": {},
     "output_type": "execute_result"
    }
   ],
   "source": [
    "queue"
   ]
  },
  {
   "cell_type": "code",
   "execution_count": 102,
   "id": "8ba7d2fc",
   "metadata": {},
   "outputs": [
    {
     "data": {
      "text/plain": [
       "[20, 30]"
      ]
     },
     "execution_count": 102,
     "metadata": {},
     "output_type": "execute_result"
    }
   ],
   "source": [
    "queue.pop(0)\n",
    "queue"
   ]
  },
  {
   "cell_type": "code",
   "execution_count": null,
   "id": "ceb99fdb",
   "metadata": {},
   "outputs": [],
   "source": []
  }
 ],
 "metadata": {
  "kernelspec": {
   "display_name": "Python 3 (ipykernel)",
   "language": "python",
   "name": "python3"
  },
  "language_info": {
   "codemirror_mode": {
    "name": "ipython",
    "version": 3
   },
   "file_extension": ".py",
   "mimetype": "text/x-python",
   "name": "python",
   "nbconvert_exporter": "python",
   "pygments_lexer": "ipython3",
   "version": "3.10.0"
  }
 },
 "nbformat": 4,
 "nbformat_minor": 5
}
