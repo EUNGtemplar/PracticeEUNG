{
 "cells": [
  {
   "cell_type": "code",
   "execution_count": 2,
   "id": "6a2694de",
   "metadata": {},
   "outputs": [],
   "source": [
    "import mod"
   ]
  },
  {
   "cell_type": "code",
   "execution_count": 2,
   "id": "89b941e0",
   "metadata": {},
   "outputs": [
    {
     "data": {
      "text/plain": [
       "1234"
      ]
     },
     "execution_count": 2,
     "metadata": {},
     "output_type": "execute_result"
    }
   ],
   "source": [
    "mod.my_val"
   ]
  },
  {
   "cell_type": "code",
   "execution_count": 4,
   "id": "8eb6bb57",
   "metadata": {},
   "outputs": [
    {
     "data": {
      "text/plain": [
       "11"
      ]
     },
     "execution_count": 4,
     "metadata": {},
     "output_type": "execute_result"
    }
   ],
   "source": [
    "mod.my_inc(10)"
   ]
  },
  {
   "cell_type": "code",
   "execution_count": 1,
   "id": "8c020118",
   "metadata": {},
   "outputs": [
    {
     "data": {
      "text/plain": [
       "11"
      ]
     },
     "execution_count": 1,
     "metadata": {},
     "output_type": "execute_result"
    }
   ],
   "source": [
    "from mod import my_inc\n",
    "my_inc(10)"
   ]
  },
  {
   "cell_type": "code",
   "execution_count": 9,
   "id": "813e0401",
   "metadata": {},
   "outputs": [
    {
     "name": "stdout",
     "output_type": "stream",
     "text": [
      "1695018107.122394\n"
     ]
    }
   ],
   "source": [
    "print(t1)"
   ]
  },
  {
   "cell_type": "code",
   "execution_count": 10,
   "id": "727bfff2",
   "metadata": {},
   "outputs": [
    {
     "name": "stdout",
     "output_type": "stream",
     "text": [
      "1695018107.122394\n"
     ]
    }
   ],
   "source": [
    "from time import time\n",
    "print(t1)"
   ]
  },
  {
   "cell_type": "code",
   "execution_count": 3,
   "id": "2133f508",
   "metadata": {},
   "outputs": [
    {
     "data": {
      "text/plain": [
       "9"
      ]
     },
     "execution_count": 3,
     "metadata": {},
     "output_type": "execute_result"
    }
   ],
   "source": [
    "mod.my_dec(10)"
   ]
  },
  {
   "cell_type": "code",
   "execution_count": 4,
   "id": "4a5cdec8",
   "metadata": {},
   "outputs": [
    {
     "data": {
      "text/plain": [
       "9"
      ]
     },
     "execution_count": 4,
     "metadata": {},
     "output_type": "execute_result"
    }
   ],
   "source": [
    "from mod import my_dec, my_inc\n",
    "my_dec(10)"
   ]
  },
  {
   "cell_type": "code",
   "execution_count": 5,
   "id": "eb25c6b1",
   "metadata": {},
   "outputs": [
    {
     "data": {
      "text/plain": [
       "(9, 12)"
      ]
     },
     "execution_count": 5,
     "metadata": {},
     "output_type": "execute_result"
    }
   ],
   "source": [
    "from mod import my_dec, my_inc\n",
    "my_dec(10), my_inc(11)"
   ]
  },
  {
   "cell_type": "code",
   "execution_count": 2,
   "id": "9201b53a",
   "metadata": {},
   "outputs": [],
   "source": [
    "from pkg1 import pkg1_1\n",
    "from pkg2 import pkg2_1"
   ]
  },
  {
   "cell_type": "code",
   "execution_count": 10,
   "id": "97f85099",
   "metadata": {},
   "outputs": [
    {
     "data": {
      "text/plain": [
       "21"
      ]
     },
     "execution_count": 10,
     "metadata": {},
     "output_type": "execute_result"
    }
   ],
   "source": [
    "pkg1_1.my_val"
   ]
  },
  {
   "cell_type": "code",
   "execution_count": 3,
   "id": "81920da7",
   "metadata": {},
   "outputs": [
    {
     "data": {
      "text/plain": [
       "11"
      ]
     },
     "execution_count": 3,
     "metadata": {},
     "output_type": "execute_result"
    }
   ],
   "source": [
    "pkg2_1.my_val"
   ]
  },
  {
   "cell_type": "code",
   "execution_count": 4,
   "id": "dcf39515",
   "metadata": {},
   "outputs": [],
   "source": [
    "class Car:\n",
    "    pass"
   ]
  },
  {
   "cell_type": "code",
   "execution_count": 5,
   "id": "e9ff6022",
   "metadata": {},
   "outputs": [],
   "source": [
    "car1 = Car()"
   ]
  },
  {
   "cell_type": "code",
   "execution_count": 6,
   "id": "ae9085fa",
   "metadata": {},
   "outputs": [],
   "source": [
    "car2 = Car()"
   ]
  },
  {
   "cell_type": "code",
   "execution_count": 1,
   "id": "0021491f",
   "metadata": {},
   "outputs": [],
   "source": [
    "# Speed 속성 \n",
    "# run() 10 의 속도로 간다\n",
    "# break() 0의 속도\n",
    "# accel () + 10의 속도\n",
    "class Car:\n",
    "    def __init__(self):\n",
    "        self.speed = 0\n",
    "        \n",
    "    def car_run(self):\n",
    "        self.speed = 10\n",
    "        print(f\"현재 속도:{self.speed}km/h\")\n",
    "    \n",
    "    def car_break(self):\n",
    "        self.speed = 0\n",
    "        print(f\"현재 속도:{self.speed}km/h\")\n",
    "    \n",
    "    def car_accel(self):\n",
    "        self.speed += 10\n",
    "        print(f\"현재 속도:{self.speed}km/h\")"
   ]
  },
  {
   "cell_type": "code",
   "execution_count": 8,
   "id": "613be702",
   "metadata": {},
   "outputs": [],
   "source": [
    "car1 = Car()"
   ]
  },
  {
   "cell_type": "code",
   "execution_count": 9,
   "id": "ca1d78f5",
   "metadata": {},
   "outputs": [
    {
     "name": "stdout",
     "output_type": "stream",
     "text": [
      "현재 속도:10km/h\n"
     ]
    }
   ],
   "source": [
    "car1.car_run()"
   ]
  },
  {
   "cell_type": "code",
   "execution_count": 10,
   "id": "5ad8de58",
   "metadata": {},
   "outputs": [
    {
     "name": "stdout",
     "output_type": "stream",
     "text": [
      "현재 속도:20km/h\n"
     ]
    }
   ],
   "source": [
    "car1.car_accel()"
   ]
  },
  {
   "cell_type": "code",
   "execution_count": 11,
   "id": "3315c505",
   "metadata": {},
   "outputs": [
    {
     "name": "stdout",
     "output_type": "stream",
     "text": [
      "현재 속도:0km/h\n"
     ]
    }
   ],
   "source": [
    "car1.car_break()"
   ]
  },
  {
   "cell_type": "code",
   "execution_count": 82,
   "id": "3ad230cc",
   "metadata": {},
   "outputs": [
    {
     "name": "stdout",
     "output_type": "stream",
     "text": [
      "추출을 시작합니다\n",
      "3029282726252423222120191817161514131211109876543210"
     ]
    }
   ],
   "source": [
    "import time\n",
    "now = time\n",
    "in_sec = input(\"추출을 시작합니다\")\n",
    "sec = int(30)\n",
    "print(sec, end=\"\")\n",
    "\n",
    "while (sec != 0 ):\n",
    "    sec = sec-1\n",
    "    time.sleep(1)\n",
    "    print(sec, end=\"\")\n",
    "    \n",
    "class Coffee:\n",
    "        def __init__(self):\n",
    "            self.TDS = 0\n",
    "        \n",
    "        def cup1_hotwater(self):\n",
    "            self.TDS = 10\n",
    "            print(f\" 추출시간\", now.localtime().tm_min,\":\", now.localtime().tm_sec, f\"현재 수율은 {self.TDS} 입니다.\")\n",
    "    \n",
    "        def cup1_vortex(self):\n",
    "            self.TDS += 10\n",
    "            print(f\" 추출시간\", now.localtime().tm_min,\":\", now.localtime().tm_sec, f\"현재 수율은 {self.TDS} 입니다.\")"
   ]
  },
  {
   "cell_type": "code",
   "execution_count": 78,
   "id": "8db157e0",
   "metadata": {},
   "outputs": [],
   "source": [
    "newDrip = Coffee()"
   ]
  },
  {
   "cell_type": "code",
   "execution_count": 79,
   "id": "ceb00824",
   "metadata": {},
   "outputs": [
    {
     "name": "stdout",
     "output_type": "stream",
     "text": [
      " 추출시간 16 : 30 현재 수율은 10 입니다.\n"
     ]
    }
   ],
   "source": [
    "newDrip.cup1_hotwater()"
   ]
  },
  {
   "cell_type": "code",
   "execution_count": 80,
   "id": "8e9bc31b",
   "metadata": {},
   "outputs": [
    {
     "name": "stdout",
     "output_type": "stream",
     "text": [
      " 추출시간 16 : 43 현재 수율은 20 입니다.\n"
     ]
    }
   ],
   "source": [
    "newDrip.cup1_vortex()"
   ]
  },
  {
   "cell_type": "code",
   "execution_count": 96,
   "id": "ea8efdde",
   "metadata": {},
   "outputs": [],
   "source": [
    "class CoffeeMachine:\n",
    "        def __init__(self):\n",
    "            self.TDS = 0\n",
    "            self.now = datetime.now()\n",
    "        def set_time(self, time):\n",
    "            self.now = time\n",
    "        def cup1_hotwater(self):\n",
    "            self.TDS = 10\n",
    "            print(f\"추출시간: {self.now.minute}:{self.now.second}, 현재 수율은 {self.TDS} 입니다.\")\n",
    "        def cup1_vortex(self):\n",
    "            self.TDS += 10\n",
    "            print(f\"추출시간: {self.now.minute}:{self.now.second}, 현재 수율은 {self.TDS} 입니다.\")"
   ]
  },
  {
   "cell_type": "code",
   "execution_count": 98,
   "id": "34ee29b3",
   "metadata": {
    "scrolled": true
   },
   "outputs": [
    {
     "name": "stdout",
     "output_type": "stream",
     "text": [
      "추출시간: 43:54, 현재 수율은 10 입니다.\n",
      "추출시간: 43:55, 현재 수율은 20 입니다.\n",
      "추출시간: 43:56, 현재 수율은 30 입니다.\n",
      "추출시간: 43:57, 현재 수율은 40 입니다.\n",
      "추출시간: 43:58, 현재 수율은 50 입니다.\n",
      "추출시간: 43:59, 현재 수율은 60 입니다.\n",
      "추출시간: 44:0, 현재 수율은 70 입니다.\n",
      "추출시간: 44:1, 현재 수율은 80 입니다.\n",
      "추출시간: 44:2, 현재 수율은 90 입니다.\n",
      "추출시간: 44:3, 현재 수율은 100 입니다.\n",
      "추출시간: 44:4, 현재 수율은 110 입니다.\n"
     ]
    }
   ],
   "source": [
    "import time\n",
    "from datetime import datetime\n",
    "drip = CoffeeMachine()\n",
    "drip.cup1_hotwater()\n",
    "sec = 10\n",
    "while (sec != 0 ):\n",
    "    time.sleep(1)\n",
    "    sec = sec-1\n",
    "    now = datetime.now()\n",
    "    drip.set_time(now)\n",
    "    drip.cup1_vortex()"
   ]
  },
  {
   "cell_type": "code",
   "execution_count": 2,
   "id": "1da8ee0a",
   "metadata": {},
   "outputs": [],
   "source": [
    "# turbo() +50의 속도\n",
    "class SuperCar(Car):\n",
    "    def __init__(self):\n",
    "        super().__init__()\n",
    "    def turbo(self):\n",
    "        self.speed += 50\n",
    "        print(f\"현재 속도는: {self.speed}km/h\")"
   ]
  },
  {
   "cell_type": "code",
   "execution_count": 100,
   "id": "b3cefb8a",
   "metadata": {},
   "outputs": [],
   "source": [
    "s1 = SuperCar()"
   ]
  },
  {
   "cell_type": "code",
   "execution_count": 102,
   "id": "236fe7b6",
   "metadata": {},
   "outputs": [
    {
     "name": "stdout",
     "output_type": "stream",
     "text": [
      "현재 속도:10km/h\n"
     ]
    }
   ],
   "source": [
    "s1.car_run()"
   ]
  },
  {
   "cell_type": "code",
   "execution_count": 103,
   "id": "c77fbcd8",
   "metadata": {},
   "outputs": [
    {
     "name": "stdout",
     "output_type": "stream",
     "text": [
      "현재 속도는: 60km/h\n"
     ]
    }
   ],
   "source": [
    "s1.turbo()"
   ]
  },
  {
   "cell_type": "code",
   "execution_count": 4,
   "id": "94bb2058",
   "metadata": {},
   "outputs": [],
   "source": [
    "sonata = Car()\n",
    "k5 = Car()"
   ]
  },
  {
   "cell_type": "code",
   "execution_count": 5,
   "id": "d8c3b644",
   "metadata": {},
   "outputs": [
    {
     "name": "stdout",
     "output_type": "stream",
     "text": [
      "현재 속도:10km/h\n"
     ]
    }
   ],
   "source": [
    "sonata.car_run()"
   ]
  },
  {
   "cell_type": "code",
   "execution_count": 7,
   "id": "56b2de96",
   "metadata": {
    "scrolled": true
   },
   "outputs": [
    {
     "name": "stdout",
     "output_type": "stream",
     "text": [
      "현재 속도:10km/h\n",
      "현재 속도:20km/h\n",
      "현재 속도:30km/h\n"
     ]
    }
   ],
   "source": [
    "k5.car_run()\n",
    "k5.car_accel()\n",
    "k5.car_accel()"
   ]
  },
  {
   "cell_type": "code",
   "execution_count": 8,
   "id": "b37389c0",
   "metadata": {},
   "outputs": [
    {
     "data": {
      "text/plain": [
       "(10, 30)"
      ]
     },
     "execution_count": 8,
     "metadata": {},
     "output_type": "execute_result"
    }
   ],
   "source": [
    "sonata.speed, k5.speed #인스턴스 변수"
   ]
  },
  {
   "cell_type": "code",
   "execution_count": 9,
   "id": "81033675",
   "metadata": {},
   "outputs": [],
   "source": [
    "class Car2:\n",
    "    brand = \"KIA\" # 클래스 변수 \n",
    "    def __init__(self):\n",
    "        self.speed = 0 # 인스턴스 변수(객체 변수)\n",
    "        \n",
    "    def car_run(self):\n",
    "        self.speed = 10\n",
    "        print(f\"현재 속도:{self.speed}km/h\")\n",
    "    \n",
    "    def car_break(self):\n",
    "        self.speed = 0\n",
    "        print(f\"현재 속도:{self.speed}km/h\")\n",
    "    \n",
    "    def car_accel(self):\n",
    "        self.speed += 10\n",
    "        print(f\"현재 속도:{self.speed}km/h\")"
   ]
  },
  {
   "cell_type": "code",
   "execution_count": 10,
   "id": "aa733fcf",
   "metadata": {},
   "outputs": [],
   "source": [
    "k3 = Car2()"
   ]
  },
  {
   "cell_type": "code",
   "execution_count": 11,
   "id": "d7629488",
   "metadata": {},
   "outputs": [
    {
     "data": {
      "text/plain": [
       "'KIA'"
      ]
     },
     "execution_count": 11,
     "metadata": {},
     "output_type": "execute_result"
    }
   ],
   "source": [
    "k3.brand"
   ]
  },
  {
   "cell_type": "code",
   "execution_count": 12,
   "id": "2ab132b2",
   "metadata": {},
   "outputs": [],
   "source": [
    "Car2.brand = \"GIA\""
   ]
  },
  {
   "cell_type": "code",
   "execution_count": 13,
   "id": "521580ab",
   "metadata": {},
   "outputs": [
    {
     "data": {
      "text/plain": [
       "'GIA'"
      ]
     },
     "execution_count": 13,
     "metadata": {},
     "output_type": "execute_result"
    }
   ],
   "source": [
    "k3.brand"
   ]
  },
  {
   "cell_type": "code",
   "execution_count": 14,
   "id": "acf45129",
   "metadata": {},
   "outputs": [
    {
     "ename": "NameError",
     "evalue": "name 'mes_euc_kr' is not defined",
     "output_type": "error",
     "traceback": [
      "\u001b[0;31m---------------------------------------------------------------------------\u001b[0m",
      "\u001b[0;31mNameError\u001b[0m                                 Traceback (most recent call last)",
      "Cell \u001b[0;32mIn[14], line 1\u001b[0m\n\u001b[0;32m----> 1\u001b[0m \u001b[43mmes_euc_kr\u001b[49m\u001b[38;5;241m.\u001b[39mdecode(\u001b[38;5;124m'\u001b[39m\u001b[38;5;124meuc-kr\u001b[39m\u001b[38;5;124m'\u001b[39m)\n",
      "\u001b[0;31mNameError\u001b[0m: name 'mes_euc_kr' is not defined"
     ]
    }
   ],
   "source": [
    "mes_euc_kr.decode('euc-kr')"
   ]
  },
  {
   "cell_type": "code",
   "execution_count": 15,
   "id": "058152aa",
   "metadata": {},
   "outputs": [],
   "source": [
    "def mul3(n):\n",
    "    return 3*n"
   ]
  },
  {
   "cell_type": "code",
   "execution_count": 16,
   "id": "9bd30514",
   "metadata": {},
   "outputs": [],
   "source": [
    "def mul5(n):\n",
    "    return 5*n"
   ]
  },
  {
   "cell_type": "code",
   "execution_count": 17,
   "id": "702bb4c0",
   "metadata": {},
   "outputs": [],
   "source": [
    "def mul(k, n):\n",
    "    return k * n"
   ]
  },
  {
   "cell_type": "code",
   "execution_count": 20,
   "id": "cabd5d0a",
   "metadata": {},
   "outputs": [
    {
     "data": {
      "text/plain": [
       "(1, 5)"
      ]
     },
     "execution_count": 20,
     "metadata": {},
     "output_type": "execute_result"
    }
   ],
   "source": [
    "mul"
   ]
  },
  {
   "cell_type": "code",
   "execution_count": 22,
   "id": "70ae8935",
   "metadata": {},
   "outputs": [],
   "source": [
    "class Multi:\n",
    "    def __init__(self, k):\n",
    "        self.k = k \n",
    "    def mul(self, n):\n",
    "        return self.k * n"
   ]
  },
  {
   "cell_type": "code",
   "execution_count": 23,
   "id": "b52d18ca",
   "metadata": {},
   "outputs": [],
   "source": [
    "mul3 = Multi(3)\n",
    "mul5 = Multi(5)"
   ]
  },
  {
   "cell_type": "code",
   "execution_count": 24,
   "id": "cc85fa9c",
   "metadata": {},
   "outputs": [],
   "source": [
    "class Multi2:\n",
    "    def __init__(self, k):\n",
    "        self.k = k \n",
    "    def __call__(self, n):\n",
    "        return self.k * n"
   ]
  },
  {
   "cell_type": "code",
   "execution_count": 25,
   "id": "3fb66d90",
   "metadata": {},
   "outputs": [],
   "source": [
    "mul2_3 = Multi2(3)\n",
    "mul2_5 = Multi2(5)"
   ]
  },
  {
   "cell_type": "code",
   "execution_count": 26,
   "id": "c5314806",
   "metadata": {},
   "outputs": [
    {
     "data": {
      "text/plain": [
       "30"
      ]
     },
     "execution_count": 26,
     "metadata": {},
     "output_type": "execute_result"
    }
   ],
   "source": [
    "mul2_3(10)"
   ]
  },
  {
   "cell_type": "code",
   "execution_count": 27,
   "id": "67ea90a3",
   "metadata": {},
   "outputs": [],
   "source": [
    "def mul(m): #m: 3, 5 (저장된 값)\n",
    "    def wrapper(n):\n",
    "        return m*n\n",
    "    return wrapper"
   ]
  },
  {
   "cell_type": "code",
   "execution_count": 28,
   "id": "0600f937",
   "metadata": {},
   "outputs": [],
   "source": [
    "mul3 = mul(3)\n",
    "mul5 = mul(5)"
   ]
  },
  {
   "cell_type": "code",
   "execution_count": 29,
   "id": "15027676",
   "metadata": {},
   "outputs": [
    {
     "data": {
      "text/plain": [
       "30"
      ]
     },
     "execution_count": 29,
     "metadata": {},
     "output_type": "execute_result"
    }
   ],
   "source": [
    "mul3(10)"
   ]
  },
  {
   "cell_type": "code",
   "execution_count": 30,
   "id": "c5dc7c6b",
   "metadata": {},
   "outputs": [
    {
     "data": {
      "text/plain": [
       "(60, 100)"
      ]
     },
     "execution_count": 30,
     "metadata": {},
     "output_type": "execute_result"
    }
   ],
   "source": [
    "mul3(20), mul5(20)"
   ]
  },
  {
   "cell_type": "code",
   "execution_count": 39,
   "id": "b8147815",
   "metadata": {},
   "outputs": [
    {
     "ename": "NameError",
     "evalue": "name 'wrapper' is not defined",
     "output_type": "error",
     "traceback": [
      "\u001b[0;31m---------------------------------------------------------------------------\u001b[0m",
      "\u001b[0;31mNameError\u001b[0m                                 Traceback (most recent call last)",
      "Cell \u001b[0;32mIn[39], line 15\u001b[0m\n\u001b[1;32m     12\u001b[0m     \u001b[38;5;28mprint\u001b[39m(\u001b[38;5;124m\"\u001b[39m\u001b[38;5;124m함수가 실행 된다.\u001b[39m\u001b[38;5;124m\"\u001b[39m)\n\u001b[1;32m     13\u001b[0m     time\u001b[38;5;241m.\u001b[39msleep(\u001b[38;5;241m1\u001b[39m)\n\u001b[0;32m---> 15\u001b[0m myActualJob_deco \u001b[38;5;241m=\u001b[39m \u001b[43melapsed\u001b[49m\u001b[43m(\u001b[49m\u001b[43mmyActualJob\u001b[49m\u001b[43m)\u001b[49m\n\u001b[1;32m     16\u001b[0m myActualJob_deco()\n",
      "Cell \u001b[0;32mIn[39], line 10\u001b[0m, in \u001b[0;36melapsed\u001b[0;34m(func_org)\u001b[0m\n\u001b[1;32m      8\u001b[0m     \u001b[38;5;28mprint\u001b[39m(\u001b[38;5;124mf\u001b[39m\u001b[38;5;124m\"\u001b[39m\u001b[38;5;124m이 함수 실행 시간:\u001b[39m\u001b[38;5;132;01m{\u001b[39;00m\u001b[38;5;241m1000\u001b[39m\u001b[38;5;241m*\u001b[39m{t2\u001b[38;5;241m-\u001b[39mt1}\u001b[38;5;132;01m}\u001b[39;00m\u001b[38;5;124m초\u001b[39m\u001b[38;5;124m\"\u001b[39m)\n\u001b[1;32m      9\u001b[0m     \u001b[38;5;28;01mreturn\u001b[39;00m result\n\u001b[0;32m---> 10\u001b[0m \u001b[38;5;28;01mreturn\u001b[39;00m \u001b[43mwrapper\u001b[49m\n",
      "\u001b[0;31mNameError\u001b[0m: name 'wrapper' is not defined"
     ]
    }
   ],
   "source": [
    "import time\n",
    "def elapsed(func_org):\n",
    "    def myfunc():\n",
    "        t1 = time.time()\n",
    "        #print(\"함수가 실행 된다.\")\n",
    "        result = func_org()\n",
    "        t2 = time.time()\n",
    "        print(f\"이 함수 실행 시간:{1000*{t2-t1}}초\")\n",
    "        return result\n",
    "    return wrapper\n",
    "\n",
    "def myActualJob():\n",
    "    print(\"함수가 실행 된다.\")\n",
    "    time.sleep(1)\n",
    "    \n",
    "myActualJob_deco = elapsed(myActualJob)\n",
    "myActualJob_deco()\n"
   ]
  },
  {
   "cell_type": "code",
   "execution_count": 40,
   "id": "84a24b27",
   "metadata": {},
   "outputs": [
    {
     "name": "stdout",
     "output_type": "stream",
     "text": [
      "함수가 실행 된다.\n",
      "이 함수 실행 시간:3.0994415283203125e-05초\n"
     ]
    }
   ],
   "source": []
  },
  {
   "cell_type": "code",
   "execution_count": null,
   "id": "3b4b914d",
   "metadata": {},
   "outputs": [],
   "source": []
  }
 ],
 "metadata": {
  "kernelspec": {
   "display_name": "Python 3 (ipykernel)",
   "language": "python",
   "name": "python3"
  },
  "language_info": {
   "codemirror_mode": {
    "name": "ipython",
    "version": 3
   },
   "file_extension": ".py",
   "mimetype": "text/x-python",
   "name": "python",
   "nbconvert_exporter": "python",
   "pygments_lexer": "ipython3",
   "version": "3.10.0"
  }
 },
 "nbformat": 4,
 "nbformat_minor": 5
}
