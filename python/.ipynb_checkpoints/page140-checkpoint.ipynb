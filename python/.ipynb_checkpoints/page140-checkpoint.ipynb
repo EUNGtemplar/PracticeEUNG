{
 "cells": [
  {
   "cell_type": "code",
   "execution_count": 13,
   "id": "e1c8b8f6",
   "metadata": {},
   "outputs": [
    {
     "data": {
      "text/plain": [
       "1.6666666666666667"
      ]
     },
     "execution_count": 13,
     "metadata": {},
     "output_type": "execute_result"
    }
   ],
   "source": [
    "5/3"
   ]
  },
  {
   "cell_type": "code",
   "execution_count": 14,
   "id": "454b4e11",
   "metadata": {
    "scrolled": true
   },
   "outputs": [
    {
     "data": {
      "text/plain": [
       "1"
      ]
     },
     "execution_count": 14,
     "metadata": {},
     "output_type": "execute_result"
    }
   ],
   "source": [
    "int(5/3)"
   ]
  },
  {
   "cell_type": "code",
   "execution_count": 15,
   "id": "494582a5",
   "metadata": {},
   "outputs": [
    {
     "data": {
      "text/plain": [
       "1"
      ]
     },
     "execution_count": 15,
     "metadata": {},
     "output_type": "execute_result"
    }
   ],
   "source": [
    "5//3"
   ]
  },
  {
   "cell_type": "code",
   "execution_count": 16,
   "id": "15a2220d",
   "metadata": {},
   "outputs": [
    {
     "data": {
      "text/plain": [
       "2"
      ]
     },
     "execution_count": 16,
     "metadata": {},
     "output_type": "execute_result"
    }
   ],
   "source": [
    "5%3"
   ]
  },
  {
   "cell_type": "code",
   "execution_count": 17,
   "id": "616ba625",
   "metadata": {},
   "outputs": [],
   "source": [
    "news1 = \"\"\"여러줄의 문자열 컨텐츠를 이렇게 요렇게 저렇게 이렇게 저렇게 요렇게 저렇게 여렇게 \n",
    "이렇게 저렇게 저렇게 여렇게 여렇게 저렇다.\"\"\""
   ]
  },
  {
   "cell_type": "code",
   "execution_count": 20,
   "id": "ad976bb0",
   "metadata": {},
   "outputs": [
    {
     "data": {
      "text/plain": [
       "'여러줄의 문자열 컨텐츠를 이렇게 요렇게 저렇게 이렇게 저렇게 요렇게 저렇게 여렇게 \\n이렇게 저렇게 저렇게 여렇게 여렇게 저렇다.'"
      ]
     },
     "execution_count": 20,
     "metadata": {},
     "output_type": "execute_result"
    }
   ],
   "source": [
    "news1"
   ]
  },
  {
   "cell_type": "code",
   "execution_count": 21,
   "id": "ef12b48f",
   "metadata": {},
   "outputs": [
    {
     "data": {
      "text/plain": [
       "4"
      ]
     },
     "execution_count": 21,
     "metadata": {},
     "output_type": "execute_result"
    }
   ],
   "source": [
    "a = [1, 2, 3, 4]\n",
    "len(a)"
   ]
  },
  {
   "cell_type": "code",
   "execution_count": 22,
   "id": "a6083c12",
   "metadata": {},
   "outputs": [
    {
     "data": {
      "text/plain": [
       "5"
      ]
     },
     "execution_count": 22,
     "metadata": {},
     "output_type": "execute_result"
    }
   ],
   "source": [
    "a = \"hello\"\n",
    "len (a)"
   ]
  },
  {
   "cell_type": "code",
   "execution_count": 23,
   "id": "65db4a2d",
   "metadata": {},
   "outputs": [
    {
     "data": {
      "text/plain": [
       "'e'"
      ]
     },
     "execution_count": 23,
     "metadata": {},
     "output_type": "execute_result"
    }
   ],
   "source": [
    "a[1]"
   ]
  },
  {
   "cell_type": "code",
   "execution_count": 24,
   "id": "97aefa19",
   "metadata": {},
   "outputs": [
    {
     "data": {
      "text/plain": [
       "'o'"
      ]
     },
     "execution_count": 24,
     "metadata": {},
     "output_type": "execute_result"
    }
   ],
   "source": [
    "a[4]"
   ]
  },
  {
   "cell_type": "code",
   "execution_count": 25,
   "id": "c9f1bc8d",
   "metadata": {},
   "outputs": [
    {
     "data": {
      "text/plain": [
       "'o'"
      ]
     },
     "execution_count": 25,
     "metadata": {},
     "output_type": "execute_result"
    }
   ],
   "source": [
    "a[-1]"
   ]
  },
  {
   "cell_type": "code",
   "execution_count": 26,
   "id": "7a70b129",
   "metadata": {},
   "outputs": [],
   "source": [
    "a = \"life is too hard\""
   ]
  },
  {
   "cell_type": "code",
   "execution_count": 31,
   "id": "d35c4d12",
   "metadata": {},
   "outputs": [
    {
     "data": {
      "text/plain": [
       "'life'"
      ]
     },
     "execution_count": 31,
     "metadata": {},
     "output_type": "execute_result"
    }
   ],
   "source": [
    "a[0:4]"
   ]
  },
  {
   "cell_type": "code",
   "execution_count": 32,
   "id": "2887d6c2",
   "metadata": {},
   "outputs": [
    {
     "data": {
      "text/plain": [
       "'::는 슬라이싱'"
      ]
     },
     "execution_count": 32,
     "metadata": {},
     "output_type": "execute_result"
    }
   ],
   "source": [
    "\"::는 슬라이싱\""
   ]
  },
  {
   "cell_type": "code",
   "execution_count": 33,
   "id": "a03cf38c",
   "metadata": {},
   "outputs": [
    {
     "data": {
      "text/plain": [
       "'fe is too hard'"
      ]
     },
     "execution_count": 33,
     "metadata": {},
     "output_type": "execute_result"
    }
   ],
   "source": [
    "a[2:]"
   ]
  },
  {
   "cell_type": "code",
   "execution_count": 34,
   "id": "454c993e",
   "metadata": {},
   "outputs": [
    {
     "data": {
      "text/plain": [
       "'li'"
      ]
     },
     "execution_count": 34,
     "metadata": {},
     "output_type": "execute_result"
    }
   ],
   "source": [
    "a[:2]"
   ]
  },
  {
   "cell_type": "code",
   "execution_count": 35,
   "id": "bdc92dd6",
   "metadata": {},
   "outputs": [],
   "source": [
    "phone_num = \"010-1234-5678\""
   ]
  },
  {
   "cell_type": "code",
   "execution_count": 36,
   "id": "9b3dd117",
   "metadata": {},
   "outputs": [
    {
     "data": {
      "text/plain": [
       "'010-1234-5678'"
      ]
     },
     "execution_count": 36,
     "metadata": {},
     "output_type": "execute_result"
    }
   ],
   "source": [
    "phone_num[0:]"
   ]
  },
  {
   "cell_type": "code",
   "execution_count": 37,
   "id": "c5e20820",
   "metadata": {},
   "outputs": [
    {
     "ename": "TypeError",
     "evalue": "string indices must be integers",
     "output_type": "error",
     "traceback": [
      "\u001b[0;31m---------------------------------------------------------------------------\u001b[0m",
      "\u001b[0;31mTypeError\u001b[0m                                 Traceback (most recent call last)",
      "Cell \u001b[0;32mIn[37], line 1\u001b[0m\n\u001b[0;32m----> 1\u001b[0m \u001b[43mphone_num\u001b[49m\u001b[43m[\u001b[49m\u001b[38;5;241;43m1\u001b[39;49m\u001b[43m:\u001b[49m\u001b[38;5;241;43m2\u001b[39;49m\u001b[43m,\u001b[49m\u001b[43m \u001b[49m\u001b[38;5;241;43m4\u001b[39;49m\u001b[43m:\u001b[49m\u001b[38;5;241;43m7\u001b[39;49m\u001b[43m,\u001b[49m\u001b[43m \u001b[49m\u001b[38;5;241;43m9\u001b[39;49m\u001b[43m:\u001b[49m\u001b[38;5;241;43m12\u001b[39;49m\u001b[43m]\u001b[49m\n",
      "\u001b[0;31mTypeError\u001b[0m: string indices must be integers"
     ]
    }
   ],
   "source": [
    "phone_num[1:2, 4:7, 9:12]"
   ]
  },
  {
   "cell_type": "code",
   "execution_count": 38,
   "id": "d5de8731",
   "metadata": {},
   "outputs": [],
   "source": [
    "pn = phone_num[4:8]+phone_num[9:]"
   ]
  },
  {
   "cell_type": "code",
   "execution_count": 39,
   "id": "d09e33ff",
   "metadata": {},
   "outputs": [
    {
     "data": {
      "text/plain": [
       "'12345678'"
      ]
     },
     "execution_count": 39,
     "metadata": {},
     "output_type": "execute_result"
    }
   ],
   "source": [
    "pn"
   ]
  },
  {
   "cell_type": "code",
   "execution_count": 40,
   "id": "a06532c7",
   "metadata": {},
   "outputs": [],
   "source": [
    "a = \"hello\""
   ]
  },
  {
   "cell_type": "code",
   "execution_count": 41,
   "id": "ec344722",
   "metadata": {},
   "outputs": [
    {
     "data": {
      "text/plain": [
       "'e'"
      ]
     },
     "execution_count": 41,
     "metadata": {},
     "output_type": "execute_result"
    }
   ],
   "source": [
    "a[1]"
   ]
  },
  {
   "cell_type": "code",
   "execution_count": 42,
   "id": "be367718",
   "metadata": {},
   "outputs": [
    {
     "ename": "TypeError",
     "evalue": "'str' object does not support item assignment",
     "output_type": "error",
     "traceback": [
      "\u001b[0;31m---------------------------------------------------------------------------\u001b[0m",
      "\u001b[0;31mTypeError\u001b[0m                                 Traceback (most recent call last)",
      "Cell \u001b[0;32mIn[42], line 1\u001b[0m\n\u001b[0;32m----> 1\u001b[0m a[\u001b[38;5;241m1\u001b[39m] \u001b[38;5;241m=\u001b[39m \u001b[38;5;124m'\u001b[39m\u001b[38;5;124ma\u001b[39m\u001b[38;5;124m'\u001b[39m\n",
      "\u001b[0;31mTypeError\u001b[0m: 'str' object does not support item assignment"
     ]
    }
   ],
   "source": [
    "a[1] = 'a'"
   ]
  },
  {
   "cell_type": "code",
   "execution_count": 43,
   "id": "defa1b52",
   "metadata": {},
   "outputs": [],
   "source": [
    "hallo = a[:1]+\"a\"+a[2:]"
   ]
  },
  {
   "cell_type": "code",
   "execution_count": 44,
   "id": "9ea4a22a",
   "metadata": {},
   "outputs": [
    {
     "data": {
      "text/plain": [
       "'hallo'"
      ]
     },
     "execution_count": 44,
     "metadata": {},
     "output_type": "execute_result"
    }
   ],
   "source": [
    "hallo"
   ]
  },
  {
   "cell_type": "code",
   "execution_count": 45,
   "id": "bf252b54",
   "metadata": {},
   "outputs": [
    {
     "name": "stdout",
     "output_type": "stream",
     "text": [
      "answer: [10]\n"
     ]
    }
   ],
   "source": [
    "res = 10\n",
    "print(\"answer: [%d]\"%res)"
   ]
  },
  {
   "cell_type": "code",
   "execution_count": 47,
   "id": "a45a253e",
   "metadata": {},
   "outputs": [
    {
     "name": "stdout",
     "output_type": "stream",
     "text": [
      "(0.1)2\n",
      "(0.2)3\n",
      "(0.3)4\n"
     ]
    }
   ],
   "source": [
    "# (0,1) 2\n",
    "# (0,2) 3\n",
    "# (0,3) 4\n",
    "res2 = [0,0,0,0,0]\n",
    "res2[1] = 2\n",
    "res2[2] = 3\n",
    "res2[3] = 4\n",
    "\n",
    "for j in range(1, 4):\n",
    "    print(\"(0.%d)%d\" %(j, res2[j]))"
   ]
  },
  {
   "cell_type": "code",
   "execution_count": 48,
   "id": "a2d39699",
   "metadata": {},
   "outputs": [
    {
     "name": "stdout",
     "output_type": "stream",
     "text": [
      "농도가 98%입니다.\n"
     ]
    }
   ],
   "source": [
    "print(\"농도가 98%입니다.\")"
   ]
  },
  {
   "cell_type": "code",
   "execution_count": 49,
   "id": "acee26e4",
   "metadata": {},
   "outputs": [
    {
     "name": "stdout",
     "output_type": "stream",
     "text": [
      "농도가 98%입니다.\n"
     ]
    }
   ],
   "source": [
    "print(\"농도가 %d%%입니다.\" %98\n",
    "     )"
   ]
  },
  {
   "cell_type": "code",
   "execution_count": 50,
   "id": "80adbfb9",
   "metadata": {
    "scrolled": true
   },
   "outputs": [
    {
     "data": {
      "text/plain": [
       "'hi'"
      ]
     },
     "execution_count": 50,
     "metadata": {},
     "output_type": "execute_result"
    }
   ],
   "source": [
    "\"%s\" %\"hi\""
   ]
  },
  {
   "cell_type": "code",
   "execution_count": 51,
   "id": "2555a176",
   "metadata": {},
   "outputs": [
    {
     "data": {
      "text/plain": [
       "'        hi'"
      ]
     },
     "execution_count": 51,
     "metadata": {},
     "output_type": "execute_result"
    }
   ],
   "source": [
    "\"%10s\" %\"hi\""
   ]
  },
  {
   "cell_type": "code",
   "execution_count": 63,
   "id": "d1a85c90",
   "metadata": {},
   "outputs": [
    {
     "data": {
      "text/plain": [
       "'응         10  20'"
      ]
     },
     "execution_count": 63,
     "metadata": {},
     "output_type": "execute_result"
    }
   ],
   "source": [
    "# 이름 , 11번째 자리에 n , 15번째 자리에 n\n",
    "name = \"응\"\n",
    "n = 10\n",
    "m = 20\n",
    "\"%-10s%-4d%d\" %(name, n, m)"
   ]
  },
  {
   "cell_type": "code",
   "execution_count": 55,
   "id": "c3d86f8f",
   "metadata": {},
   "outputs": [
    {
     "data": {
      "text/plain": [
       "'%'"
      ]
     },
     "execution_count": 55,
     "metadata": {},
     "output_type": "execute_result"
    }
   ],
   "source": [
    "\"%\""
   ]
  },
  {
   "cell_type": "code",
   "execution_count": 58,
   "id": "9018e168",
   "metadata": {},
   "outputs": [
    {
     "data": {
      "text/plain": [
       "'3.4220'"
      ]
     },
     "execution_count": 58,
     "metadata": {},
     "output_type": "execute_result"
    }
   ],
   "source": [
    "res = 3.4219875\n",
    "\"%.4f\" %res"
   ]
  },
  {
   "cell_type": "code",
   "execution_count": 59,
   "id": "b4fed45f",
   "metadata": {},
   "outputs": [
    {
     "data": {
      "text/plain": [
       "'3.4220'"
      ]
     },
     "execution_count": 59,
     "metadata": {},
     "output_type": "execute_result"
    }
   ],
   "source": [
    "res = 3.4219875\n",
    "\"%.4f\" %res"
   ]
  },
  {
   "cell_type": "code",
   "execution_count": 60,
   "id": "df152041",
   "metadata": {},
   "outputs": [
    {
     "data": {
      "text/plain": [
       "0.3333333333333333"
      ]
     },
     "execution_count": 60,
     "metadata": {},
     "output_type": "execute_result"
    }
   ],
   "source": [
    "1/3"
   ]
  },
  {
   "cell_type": "code",
   "execution_count": 62,
   "id": "0328a48b",
   "metadata": {},
   "outputs": [
    {
     "data": {
      "text/plain": [
       "'0.3333'"
      ]
     },
     "execution_count": 62,
     "metadata": {},
     "output_type": "execute_result"
    }
   ],
   "source": [
    "res = 1/3\n",
    "\"%.4f\" %res"
   ]
  },
  {
   "cell_type": "code",
   "execution_count": 67,
   "id": "e859cd7c",
   "metadata": {},
   "outputs": [
    {
     "data": {
      "text/plain": [
       "('값:1, 값:2', '값:2, 값:1')"
      ]
     },
     "execution_count": 67,
     "metadata": {},
     "output_type": "execute_result"
    }
   ],
   "source": [
    "a = 1\n",
    "b = 2\n",
    "\"값:{0}, 값:{1}\".format(a, b),\"값:{1}, 값:{0}\".format(a, b)"
   ]
  },
  {
   "cell_type": "code",
   "execution_count": 68,
   "id": "19ca93a6",
   "metadata": {},
   "outputs": [
    {
     "data": {
      "text/plain": [
       "'값:1, 값:2'"
      ]
     },
     "execution_count": 68,
     "metadata": {},
     "output_type": "execute_result"
    }
   ],
   "source": [
    "\"값:{first}, 값:{second}\" .format(first = a, second = b)"
   ]
  },
  {
   "cell_type": "code",
   "execution_count": 70,
   "id": "6668083a",
   "metadata": {},
   "outputs": [
    {
     "name": "stdout",
     "output_type": "stream",
     "text": [
      "응고객님께서 다음 상품에 대해 98.1정도로 만족하실 것 같아요.\n"
     ]
    }
   ],
   "source": [
    "name = \"응\"\n",
    "satis_pred = 98.1 #예상 만족도\n",
    "print(f\"\"\"{name}고객님께서 다음 상품에 대해 {satis_pred}정도로 만족하실 것 같아요.\"\"\")"
   ]
  },
  {
   "cell_type": "code",
   "execution_count": 71,
   "id": "542bae51",
   "metadata": {},
   "outputs": [
    {
     "ename": "NameError",
     "evalue": "name 'naem' is not defined",
     "output_type": "error",
     "traceback": [
      "\u001b[0;31m---------------------------------------------------------------------------\u001b[0m",
      "\u001b[0;31mNameError\u001b[0m                                 Traceback (most recent call last)",
      "Cell \u001b[0;32mIn[71], line 1\u001b[0m\n\u001b[0;32m----> 1\u001b[0m \u001b[43mnaem\u001b[49m\u001b[38;5;241m.\u001b[39mcount(\u001b[38;5;124m'\u001b[39m\u001b[38;5;124mb\u001b[39m\u001b[38;5;124m'\u001b[39m)\n",
      "\u001b[0;31mNameError\u001b[0m: name 'naem' is not defined"
     ]
    }
   ],
   "source": [
    "naem.count('b')"
   ]
  },
  {
   "cell_type": "code",
   "execution_count": 72,
   "id": "36687cfe",
   "metadata": {},
   "outputs": [
    {
     "ename": "TypeError",
     "evalue": "count() takes at least 1 argument (0 given)",
     "output_type": "error",
     "traceback": [
      "\u001b[0;31m---------------------------------------------------------------------------\u001b[0m",
      "\u001b[0;31mTypeError\u001b[0m                                 Traceback (most recent call last)",
      "Cell \u001b[0;32mIn[72], line 1\u001b[0m\n\u001b[0;32m----> 1\u001b[0m \u001b[43mname\u001b[49m\u001b[38;5;241;43m.\u001b[39;49m\u001b[43mcount\u001b[49m\u001b[43m(\u001b[49m\u001b[43m)\u001b[49m\n",
      "\u001b[0;31mTypeError\u001b[0m: count() takes at least 1 argument (0 given)"
     ]
    }
   ],
   "source": [
    "name.count()"
   ]
  },
  {
   "cell_type": "code",
   "execution_count": 74,
   "id": "dcfda625",
   "metadata": {},
   "outputs": [
    {
     "data": {
      "text/plain": [
       "2"
      ]
     },
     "execution_count": 74,
     "metadata": {},
     "output_type": "execute_result"
    }
   ],
   "source": [
    "a = \"my hobby\"\n",
    "a.count('b')"
   ]
  },
  {
   "cell_type": "code",
   "execution_count": 75,
   "id": "77dcbfe8",
   "metadata": {},
   "outputs": [
    {
     "data": {
      "text/plain": [
       "5"
      ]
     },
     "execution_count": 75,
     "metadata": {},
     "output_type": "execute_result"
    }
   ],
   "source": [
    "a.find('b')"
   ]
  },
  {
   "cell_type": "code",
   "execution_count": 76,
   "id": "56ce81ab",
   "metadata": {},
   "outputs": [
    {
     "data": {
      "text/plain": [
       "-1"
      ]
     },
     "execution_count": 76,
     "metadata": {},
     "output_type": "execute_result"
    }
   ],
   "source": [
    "a.find('z')"
   ]
  },
  {
   "cell_type": "code",
   "execution_count": 77,
   "id": "a053c475",
   "metadata": {},
   "outputs": [
    {
     "ename": "ValueError",
     "evalue": "substring not found",
     "output_type": "error",
     "traceback": [
      "\u001b[0;31m---------------------------------------------------------------------------\u001b[0m",
      "\u001b[0;31mValueError\u001b[0m                                Traceback (most recent call last)",
      "Cell \u001b[0;32mIn[77], line 1\u001b[0m\n\u001b[0;32m----> 1\u001b[0m \u001b[43ma\u001b[49m\u001b[38;5;241;43m.\u001b[39;49m\u001b[43mindex\u001b[49m\u001b[43m(\u001b[49m\u001b[38;5;124;43m'\u001b[39;49m\u001b[38;5;124;43mz\u001b[39;49m\u001b[38;5;124;43m'\u001b[39;49m\u001b[43m)\u001b[49m\n",
      "\u001b[0;31mValueError\u001b[0m: substring not found"
     ]
    }
   ],
   "source": [
    "a.index('z')"
   ]
  },
  {
   "cell_type": "code",
   "execution_count": 78,
   "id": "917155c5",
   "metadata": {},
   "outputs": [
    {
     "data": {
      "text/plain": [
       "'hi '"
      ]
     },
     "execution_count": 78,
     "metadata": {},
     "output_type": "execute_result"
    }
   ],
   "source": [
    "a = \" hi \"\n",
    "a.lstrip()"
   ]
  },
  {
   "cell_type": "code",
   "execution_count": 79,
   "id": "63324c21",
   "metadata": {},
   "outputs": [
    {
     "data": {
      "text/plain": [
       "'^^'"
      ]
     },
     "execution_count": 79,
     "metadata": {},
     "output_type": "execute_result"
    }
   ],
   "source": [
    "a = \"***^^***\"\n",
    "a.strip('*')"
   ]
  },
  {
   "cell_type": "code",
   "execution_count": 80,
   "id": "2974a885",
   "metadata": {},
   "outputs": [
    {
     "data": {
      "text/plain": [
       "'hallo'"
      ]
     },
     "execution_count": 80,
     "metadata": {},
     "output_type": "execute_result"
    }
   ],
   "source": [
    "a = \"hello\"\n",
    "a.replace(\"e\", \"a\")"
   ]
  },
  {
   "cell_type": "code",
   "execution_count": 81,
   "id": "7c9e72c9",
   "metadata": {},
   "outputs": [
    {
     "data": {
      "text/plain": [
       "'hello'"
      ]
     },
     "execution_count": 81,
     "metadata": {},
     "output_type": "execute_result"
    }
   ],
   "source": [
    "a"
   ]
  },
  {
   "cell_type": "code",
   "execution_count": 82,
   "id": "8248a6a4",
   "metadata": {},
   "outputs": [
    {
     "data": {
      "text/plain": [
       "['010', '9000', '9123']"
      ]
     },
     "execution_count": 82,
     "metadata": {},
     "output_type": "execute_result"
    }
   ],
   "source": [
    "pn = \"010.9000.9123\"\n",
    "pn.split(\".\")"
   ]
  },
  {
   "cell_type": "code",
   "execution_count": 83,
   "id": "b0044b1b",
   "metadata": {},
   "outputs": [],
   "source": [
    "# [ ,  ,  ]: JS 배열 / python : list"
   ]
  },
  {
   "cell_type": "code",
   "execution_count": 84,
   "id": "6c094ce3",
   "metadata": {},
   "outputs": [
    {
     "data": {
      "text/plain": [
       "('hello', 'hallo')"
      ]
     },
     "execution_count": 84,
     "metadata": {},
     "output_type": "execute_result"
    }
   ],
   "source": [
    "a = \"hello\"\n",
    "a2 = a.replace(\"e\", \"a\")\n",
    "a, a2\n"
   ]
  },
  {
   "cell_type": "code",
   "execution_count": 85,
   "id": "a71809a6",
   "metadata": {},
   "outputs": [],
   "source": [
    "a = [1, 4, 2, 5, 2]\n",
    "a.sort()"
   ]
  },
  {
   "cell_type": "code",
   "execution_count": 86,
   "id": "9047daae",
   "metadata": {},
   "outputs": [
    {
     "data": {
      "text/plain": [
       "[1, 2, 2, 4, 5]"
      ]
     },
     "execution_count": 86,
     "metadata": {},
     "output_type": "execute_result"
    }
   ],
   "source": [
    "a"
   ]
  },
  {
   "cell_type": "code",
   "execution_count": 88,
   "id": "47ffbdc8",
   "metadata": {},
   "outputs": [
    {
     "data": {
      "text/plain": [
       "([1, 4, 2, 5, 2], [1, 2, 2, 4, 5])"
      ]
     },
     "execution_count": 88,
     "metadata": {},
     "output_type": "execute_result"
    }
   ],
   "source": [
    "a = [1, 4, 2, 5, 2]\n",
    "a2 = sorted(a)\n",
    "a, a2"
   ]
  },
  {
   "cell_type": "code",
   "execution_count": 89,
   "id": "6a3a1ec9",
   "metadata": {},
   "outputs": [
    {
     "data": {
      "text/plain": [
       "[1, 2, '3', 4]"
      ]
     },
     "execution_count": 89,
     "metadata": {},
     "output_type": "execute_result"
    }
   ],
   "source": [
    "a = [1, 2, \"3\", 4]\n",
    "a"
   ]
  },
  {
   "cell_type": "code",
   "execution_count": 91,
   "id": "24ab86ba",
   "metadata": {},
   "outputs": [
    {
     "data": {
      "text/plain": [
       "[1, 2, [3, 4]]"
      ]
     },
     "execution_count": 91,
     "metadata": {},
     "output_type": "execute_result"
    }
   ],
   "source": [
    "a = [1, 2, [3, 4]]\n",
    "a"
   ]
  },
  {
   "cell_type": "code",
   "execution_count": 92,
   "id": "6228f019",
   "metadata": {},
   "outputs": [
    {
     "data": {
      "text/plain": [
       "(1, 2, 3, 4)"
      ]
     },
     "execution_count": 92,
     "metadata": {},
     "output_type": "execute_result"
    }
   ],
   "source": [
    "a[0], a[1], a[2][0], a[2][1]"
   ]
  },
  {
   "cell_type": "code",
   "execution_count": 94,
   "id": "e83ad6f8",
   "metadata": {},
   "outputs": [
    {
     "data": {
      "text/plain": [
       "'23'"
      ]
     },
     "execution_count": 94,
     "metadata": {},
     "output_type": "execute_result"
    }
   ],
   "source": [
    "\"2\" + \"3\""
   ]
  },
  {
   "cell_type": "code",
   "execution_count": 95,
   "id": "59163726",
   "metadata": {},
   "outputs": [
    {
     "data": {
      "text/plain": [
       "['h', 'a', 'l', 'l', 'o']"
      ]
     },
     "execution_count": 95,
     "metadata": {},
     "output_type": "execute_result"
    }
   ],
   "source": [
    "a = [\"h\",\"e\",\"l\",\"l\",\"o\"]\n",
    "a[1] = \"a\"\n",
    "a"
   ]
  },
  {
   "cell_type": "code",
   "execution_count": 96,
   "id": "1e83d0c8",
   "metadata": {},
   "outputs": [
    {
     "data": {
      "text/plain": [
       "['h', 'l', 'l', 'o']"
      ]
     },
     "execution_count": 96,
     "metadata": {},
     "output_type": "execute_result"
    }
   ],
   "source": [
    "a = [\"h\",\"e\",\"l\",\"l\",\"o\"]\n",
    "del a[1]\n",
    "a"
   ]
  },
  {
   "cell_type": "code",
   "execution_count": 97,
   "id": "41acf9fd",
   "metadata": {},
   "outputs": [
    {
     "data": {
      "text/plain": [
       "[1, 2, 3, 4]"
      ]
     },
     "execution_count": 97,
     "metadata": {},
     "output_type": "execute_result"
    }
   ],
   "source": [
    "a = [1, 2, 3]\n",
    "a.append(4)\n",
    "a"
   ]
  },
  {
   "cell_type": "code",
   "execution_count": 98,
   "id": "61a1c013",
   "metadata": {},
   "outputs": [
    {
     "data": {
      "text/plain": [
       "[4, 1, 2, 3]"
      ]
     },
     "execution_count": 98,
     "metadata": {},
     "output_type": "execute_result"
    }
   ],
   "source": [
    "a = [1, 2, 3]\n",
    "a.insert(0, 4)\n",
    "a"
   ]
  },
  {
   "cell_type": "code",
   "execution_count": 99,
   "id": "21346bb1",
   "metadata": {},
   "outputs": [
    {
     "data": {
      "text/plain": [
       "['전원끄기', '엑셀cell데이터입력', '마우스 포인터 움직임']"
      ]
     },
     "execution_count": 99,
     "metadata": {},
     "output_type": "execute_result"
    }
   ],
   "source": [
    "a = [\"엑셀cell데이터입력\", \"마우스 포인터 움직임\"]\n",
    "a.insert(0, \"전원끄기\")\n",
    "a"
   ]
  },
  {
   "cell_type": "code",
   "execution_count": 100,
   "id": "f1ebe8e2",
   "metadata": {},
   "outputs": [
    {
     "data": {
      "text/plain": [
       "['사장님 업무지시', '이사님 업무', '과장님 업무시지', '김대리님 업무지시']"
      ]
     },
     "execution_count": 100,
     "metadata": {},
     "output_type": "execute_result"
    }
   ],
   "source": [
    "a = [\"사장님 업무지시\", \"과장님 업무시지\", \"김대리님 업무지시\"]\n",
    "a.insert(1, \"이사님 업무\")\n",
    "a"
   ]
  },
  {
   "cell_type": "code",
   "execution_count": 101,
   "id": "3438a805",
   "metadata": {},
   "outputs": [
    {
     "data": {
      "text/plain": [
       "[10, 30, 40]"
      ]
     },
     "execution_count": 101,
     "metadata": {},
     "output_type": "execute_result"
    }
   ],
   "source": [
    "a = [10, 20, 30, 40]\n",
    "del a[1] # 20 삭제 \n",
    "a"
   ]
  },
  {
   "cell_type": "code",
   "execution_count": 103,
   "id": "cd118541",
   "metadata": {},
   "outputs": [
    {
     "data": {
      "text/plain": [
       "[10, 30, 40]"
      ]
     },
     "execution_count": 103,
     "metadata": {},
     "output_type": "execute_result"
    }
   ],
   "source": [
    "a = [10, 20, 30, 40]\n",
    "a.remove(20)\n",
    "a"
   ]
  },
  {
   "cell_type": "code",
   "execution_count": 104,
   "id": "a69626b4",
   "metadata": {},
   "outputs": [
    {
     "data": {
      "text/plain": [
       "[10, 30, 20]"
      ]
     },
     "execution_count": 104,
     "metadata": {},
     "output_type": "execute_result"
    }
   ],
   "source": [
    "a = [10, 20, 30, 20]\n",
    "a.remove(20)\n",
    "a"
   ]
  },
  {
   "cell_type": "code",
   "execution_count": 107,
   "id": "c5bee633",
   "metadata": {
    "scrolled": true
   },
   "outputs": [
    {
     "data": {
      "text/plain": [
       "[10, 30]"
      ]
     },
     "execution_count": 107,
     "metadata": {},
     "output_type": "execute_result"
    }
   ],
   "source": [
    "a = [10, 20, 30, 20]\n",
    "a.remove(20)\n",
    "a.remove(20)\n",
    "a"
   ]
  },
  {
   "cell_type": "code",
   "execution_count": 108,
   "id": "fc4fa08b",
   "metadata": {},
   "outputs": [
    {
     "data": {
      "text/plain": [
       "[1, 2]"
      ]
     },
     "execution_count": 108,
     "metadata": {},
     "output_type": "execute_result"
    }
   ],
   "source": [
    "a = [1, 2, 3]\n",
    "a.pop(2)\n",
    "a"
   ]
  },
  {
   "cell_type": "code",
   "execution_count": 109,
   "id": "387286f7",
   "metadata": {},
   "outputs": [
    {
     "data": {
      "text/plain": [
       "[1, 20, 3]"
      ]
     },
     "execution_count": 109,
     "metadata": {},
     "output_type": "execute_result"
    }
   ],
   "source": [
    "a = [1, 2, 3]\n",
    "a[1] = 20\n",
    "a \n"
   ]
  },
  {
   "cell_type": "code",
   "execution_count": 110,
   "id": "d33f576a",
   "metadata": {},
   "outputs": [
    {
     "ename": "TypeError",
     "evalue": "'tuple' object does not support item assignment",
     "output_type": "error",
     "traceback": [
      "\u001b[0;31m---------------------------------------------------------------------------\u001b[0m",
      "\u001b[0;31mTypeError\u001b[0m                                 Traceback (most recent call last)",
      "Cell \u001b[0;32mIn[110], line 2\u001b[0m\n\u001b[1;32m      1\u001b[0m a \u001b[38;5;241m=\u001b[39m (\u001b[38;5;241m1\u001b[39m, \u001b[38;5;241m2\u001b[39m, \u001b[38;5;241m3\u001b[39m)\n\u001b[0;32m----> 2\u001b[0m a[\u001b[38;5;241m1\u001b[39m] \u001b[38;5;241m=\u001b[39m \u001b[38;5;241m20\u001b[39m\n\u001b[1;32m      3\u001b[0m a\n",
      "\u001b[0;31mTypeError\u001b[0m: 'tuple' object does not support item assignment"
     ]
    }
   ],
   "source": [
    "a = (1, 2, 3)\n",
    "a[1] = 20\n",
    "a"
   ]
  },
  {
   "cell_type": "code",
   "execution_count": 113,
   "id": "7226450a",
   "metadata": {},
   "outputs": [],
   "source": [
    "# JS객체\n",
    "# dic = {name: 'pay'\n",
    "#        phone: '010-1111-1111'\n",
    "#        birth: '1118'}\n",
    "dic = {'name': 'pay',\n",
    "      'phone': '010-1111-1111',\n",
    "      'birth': '1118'}"
   ]
  },
  {
   "cell_type": "code",
   "execution_count": 114,
   "id": "d6597cca",
   "metadata": {},
   "outputs": [
    {
     "data": {
      "text/plain": [
       "{'name': 'pay', 'phone': '010-1111-1111', 'birth': '1118', 'hobby': 'swiming'}"
      ]
     },
     "execution_count": 114,
     "metadata": {},
     "output_type": "execute_result"
    }
   ],
   "source": [
    "dic[\"hobby\"] = \"swiming\"\n",
    "dic"
   ]
  },
  {
   "cell_type": "code",
   "execution_count": 115,
   "id": "5ae4e5c1",
   "metadata": {},
   "outputs": [
    {
     "data": {
      "text/plain": [
       "'pay'"
      ]
     },
     "execution_count": 115,
     "metadata": {},
     "output_type": "execute_result"
    }
   ],
   "source": [
    "dic[\"name\"]"
   ]
  },
  {
   "cell_type": "code",
   "execution_count": 116,
   "id": "3a10cde2",
   "metadata": {},
   "outputs": [
    {
     "data": {
      "text/plain": [
       "dict_keys(['name', 'phone', 'birth', 'hobby'])"
      ]
     },
     "execution_count": 116,
     "metadata": {},
     "output_type": "execute_result"
    }
   ],
   "source": [
    "dic.keys()"
   ]
  },
  {
   "cell_type": "code",
   "execution_count": 117,
   "id": "25170b14",
   "metadata": {},
   "outputs": [
    {
     "data": {
      "text/plain": [
       "dict_values(['pay', '010-1111-1111', '1118', 'swiming'])"
      ]
     },
     "execution_count": 117,
     "metadata": {},
     "output_type": "execute_result"
    }
   ],
   "source": [
    "dic.values()"
   ]
  },
  {
   "cell_type": "code",
   "execution_count": 118,
   "id": "1e2d13fe",
   "metadata": {},
   "outputs": [
    {
     "data": {
      "text/plain": [
       "dict_items([('name', 'pay'), ('phone', '010-1111-1111'), ('birth', '1118'), ('hobby', 'swiming')])"
      ]
     },
     "execution_count": 118,
     "metadata": {},
     "output_type": "execute_result"
    }
   ],
   "source": [
    "dic.items()"
   ]
  },
  {
   "cell_type": "code",
   "execution_count": 119,
   "id": "133db516",
   "metadata": {},
   "outputs": [
    {
     "data": {
      "text/plain": [
       "'swiming'"
      ]
     },
     "execution_count": 119,
     "metadata": {},
     "output_type": "execute_result"
    }
   ],
   "source": [
    "dic.get(\"hobby\")"
   ]
  },
  {
   "cell_type": "code",
   "execution_count": 120,
   "id": "35f917a9",
   "metadata": {},
   "outputs": [
    {
     "data": {
      "text/plain": [
       "True"
      ]
     },
     "execution_count": 120,
     "metadata": {},
     "output_type": "execute_result"
    }
   ],
   "source": [
    "\"hobby\" in dic"
   ]
  },
  {
   "cell_type": "code",
   "execution_count": 121,
   "id": "0b76f717",
   "metadata": {},
   "outputs": [
    {
     "data": {
      "text/plain": [
       "False"
      ]
     },
     "execution_count": 121,
     "metadata": {},
     "output_type": "execute_result"
    }
   ],
   "source": [
    "\"names\" in dic"
   ]
  },
  {
   "cell_type": "code",
   "execution_count": 122,
   "id": "dae3363a",
   "metadata": {},
   "outputs": [],
   "source": [
    "# JS : set 집합 "
   ]
  },
  {
   "cell_type": "code",
   "execution_count": 123,
   "id": "ca11e28c",
   "metadata": {},
   "outputs": [
    {
     "data": {
      "text/plain": [
       "False"
      ]
     },
     "execution_count": 123,
     "metadata": {},
     "output_type": "execute_result"
    }
   ],
   "source": [
    "1>2"
   ]
  },
  {
   "cell_type": "code",
   "execution_count": 124,
   "id": "6e4945e0",
   "metadata": {},
   "outputs": [
    {
     "data": {
      "text/plain": [
       "True"
      ]
     },
     "execution_count": 124,
     "metadata": {},
     "output_type": "execute_result"
    }
   ],
   "source": [
    "2>1"
   ]
  },
  {
   "cell_type": "code",
   "execution_count": 125,
   "id": "0eadfc38",
   "metadata": {},
   "outputs": [],
   "source": [
    "if (False):\n",
    "    print(\"실행하지못함.\")"
   ]
  },
  {
   "cell_type": "code",
   "execution_count": 126,
   "id": "89d7bec7",
   "metadata": {},
   "outputs": [],
   "source": [
    " a = [1, 2, 3]\n",
    " b = a"
   ]
  },
  {
   "cell_type": "code",
   "execution_count": 127,
   "id": "44651dbf",
   "metadata": {},
   "outputs": [
    {
     "ename": "TypeError",
     "evalue": "'list' object is not callable",
     "output_type": "error",
     "traceback": [
      "\u001b[0;31m---------------------------------------------------------------------------\u001b[0m",
      "\u001b[0;31mTypeError\u001b[0m                                 Traceback (most recent call last)",
      "Cell \u001b[0;32mIn[127], line 1\u001b[0m\n\u001b[0;32m----> 1\u001b[0m \u001b[43ma\u001b[49m\u001b[43m(\u001b[49m\u001b[43m)\u001b[49m\n",
      "\u001b[0;31mTypeError\u001b[0m: 'list' object is not callable"
     ]
    }
   ],
   "source": [
    "a()"
   ]
  },
  {
   "cell_type": "code",
   "execution_count": 128,
   "id": "92bbdf20",
   "metadata": {},
   "outputs": [
    {
     "data": {
      "text/plain": [
       "[1, 2, 3]"
      ]
     },
     "execution_count": 128,
     "metadata": {},
     "output_type": "execute_result"
    }
   ],
   "source": [
    "a"
   ]
  },
  {
   "cell_type": "code",
   "execution_count": 129,
   "id": "e3c98bfa",
   "metadata": {},
   "outputs": [
    {
     "data": {
      "text/plain": [
       "[1, 2, 3]"
      ]
     },
     "execution_count": 129,
     "metadata": {},
     "output_type": "execute_result"
    }
   ],
   "source": [
    "b"
   ]
  },
  {
   "cell_type": "code",
   "execution_count": 130,
   "id": "38fab799",
   "metadata": {},
   "outputs": [
    {
     "data": {
      "text/plain": [
       "[1, 20, 3]"
      ]
     },
     "execution_count": 130,
     "metadata": {},
     "output_type": "execute_result"
    }
   ],
   "source": [
    "b[1] = 20\n",
    "a"
   ]
  },
  {
   "cell_type": "code",
   "execution_count": 131,
   "id": "140ed22f",
   "metadata": {},
   "outputs": [
    {
     "data": {
      "text/plain": [
       "[1, 2, 3]"
      ]
     },
     "execution_count": 131,
     "metadata": {},
     "output_type": "execute_result"
    }
   ],
   "source": [
    "a = [1, 2, 3]\n",
    "b = a[:]\n",
    "b[1] = 20\n",
    "a"
   ]
  },
  {
   "cell_type": "code",
   "execution_count": 132,
   "id": "6e14c7eb",
   "metadata": {},
   "outputs": [
    {
     "data": {
      "text/plain": [
       "(1, 2)"
      ]
     },
     "execution_count": 132,
     "metadata": {},
     "output_type": "execute_result"
    }
   ],
   "source": [
    "a = 1\n",
    "b = 2\n",
    "a, b = (1, 2)\n",
    "a, b"
   ]
  },
  {
   "cell_type": "code",
   "execution_count": 133,
   "id": "d7831383",
   "metadata": {},
   "outputs": [
    {
     "data": {
      "text/plain": [
       "(1, 2)"
      ]
     },
     "execution_count": 133,
     "metadata": {},
     "output_type": "execute_result"
    }
   ],
   "source": [
    "(a, b) = 1, 2\n",
    "a, b"
   ]
  },
  {
   "cell_type": "code",
   "execution_count": 134,
   "id": "d127d3b7",
   "metadata": {},
   "outputs": [
    {
     "data": {
      "text/plain": [
       "(2, 1)"
      ]
     },
     "execution_count": 134,
     "metadata": {},
     "output_type": "execute_result"
    }
   ],
   "source": [
    "x = 1 \n",
    "y = 2\n",
    "x, y = y, x\n",
    "x, y"
   ]
  },
  {
   "cell_type": "code",
   "execution_count": 135,
   "id": "9c1ab64f",
   "metadata": {
    "scrolled": true
   },
   "outputs": [
    {
     "name": "stdout",
     "output_type": "stream",
     "text": [
      "택시를\n",
      "타고\n",
      "가자\n"
     ]
    }
   ],
   "source": [
    "my_money = 20000\n",
    "taxi_pay = 10000\n",
    "if my_money >= taxi_pay:\n",
    "    print(\"택시를\")\n",
    "    print(\"타고\")\n",
    "    print(\"가자\")"
   ]
  },
  {
   "cell_type": "code",
   "execution_count": null,
   "id": "6c197fd5",
   "metadata": {},
   "outputs": [],
   "source": []
  },
  {
   "cell_type": "code",
   "execution_count": 136,
   "id": "4e035bc2",
   "metadata": {},
   "outputs": [
    {
     "ename": "IndentationError",
     "evalue": "unexpected indent (1107303426.py, line 6)",
     "output_type": "error",
     "traceback": [
      "\u001b[0;36m  Cell \u001b[0;32mIn[136], line 6\u001b[0;36m\u001b[0m\n\u001b[0;31m    print(\"가자\")\u001b[0m\n\u001b[0m    ^\u001b[0m\n\u001b[0;31mIndentationError\u001b[0m\u001b[0;31m:\u001b[0m unexpected indent\n"
     ]
    }
   ],
   "source": [
    "my_money = 20000\n",
    "taxi_pay = 10000\n",
    "if my_money >= taxi_pay:\n",
    "    print(\"택시를\")\n",
    "print(\"타고\")\n",
    "    print(\"가자\")"
   ]
  },
  {
   "cell_type": "code",
   "execution_count": 137,
   "id": "bbee21c0",
   "metadata": {},
   "outputs": [],
   "source": [
    "# JS 3>2 && 4>3\n",
    "# if 3>2 and 4>3"
   ]
  },
  {
   "cell_type": "code",
   "execution_count": 139,
   "id": "b695d29c",
   "metadata": {
    "scrolled": true
   },
   "outputs": [
    {
     "name": "stdout",
     "output_type": "stream",
     "text": [
      "ok\n"
     ]
    }
   ],
   "source": [
    "if True and True :\n",
    "    print(\"ok\")"
   ]
  },
  {
   "cell_type": "code",
   "execution_count": 140,
   "id": "0337f64d",
   "metadata": {},
   "outputs": [
    {
     "data": {
      "text/plain": [
       "True"
      ]
     },
     "execution_count": 140,
     "metadata": {},
     "output_type": "execute_result"
    }
   ],
   "source": [
    "list1 = [1, 4, 2]\n",
    "4 in list1"
   ]
  },
  {
   "cell_type": "code",
   "execution_count": 141,
   "id": "44257844",
   "metadata": {},
   "outputs": [
    {
     "data": {
      "text/plain": [
       "True"
      ]
     },
     "execution_count": 141,
     "metadata": {},
     "output_type": "execute_result"
    }
   ],
   "source": [
    "dict1 = {\"key1\":1, \"key4\":4, \"key2\":2}\n",
    "\"key4\" in dict1"
   ]
  },
  {
   "cell_type": "code",
   "execution_count": 143,
   "id": "4086e2f8",
   "metadata": {},
   "outputs": [
    {
     "ename": "SyntaxError",
     "evalue": "invalid syntax (1739931377.py, line 1)",
     "output_type": "error",
     "traceback": [
      "\u001b[0;36m  Cell \u001b[0;32mIn[143], line 1\u001b[0;36m\u001b[0m\n\u001b[0;31m    if ~~~~ :\u001b[0m\n\u001b[0m            ^\u001b[0m\n\u001b[0;31mSyntaxError\u001b[0m\u001b[0;31m:\u001b[0m invalid syntax\n"
     ]
    }
   ],
   "source": [
    "if ~~~~ : \n",
    "    pass"
   ]
  },
  {
   "cell_type": "code",
   "execution_count": 145,
   "id": "26bdefc6",
   "metadata": {},
   "outputs": [],
   "source": [
    "#JS \n",
    "#for(let i = 0; i < 10 ; i ++){}"
   ]
  },
  {
   "cell_type": "code",
   "execution_count": 147,
   "id": "9ac0c13a",
   "metadata": {
    "scrolled": true
   },
   "outputs": [
    {
     "name": "stdout",
     "output_type": "stream",
     "text": [
      "0123456789"
     ]
    }
   ],
   "source": [
    "for i in range(10):\n",
    "    print(i, end=\"\")"
   ]
  },
  {
   "cell_type": "code",
   "execution_count": 148,
   "id": "ff1a546a",
   "metadata": {
    "scrolled": true
   },
   "outputs": [
    {
     "name": "stdout",
     "output_type": "stream",
     "text": [
      "123456789"
     ]
    }
   ],
   "source": [
    "for i in range(1, 10):\n",
    "    print(i, end=\"\")"
   ]
  },
  {
   "cell_type": "code",
   "execution_count": 149,
   "id": "7705d3f9",
   "metadata": {},
   "outputs": [
    {
     "name": "stdout",
     "output_type": "stream",
     "text": [
      "13579"
     ]
    }
   ],
   "source": [
    "for i in range(1, 10, 2):\n",
    "    print(i, end=\"\")"
   ]
  },
  {
   "cell_type": "code",
   "execution_count": 154,
   "id": "6158a18b",
   "metadata": {},
   "outputs": [
    {
     "name": "stdout",
     "output_type": "stream",
     "text": [
      "[2, 4, 6, 8, 10, 12, 14, 16, 18, 3, 6, 9, 12, 15, 18, 21, 24, 27, 4, 8, 12, 16, 20, 24, 28, 32, 36, 5, 10, 15, 20, 25, 30, 35, 40, 45, 6, 12, 18, 24, 30, 36, 42, 48, 54, 7, 14, 21, 28, 35, 42, 49, 56, 63, 8, 16, 24, 32, 40, 48, 56, 64, 72, 9, 18, 27, 36, 45, 54, 63, 72, 81]\n"
     ]
    }
   ],
   "source": [
    "result = []\n",
    "for dan in range(2, 10):\n",
    "    for gop in range(1, 10):\n",
    "        result.append(dan * gop)\n",
    "        \n",
    "print(result)"
   ]
  },
  {
   "cell_type": "code",
   "execution_count": 157,
   "id": "1839e26a",
   "metadata": {},
   "outputs": [
    {
     "name": "stdout",
     "output_type": "stream",
     "text": [
      "lifeistoo short\n"
     ]
    }
   ],
   "source": [
    "#JS\n",
    "# console.log (`life is too short`)\n",
    "\n",
    "print (\"life\" \"is\" \"too short\")"
   ]
  },
  {
   "cell_type": "code",
   "execution_count": 158,
   "id": "156bf212",
   "metadata": {},
   "outputs": [
    {
     "name": "stdout",
     "output_type": "stream",
     "text": [
      "life is too short\n"
     ]
    }
   ],
   "source": [
    "print(\"life \"\"is \"\"too short\")"
   ]
  },
  {
   "cell_type": "code",
   "execution_count": 161,
   "id": "ade41a9d",
   "metadata": {},
   "outputs": [],
   "source": [
    "result = []\n",
    "for countdown in range(61):\n",
    "    if countdown <= 0:\n",
    "    print(countdown, end=\"\")"
   ]
  },
  {
   "cell_type": "code",
   "execution_count": 164,
   "id": "22afc8ad",
   "metadata": {},
   "outputs": [
    {
     "name": "stdout",
     "output_type": "stream",
     "text": [
      "1/2/3\n"
     ]
    }
   ],
   "source": [
    "a = 1 \n",
    "b = 2\n",
    "c = 3\n",
    "print(a, b, c, sep=\"/\")"
   ]
  },
  {
   "cell_type": "code",
   "execution_count": 190,
   "id": "2f069a3f",
   "metadata": {},
   "outputs": [
    {
     "name": "stdout",
     "output_type": "stream",
     "text": [
      "60 59 58 57 56 55 54 53 52 51 50 49 48 47 46 45 44 43 42 41 40 39 38 37 36 35 34 33 32 31 30 29 28 27 26 25 24 23 22 21 20 19 18 17 16 15 14 13 12 11 10 9 8 7 6 5 4 3 2 1 0 발사\n"
     ]
    }
   ],
   "source": [
    "\n",
    "for countdown in range(60, -1, -1):\n",
    "    print(countdown, end=\" \")\n",
    "    if countdown <= 0:\n",
    "        print(\"발사\")"
   ]
  },
  {
   "cell_type": "code",
   "execution_count": 208,
   "id": "ee791e22",
   "metadata": {},
   "outputs": [
    {
     "name": "stdout",
     "output_type": "stream",
     "text": [
      "1\t2\t3\t4\t5\t6\t7\t8\t9\t\n",
      "2\t4\t6\t8\t10\t12\t14\t16\t18\t\n",
      "3\t6\t9\t12\t15\t18\t21\t24\t27\t\n",
      "4\t8\t12\t16\t20\t24\t28\t32\t36\t\n",
      "5\t10\t15\t20\t25\t30\t35\t40\t45\t\n",
      "6\t12\t18\t24\t30\t36\t42\t48\t54\t\n",
      "7\t14\t21\t28\t35\t42\t49\t56\t63\t\n",
      "8\t16\t24\t32\t40\t48\t56\t64\t72\t\n",
      "9\t18\t27\t36\t45\t54\t63\t72\t81\t\n"
     ]
    }
   ],
   "source": [
    "for row in range(1, 10):\n",
    "    for col in range(1, 10):\n",
    "        print(row * col, end=\"\\t\")\n",
    "    print()\n",
    "    "
   ]
  },
  {
   "cell_type": "code",
   "execution_count": 1,
   "id": "6cbe754a",
   "metadata": {},
   "outputs": [
    {
     "name": "stdout",
     "output_type": "stream",
     "text": [
      "1******\n",
      "12*****\n",
      "123****\n",
      "1234***\n",
      "12345**\n",
      "123456*\n",
      "1234567\n"
     ]
    }
   ],
   "source": [
    "for num in range(1, 8):\n",
    "    for row in range(1, 8):\n",
    "        if num >= row:\n",
    "            print(row, end=\"\")\n",
    "        else:\n",
    "            print(\"*\", end=\"\")\n",
    "    print()"
   ]
  },
  {
   "cell_type": "code",
   "execution_count": 2,
   "id": "6c91bfdd",
   "metadata": {},
   "outputs": [
    {
     "name": "stdout",
     "output_type": "stream",
     "text": [
      "1******\n",
      "12*****\n",
      "123****\n",
      "1234***\n",
      "12345**\n",
      "123456*\n",
      "1234567\n"
     ]
    }
   ],
   "source": [
    "for num in range(1, 8):\n",
    "    for row in range(1, num+1):\n",
    "        print(row, end=\"\")\n",
    "    for row_star in range(1, (7-num)+1):\n",
    "        print(\"*\", end=\"\")\n",
    "    print()"
   ]
  },
  {
   "cell_type": "code",
   "execution_count": 6,
   "id": "95df7777",
   "metadata": {},
   "outputs": [
    {
     "name": "stdout",
     "output_type": "stream",
     "text": [
      "1******\n",
      "12*****\n",
      "123****\n",
      "1234***\n",
      "12345**\n",
      "123456*\n",
      "1234567\n"
     ]
    }
   ],
   "source": [
    "for num in range(1, 8):\n",
    "    for row in range(1, num+1):\n",
    "        print(row, end=\"\")\n",
    "    print(\"*\"*(7-num))"
   ]
  },
  {
   "cell_type": "code",
   "execution_count": 7,
   "id": "9f32a43b",
   "metadata": {},
   "outputs": [
    {
     "name": "stdout",
     "output_type": "stream",
     "text": [
      "1******\n",
      "12*****\n",
      "123****\n",
      "1234***\n",
      "12345**\n",
      "123456*\n",
      "1234567\n"
     ]
    }
   ],
   "source": [
    "num = \"\"\n",
    "for i in range(1, 8):\n",
    "    num += str(i)\n",
    "    print(num + \"*\"*(7-i))"
   ]
  },
  {
   "cell_type": "code",
   "execution_count": 39,
   "id": "6b7b9089",
   "metadata": {},
   "outputs": [
    {
     "name": "stdout",
     "output_type": "stream",
     "text": [
      "104 개\n"
     ]
    }
   ],
   "source": [
    "count = 0\n",
    "for a in range(1, 101):\n",
    "    for b in range(1, 101):\n",
    "        for c in range(1, 101):\n",
    "            if a*a + b*b == c*c:\n",
    "                count+=1\n",
    "print(count, \"개\")\n",
    "                 "
   ]
  },
  {
   "cell_type": "code",
   "execution_count": 70,
   "id": "3d633fc5",
   "metadata": {},
   "outputs": [
    {
     "name": "stdout",
     "output_type": "stream",
     "text": [
      "12345678910\n",
      "234567891011\n",
      "3456789101112\n",
      "45678910111213\n",
      "567891011121314\n",
      "6789101112131415\n",
      "78910111213141516\n",
      "891011121314151617\n",
      "9101112131415161718\n",
      "10111213141516171819\n",
      "0\n"
     ]
    }
   ],
   "source": [
    "count = 0\n",
    "num = 0\n",
    "for row in range(1, 11):\n",
    "    for col in range(1, 11):\n",
    "        print(row+col-1, end=\"\")\n",
    "    print()\n",
    "            \n",
    "print(count)"
   ]
  },
  {
   "cell_type": "code",
   "execution_count": 76,
   "id": "b6927dee",
   "metadata": {},
   "outputs": [
    {
     "name": "stdout",
     "output_type": "stream",
     "text": [
      "1 2 3 4 5 6 7 8 9 10 \n",
      "2 3 4 5 6 7 8 9 10 11 \n",
      "3 4 5 6 7 8 9 10 11 12 \n",
      "4 5 6 7 8 9 10 11 12 13 \n",
      "5 6 7 8 9 10 11 12 13 14 \n",
      "6 7 8 9 10 11 12 13 14 15 \n",
      "7 8 9 10 11 12 13 14 15 16 \n",
      "8 9 10 11 12 13 14 15 16 17 \n",
      "9 10 11 12 13 14 15 16 17 18 \n",
      "10 11 12 13 14 15 16 17 18 19 \n",
      "누적 값은 : 1000\n",
      "누적 값은 1000이다.\n"
     ]
    }
   ],
   "source": [
    "count = 0\n",
    "for row in range (1, 11):\n",
    "    for col in range (1, 11):\n",
    "        num = row + col - 1\n",
    "        count += num\n",
    "        print(num, end=\" \")\n",
    "    print()\n",
    "print(\"누적 값은 :\", count)\n",
    "print(f\"누적 값은 {count}이다.\")"
   ]
  },
  {
   "cell_type": "code",
   "execution_count": 87,
   "id": "29d2a791",
   "metadata": {},
   "outputs": [
    {
     "name": "stdout",
     "output_type": "stream",
     "text": [
      "901\n"
     ]
    }
   ],
   "source": [
    "count = 0\n",
    "for i in range(1, 101):\n",
    "    i1 = int((i/1)%10)\n",
    "    i2 = int((i/10)%10)\n",
    "    i3 = int((i/100)%10)\n",
    "    i4 = i3 + i2 + i1 \n",
    "    count += i4\n",
    "print(count)"
   ]
  },
  {
   "cell_type": "code",
   "execution_count": 2,
   "id": "b5173172",
   "metadata": {},
   "outputs": [
    {
     "name": "stdout",
     "output_type": "stream",
     "text": [
      "11\n"
     ]
    }
   ],
   "source": [
    "num = 682\n",
    "count = 0\n",
    "while True:\n",
    "    if num%2 == 0:\n",
    "        num /= 2\n",
    "    else:\n",
    "        num = (num*3+1)/2\n",
    "    count += 1\n",
    "    \n",
    "    if num == 1:\n",
    "        print(count)\n",
    "        break"
   ]
  },
  {
   "cell_type": "code",
   "execution_count": null,
   "id": "2c94cd86",
   "metadata": {},
   "outputs": [],
   "source": [
    "a = 1\n",
    "a"
   ]
  },
  {
   "cell_type": "code",
   "execution_count": 1,
   "id": "9146d49f",
   "metadata": {},
   "outputs": [
    {
     "name": "stdout",
     "output_type": "stream",
     "text": [
      "17\n"
     ]
    }
   ],
   "source": [
    "count = 0\n",
    "myHeight = 0\n",
    "while True :\n",
    "    myHeight += 3\n",
    "    if myHeight > 19.4:\n",
    "        break\n",
    "    myHeight -= 2\n",
    "    count += 1\n",
    "print(count)"
   ]
  },
  {
   "cell_type": "code",
   "execution_count": 7,
   "id": "3f6c8e6c",
   "metadata": {
    "scrolled": true
   },
   "outputs": [
    {
     "name": "stdout",
     "output_type": "stream",
     "text": [
      "[1, 1, 2, 1, 2, 3, 1, 2, 3, 4, 1, 2, 3, 4, 5, 1, 2, 3, 4, 5, 6, 1, 2, 3, 4, 5, 6, 7, 1, 2, 3, 4, 5, 6, 7, 8, 1, 2, 3, 4, 5, 6, 7, 8, 9, 1, 2, 3, 4, 5, 6, 7, 8, 9, 10, 1, 2, 3, 4, 5, 6, 7, 8, 9, 10, 11, 1, 2, 3, 4, 5, 6, 7, 8, 9, 10, 11, 12, 1, 2, 3, 4, 5, 6, 7, 8, 9, 10, 11, 12, 13, 1, 2, 3, 4, 5, 6, 7, 8, 9, 10, 11, 12, 13, 14, 1, 2, 3, 4, 5, 6, 7, 8, 9, 10, 11, 12, 13, 14, 15, 1, 2, 3, 4, 5, 6, 7, 8, 9, 10, 11, 12, 13, 14, 15, 16, 1, 2, 3, 4, 5, 6, 7, 8, 9, 10, 11, 12, 13, 14, 15, 16, 17, 1, 2, 3, 4, 5, 6, 7, 8, 9, 10, 11, 12, 13, 14, 15, 16, 17, 18, 1, 2, 3, 4, 5, 6, 7, 8, 9, 10, 11, 12, 13, 14, 15, 16, 17, 18, 19, 1, 2, 3, 4, 5, 6, 7, 8, 9, 10, 11, 12, 13, 14, 15, 16, 17, 18, 19, 20] [1, 2, 1, 3, 2, 1, 4, 3, 2, 1, 5, 4, 3, 2, 1, 6, 5, 4, 3, 2, 1, 7, 6, 5, 4, 3, 2, 1, 8, 7, 6, 5, 4, 3, 2, 1, 9, 8, 7, 6, 5, 4, 3, 2, 1, 10, 9, 8, 7, 6, 5, 4, 3, 2, 1, 11, 10, 9, 8, 7, 6, 5, 4, 3, 2, 1, 12, 11, 10, 9, 8, 7, 6, 5, 4, 3, 2, 1, 13, 12, 11, 10, 9, 8, 7, 6, 5, 4, 3, 2, 1, 14, 13, 12, 11, 10, 9, 8, 7, 6, 5, 4, 3, 2, 1, 15, 14, 13, 12, 11, 10, 9, 8, 7, 6, 5, 4, 3, 2, 1, 16, 15, 14, 13, 12, 11, 10, 9, 8, 7, 6, 5, 4, 3, 2, 1, 17, 16, 15, 14, 13, 12, 11, 10, 9, 8, 7, 6, 5, 4, 3, 2, 1, 18, 17, 16, 15, 14, 13, 12, 11, 10, 9, 8, 7, 6, 5, 4, 3, 2, 1, 19, 18, 17, 16, 15, 14, 13, 12, 11, 10, 9, 8, 7, 6, 5, 4, 3, 2, 1, 20, 19, 18, 17, 16, 15, 14, 13, 12, 11, 10, 9, 8, 7, 6, 5, 4, 3, 2, 1] "
     ]
    }
   ],
   "source": [
    "bunja = []\n",
    "bunmo = []\n",
    "big_loop = 1\n",
    "while True:\n",
    "    for i in range(1, big_loop+1):\n",
    "        bunja.append(i)\n",
    "        bunmo.append(big_loop+1 - i)\n",
    "    if big_loop == 20:\n",
    "        break\n",
    "    big_loop+=1\n",
    "print(bunja, bunmo, end=\" \")"
   ]
  },
  {
   "cell_type": "code",
   "execution_count": 5,
   "id": "a91cea0b",
   "metadata": {},
   "outputs": [
    {
     "name": "stdout",
     "output_type": "stream",
     "text": [
      "32\n"
     ]
    }
   ],
   "source": [
    "for i_test in range(len(bunmo)):\n",
    "    if (bunja[i_test] == 4) and (bunmo[i_test] ==5):\n",
    "        print(i_test+1)\n",
    "        break"
   ]
  },
  {
   "cell_type": "code",
   "execution_count": 9,
   "id": "2fcaea54",
   "metadata": {},
   "outputs": [
    {
     "name": "stdout",
     "output_type": "stream",
     "text": [
      "32\n"
     ]
    }
   ],
   "source": [
    "big_loop = 1\n",
    "i_test = 1\n",
    "going = True\n",
    "while going:\n",
    "    for i in range(1, big_loop + 1):\n",
    "        if (i==4) and (big_loop+1 - i == 5):\n",
    "            print(i_test)\n",
    "            going = False\n",
    "        i_test += 1\n",
    "    big_loop += 1\n"
   ]
  },
  {
   "cell_type": "code",
   "execution_count": 18,
   "id": "aaf144fa",
   "metadata": {},
   "outputs": [
    {
     "data": {
      "text/plain": [
       "(0, 0, 1, 2, 7300)"
      ]
     },
     "execution_count": 18,
     "metadata": {},
     "output_type": "execute_result"
    }
   ],
   "source": [
    "apple_left = 17\n",
    "money = 0\n",
    "apple6 = 0\n",
    "apple5 = 0\n",
    "apple1 = 0\n",
    "while apple_left > 0:\n",
    "    if apple_left >= 6:\n",
    "        apple_left -= 6\n",
    "        money += 2400\n",
    "        apple6 += 1\n",
    "    elif apple_left >= 5:\n",
    "        apple_left -= 5\n",
    "        money += 2500\n",
    "        apple5 += 1\n",
    "    elif apple_left >= 1:\n",
    "        apple_left -= 1\n",
    "        money += 700\n",
    "        apple1 += 1\n",
    "apple_left, apple1, apple5, apple6, money"
   ]
  },
  {
   "cell_type": "code",
   "execution_count": 19,
   "id": "94916907",
   "metadata": {},
   "outputs": [
    {
     "name": "stdout",
     "output_type": "stream",
     "text": [
      "7300\n"
     ]
    }
   ],
   "source": [
    "def apple_shop (basket):    #   / <- 나누기 연산자 (소숫점도 나옴)  // <- 나누기 몫 연산자 (몫만나옴) % <- 나머지 연산자 (5 % 3 = 2 <- 나머지반환)\n",
    "    six_apple = basket // 6 #  6개로 묶인 사과 갯수 세기\n",
    "    basket = basket % 6     #  6개로 나눠서 남은 나머지만 넣어주기\n",
    "    five_apple = basket // 5 # 위 동일\n",
    "    basket = basket % 5      # 위 동일\n",
    "    one_apple = basket       # 남은 사과 담아주기\n",
    "    return (six_apple * 2400) + (five_apple * 2500) + (one_apple * 700) # 바구니의 갯수에 가격 매겨주기\n",
    "print(apple_shop(17))\n"
   ]
  },
  {
   "cell_type": "code",
   "execution_count": 23,
   "id": "ba1e6d8f",
   "metadata": {},
   "outputs": [
    {
     "data": {
      "text/plain": [
       "1"
      ]
     },
     "execution_count": 23,
     "metadata": {},
     "output_type": "execute_result"
    }
   ],
   "source": [
    "num = 1\n",
    "for i in range(2016):\n",
    "    num *= 3\n",
    "    num %= 10\n",
    "num"
   ]
  },
  {
   "cell_type": "code",
   "execution_count": 24,
   "id": "c9eb7d15",
   "metadata": {},
   "outputs": [
    {
     "ename": "SyntaxError",
     "evalue": "cannot assign to comparison (1221209315.py, line 4)",
     "output_type": "error",
     "traceback": [
      "\u001b[0;36m  Cell \u001b[0;32mIn[24], line 4\u001b[0;36m\u001b[0m\n\u001b[0;31m    val_in < 0 = False\u001b[0m\n\u001b[0m    ^\u001b[0m\n\u001b[0;31mSyntaxError\u001b[0m\u001b[0;31m:\u001b[0m cannot assign to comparison\n"
     ]
    }
   ],
   "source": [
    "# sum(), min(), max()함수 사용 X, list ok \n",
    "\n",
    "val_in = int(input(\"양수를 입력하세요.\"))\n",
    "val_in < 0 = False\n",
    "count\n",
    "while val_in > 0\n",
    "    val_min = \n",
    "    \n",
    "    val_max\n",
    "    val_average\n",
    "\n",
    "\n",
    "print(f\"평균:{val_average}. 최소값:{val_min}. 최대값:{val_max}.\")"
   ]
  },
  {
   "cell_type": "code",
   "execution_count": 33,
   "id": "5732d8c1",
   "metadata": {},
   "outputs": [
    {
     "name": "stdout",
     "output_type": "stream",
     "text": [
      "숫자를 입력하시오4\n",
      "숫자를 입력하시오5\n",
      "숫자를 입력하시오6\n",
      "숫자를 입력하시오-1\n",
      "평균:5.0. 최소값:4. 최대값:6.\n"
     ]
    }
   ],
   "source": [
    "val_count = 1\n",
    "val_sum = val_min = val_max = int(input(\"숫자를 입력하시오\"))\n",
    "while True:\n",
    "    val_in = int(input(\"숫자를 입력하시오\"))\n",
    "    \n",
    "    if val_in < 0:\n",
    "        val_average = val_sum / val_count\n",
    "        print(f\"평균:{val_average}. 최소값:{val_min}. 최대값:{val_max}.\")\n",
    "        break\n",
    "        \n",
    "    if val_min > val_in:\n",
    "        val_min = val_in\n",
    "        \n",
    "    if val_max < val_in:\n",
    "        val_max = val_in\n",
    "    \n",
    "    val_sum += val_in\n",
    "    val_count += 1\n",
    "    \n",
    "        \n",
    "    "
   ]
  },
  {
   "cell_type": "code",
   "execution_count": null,
   "id": "c1dec8b4",
   "metadata": {},
   "outputs": [],
   "source": [
    "# 첫번째 문자를 맨 뒤로 움직인다. \n",
    "# 첫 문자가 a 가 나올때가지 몇 번을 돌려야하는가.\n",
    "# foobar\n",
    "\n",
    "# 반복문으로 계속 돌린다 -> x[0]을 append (?)\n",
    "# -> 횟수 당 카운트 -> x[0] == 'a' 일때 break"
   ]
  },
  {
   "cell_type": "code",
   "execution_count": 48,
   "id": "3e7fb3de",
   "metadata": {},
   "outputs": [
    {
     "data": {
      "text/plain": [
       "4"
      ]
     },
     "execution_count": 48,
     "metadata": {},
     "output_type": "execute_result"
    }
   ],
   "source": [
    "word = 'foobar'\n",
    "wordlist = []\n",
    "for r in range(len(word)-1):\n",
    "    word = word[1:] + word[0] #문자 옮기기..\n",
    "    wordlist.append(word)\n",
    "wordlist_sort = sorted(wordlist)\n",
    "wordlist.index(wordlist_sort[0])+1"
   ]
  },
  {
   "cell_type": "code",
   "execution_count": 49,
   "id": "4a0fb5cf",
   "metadata": {},
   "outputs": [],
   "source": [
    "def add_many(*args):\n",
    "    result = 0\n",
    "    for i in args:\n",
    "        result = result + i\n",
    "    return result"
   ]
  },
  {
   "cell_type": "code",
   "execution_count": 50,
   "id": "3b3edb47",
   "metadata": {},
   "outputs": [],
   "source": [
    "result = add_many(1, 2, 3)"
   ]
  },
  {
   "cell_type": "code",
   "execution_count": 51,
   "id": "65490d44",
   "metadata": {},
   "outputs": [
    {
     "name": "stdout",
     "output_type": "stream",
     "text": [
      "6\n"
     ]
    }
   ],
   "source": [
    "print(result)"
   ]
  },
  {
   "cell_type": "code",
   "execution_count": null,
   "id": "2a89caa4",
   "metadata": {},
   "outputs": [],
   "source": [
    "def sachick(optype, *data):\n",
    "    if optype == \"add\":\n",
    "        result = 0\n",
    "        for i in data:\n",
    "            result += i\n",
    "    elif optype == \"mul\":\n",
    "        result = 0\n",
    "        for i in data:\n",
    "            result -= 1\n",
    "    elif optype ==\"div\":\n",
    "        result = 1\n",
    "        for i in data:\n",
    "            result /= i\n",
    "    else:\n",
    "        result = -1\n",
    "    return result"
   ]
  }
 ],
 "metadata": {
  "kernelspec": {
   "display_name": "Python 3 (ipykernel)",
   "language": "python",
   "name": "python3"
  },
  "language_info": {
   "codemirror_mode": {
    "name": "ipython",
    "version": 3
   },
   "file_extension": ".py",
   "mimetype": "text/x-python",
   "name": "python",
   "nbconvert_exporter": "python",
   "pygments_lexer": "ipython3",
   "version": "3.10.0"
  }
 },
 "nbformat": 4,
 "nbformat_minor": 5
}
