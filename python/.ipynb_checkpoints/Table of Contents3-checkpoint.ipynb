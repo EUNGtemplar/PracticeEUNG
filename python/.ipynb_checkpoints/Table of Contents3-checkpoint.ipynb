{
 "cells": [
  {
   "cell_type": "code",
   "execution_count": 4,
   "id": "b261627c",
   "metadata": {},
   "outputs": [
    {
     "name": "stdout",
     "output_type": "stream",
     "text": [
      "8\n",
      "4\n",
      "3\n",
      "6\n",
      "8\n",
      "7\n",
      "5\n",
      "2\n",
      "1\n"
     ]
    }
   ],
   "source": [
    "# page.81\n",
    "N = int(input()) #n:8\n",
    "A = [0]*N\n",
    "for i in range(N):\n",
    "    A[i] = int(input())\n",
    "stack = []\n",
    "num = 1\n",
    "result = True\n",
    "answer = \"\"\n",
    "\n",
    "for i in range(N): #su : [4, 3, 6, 8, 7, 5, 2, 1]\n",
    "    su = A[i]\n",
    "    if su >= num: # i(현재) 번째 수열 값 >= 오름차순 자연수 - 스택에 append\n",
    "                  # 4를 뽑기 위해서 4까지 쌓는 작업\n",
    "        while su >= num:\n",
    "            stack.append(num)\n",
    "            num += 1\n",
    "            answer += \"+₩n\"\n",
    "        stack.pop()\n",
    "        anwer += \"-₩n\"\n",
    "    else: # i(현재)번째 수열 값 < 오름차순 자연수 => 스택에서 꺼낸다(pop)\n",
    "        n = stack.pop()\n",
    "        if n > su: # 비정상 뽑을 수 없을 때 \n",
    "            print(\"NO\")\n",
    "            result = False\n",
    "            break\n",
    "        else:\n",
    "            answer += \"-\"\n",
    "\n",
    "if result:\n",
    "    print(answer)"
   ]
  },
  {
   "cell_type": "code",
   "execution_count": 5,
   "id": "d2db09d2",
   "metadata": {},
   "outputs": [
    {
     "data": {
      "text/plain": [
       "[4, 3, 6, 8, 7, 5, 2, 1]"
      ]
     },
     "execution_count": 5,
     "metadata": {},
     "output_type": "execute_result"
    }
   ],
   "source": [
    "A"
   ]
  },
  {
   "cell_type": "code",
   "execution_count": 8,
   "id": "4cf1e255",
   "metadata": {},
   "outputs": [
    {
     "name": "stdout",
     "output_type": "stream",
     "text": [
      "6\n",
      "4\n"
     ]
    }
   ],
   "source": [
    "from collections import deque\n",
    "\n",
    "N = int(input())\n",
    "myQueue = deque()\n",
    "\n",
    "for i in range(1, N+1):\n",
    "    myQueue.append(i)\n",
    "    \n",
    "while len(myQueue) > 1:\n",
    "    myQueue.popleft() # pop으로 날리기\n",
    "    tmp = myQueue.popleft() #pop으로 날린것을 tmp로 보관\n",
    "    myQueue.append(tmp) # tmp를 마지막에 다시 추가\n",
    "    \n",
    "print(myQueue[0])"
   ]
  },
  {
   "cell_type": "code",
   "execution_count": 9,
   "id": "19639e0d",
   "metadata": {},
   "outputs": [
    {
     "data": {
      "text/plain": [
       "deque([4])"
      ]
     },
     "execution_count": 9,
     "metadata": {},
     "output_type": "execute_result"
    }
   ],
   "source": [
    "myQueue"
   ]
  },
  {
   "cell_type": "code",
   "execution_count": 10,
   "id": "47e21b34",
   "metadata": {},
   "outputs": [],
   "source": [
    "# Stack, Queue\n",
    "# deque, heap, priority queue (tree 구조 이해 선행)"
   ]
  },
  {
   "cell_type": "code",
   "execution_count": 52,
   "id": "a8556945",
   "metadata": {},
   "outputs": [],
   "source": [
    "class myStack:\n",
    "    def __init__(self):\n",
    "        self.stack = []\n",
    "        self.top = -1\n",
    "        \n",
    "    def push(self, value):\n",
    "        self.stack.append(value)\n",
    "        self.top += 1\n",
    "        \n",
    "    def pop(self):\n",
    "        if self.top >= 0:\n",
    "            value = self.stack[self.top]\n",
    "            del self.stack[self.top]\n",
    "            self.top -= 1\n",
    "            return value\n",
    "        else:\n",
    "            return None\n",
    "    \n",
    "    def size(self):\n",
    "        return self.top+1"
   ]
  },
  {
   "cell_type": "code",
   "execution_count": 53,
   "id": "b360b8a4",
   "metadata": {},
   "outputs": [
    {
     "data": {
      "text/plain": [
       "(0, [10], 1)"
      ]
     },
     "execution_count": 53,
     "metadata": {},
     "output_type": "execute_result"
    }
   ],
   "source": [
    "s1 = myStack()\n",
    "s1.push(10)\n",
    "s1.top, s1.stack, s1.size()"
   ]
  },
  {
   "cell_type": "code",
   "execution_count": 54,
   "id": "18fd83b1",
   "metadata": {},
   "outputs": [
    {
     "data": {
      "text/plain": [
       "(1, [10, 20], 2)"
      ]
     },
     "execution_count": 54,
     "metadata": {},
     "output_type": "execute_result"
    }
   ],
   "source": [
    "s1.push(20)\n",
    "s1.top, s1.stack, s1.size()"
   ]
  },
  {
   "cell_type": "code",
   "execution_count": 55,
   "id": "107f08e2",
   "metadata": {},
   "outputs": [
    {
     "data": {
      "text/plain": [
       "(20, [10], 0, 1)"
      ]
     },
     "execution_count": 55,
     "metadata": {},
     "output_type": "execute_result"
    }
   ],
   "source": [
    "s1.pop(), s1.stack, s1.top, s1.size()"
   ]
  },
  {
   "cell_type": "code",
   "execution_count": 56,
   "id": "94b84abe",
   "metadata": {},
   "outputs": [
    {
     "data": {
      "text/plain": [
       "(10, [], -1, 0)"
      ]
     },
     "execution_count": 56,
     "metadata": {},
     "output_type": "execute_result"
    }
   ],
   "source": [
    "s1.pop(), s1.stack, s1.top, s1.size()"
   ]
  },
  {
   "cell_type": "code",
   "execution_count": 57,
   "id": "7cc6ba53",
   "metadata": {},
   "outputs": [
    {
     "data": {
      "text/plain": [
       "(None, [], -1, 0)"
      ]
     },
     "execution_count": 57,
     "metadata": {},
     "output_type": "execute_result"
    }
   ],
   "source": [
    "s1.pop(), s1.stack, s1.top, s1.size()"
   ]
  },
  {
   "cell_type": "code",
   "execution_count": 58,
   "id": "d2585d2d",
   "metadata": {},
   "outputs": [],
   "source": [
    "class myQueue:\n",
    "    def __init__(self):\n",
    "        self.queue = []\n",
    "        self.front = 0\n",
    "        self.back = -1\n",
    "        \n",
    "    def enqueue(self, value): #stack에서 push\n",
    "        self.queue.append(value)\n",
    "        self.back += 1\n",
    "        \n",
    "    def dequeue(self): # stack에서 pop\n",
    "        if self.back >= 0:\n",
    "            value = self.queue[self.front]\n",
    "            del self.queue[self.front]\n",
    "            self.back -= 1\n",
    "            return value\n",
    "        else:\n",
    "            return None\n",
    "    \n",
    "    def size(self):\n",
    "        return self.back+1"
   ]
  },
  {
   "cell_type": "code",
   "execution_count": 59,
   "id": "2ef8edbe",
   "metadata": {},
   "outputs": [
    {
     "data": {
      "text/plain": [
       "(-1, [], 0)"
      ]
     },
     "execution_count": 59,
     "metadata": {},
     "output_type": "execute_result"
    }
   ],
   "source": [
    "q1 = myQueue()\n",
    "q1.back, q1.queue, q1.size()"
   ]
  },
  {
   "cell_type": "code",
   "execution_count": 60,
   "id": "134c143a",
   "metadata": {},
   "outputs": [
    {
     "data": {
      "text/plain": [
       "(0, [10], 1)"
      ]
     },
     "execution_count": 60,
     "metadata": {},
     "output_type": "execute_result"
    }
   ],
   "source": [
    "q1.enqueue(10)\n",
    "q1.back, q1.queue, q1.size()"
   ]
  },
  {
   "cell_type": "code",
   "execution_count": 61,
   "id": "aed3ec2d",
   "metadata": {},
   "outputs": [
    {
     "data": {
      "text/plain": [
       "(1, [10, 20], 2)"
      ]
     },
     "execution_count": 61,
     "metadata": {},
     "output_type": "execute_result"
    }
   ],
   "source": [
    "q1.enqueue(20)\n",
    "q1.back, q1.queue, q1.size()"
   ]
  },
  {
   "cell_type": "code",
   "execution_count": 62,
   "id": "5af43f0d",
   "metadata": {},
   "outputs": [
    {
     "data": {
      "text/plain": [
       "(2, [10, 20, 30], 3)"
      ]
     },
     "execution_count": 62,
     "metadata": {},
     "output_type": "execute_result"
    }
   ],
   "source": [
    "q1.enqueue(30)\n",
    "q1.back, q1.queue, q1.size()"
   ]
  },
  {
   "cell_type": "code",
   "execution_count": 63,
   "id": "0ab8979b",
   "metadata": {},
   "outputs": [
    {
     "data": {
      "text/plain": [
       "(1, 10, [20, 30], 2)"
      ]
     },
     "execution_count": 63,
     "metadata": {},
     "output_type": "execute_result"
    }
   ],
   "source": [
    "val = q1.dequeue()\n",
    "q1.back, val, q1.queue, q1.size()"
   ]
  },
  {
   "cell_type": "code",
   "execution_count": 64,
   "id": "057d0715",
   "metadata": {},
   "outputs": [
    {
     "data": {
      "text/plain": [
       "(0, 20, [30], 1)"
      ]
     },
     "execution_count": 64,
     "metadata": {},
     "output_type": "execute_result"
    }
   ],
   "source": [
    "val = q1.dequeue()\n",
    "q1.back, val, q1.queue, q1.size()"
   ]
  },
  {
   "cell_type": "code",
   "execution_count": 65,
   "id": "509952a6",
   "metadata": {},
   "outputs": [
    {
     "data": {
      "text/plain": [
       "(-1, 30, [], 0)"
      ]
     },
     "execution_count": 65,
     "metadata": {},
     "output_type": "execute_result"
    }
   ],
   "source": [
    "val = q1.dequeue()\n",
    "q1.back, val, q1.queue, q1.size()"
   ]
  },
  {
   "cell_type": "code",
   "execution_count": 66,
   "id": "40099950",
   "metadata": {},
   "outputs": [
    {
     "data": {
      "text/plain": [
       "(-1, None, [], 0)"
      ]
     },
     "execution_count": 66,
     "metadata": {},
     "output_type": "execute_result"
    }
   ],
   "source": [
    "val = q1.dequeue()\n",
    "q1.back, val, q1.queue, q1.size()"
   ]
  },
  {
   "cell_type": "code",
   "execution_count": null,
   "id": "e0e3083f",
   "metadata": {},
   "outputs": [],
   "source": []
  },
  {
   "cell_type": "code",
   "execution_count": 73,
   "id": "87ec48f9",
   "metadata": {},
   "outputs": [
    {
     "name": "stdout",
     "output_type": "stream",
     "text": [
      "deque(['월', '화', '수'])\n",
      "deque(['월', '화', '수', '목'])\n",
      "deque(['일', '월', '화', '수', '목'])\n",
      "목 deque(['일', '월', '화', '수'])\n",
      "일 deque(['월', '화', '수'])\n"
     ]
    }
   ],
   "source": [
    "from collections import deque\n",
    "dq = deque ([\"월\",\"화\",\"수\"])\n",
    "print(dq)\n",
    "dq.append(\"목\") # right 에 add \n",
    "print(dq)\n",
    "dq.appendleft(\"일\") # left 에 add \n",
    "print(dq)\n",
    "\n",
    "val = dq.pop() # right 에서 pop\n",
    "print(val, dq)\n",
    "val = dq.popleft() # left 에서 pop\n",
    "print(val, dq)"
   ]
  },
  {
   "cell_type": "code",
   "execution_count": 74,
   "id": "e72c5887",
   "metadata": {},
   "outputs": [],
   "source": [
    "# hash table \n",
    "# hash tag : 검색어, 문장 나열 (X)\n",
    "# 코딩에서 hash -> dictionary 활용 문제 "
   ]
  },
  {
   "cell_type": "code",
   "execution_count": 75,
   "id": "6c399181",
   "metadata": {},
   "outputs": [
    {
     "data": {
      "text/plain": [
       "6"
      ]
     },
     "execution_count": 75,
     "metadata": {},
     "output_type": "execute_result"
    }
   ],
   "source": [
    "str1 = \"나는 오늘 맥주를 마시러 갔다.\"\n",
    "str1.index(\"맥주\")"
   ]
  },
  {
   "cell_type": "code",
   "execution_count": 77,
   "id": "1786d048",
   "metadata": {},
   "outputs": [],
   "source": [
    "# hash table \n",
    "\n",
    "class Hash_table:\n",
    "    def __init__(self, length = 5):\n",
    "        self.max_len = length\n",
    "        self.table = [[] for i in range(self.max_len)]\n",
    "        \n",
    "    def myhash(self, key):\n",
    "        res = sum([ord(s) for s in key]) # 문자를 유니코드 숫자로 만들어준다.\n",
    "        return res % self.max_len\n",
    "        \n",
    "    def myset(self, key, value):\n",
    "        hash_index = self.myhash(key) # hash function \n",
    "        self.table[hash_index].append((key, value))\n",
    "        \n",
    "    def myget(self, key):\n",
    "        index = self.hash(key)\n",
    "        value = self.table[index]\n",
    "        if not value: return None\n",
    "        for v in value:\n",
    "            if v[0] == key:\n",
    "                return v[1]\n",
    "        return None\n",
    "        "
   ]
  },
  {
   "cell_type": "code",
   "execution_count": 78,
   "id": "5eeb781f",
   "metadata": {},
   "outputs": [],
   "source": [
    "hash_capitals = Hash_table()"
   ]
  },
  {
   "cell_type": "code",
   "execution_count": 80,
   "id": "c905d57c",
   "metadata": {},
   "outputs": [],
   "source": [
    "국가 = [\"한국\",\"미국\", \"중국\",\"영국\",\"일본\"]\n",
    "수도 = [\"서울\",\"워싱턴\",\"북경\",\"런던\",\"도쿄\"]\n",
    "for country, capital in zip(국가, 수도):\n",
    "    hash_capitals.myset(country, capital)"
   ]
  },
  {
   "cell_type": "code",
   "execution_count": 81,
   "id": "f779dc11",
   "metadata": {},
   "outputs": [
    {
     "name": "stdout",
     "output_type": "stream",
     "text": [
      "해시 테이블\n",
      "0 [('중국', '북경')]\n",
      "1 [('영국', '런던')]\n",
      "2 [('한국', '서울'), ('미국', '워싱턴')]\n",
      "3 []\n",
      "4 [('일본', '도쿄')]\n"
     ]
    }
   ],
   "source": [
    "print(\"해시 테이블\")\n",
    "for index, value in enumerate(hash_capitals.table):\n",
    "    print(index, value)\n",
    "    \n",
    "# 한국, 미국 연결 되어있다. (공부 : 해시 테이블 분리 연결)"
   ]
  },
  {
   "cell_type": "code",
   "execution_count": 82,
   "id": "8fe504ef",
   "metadata": {},
   "outputs": [],
   "source": [
    "# 데이터 :         1 2 3 4 5 6 7 8 9 \n",
    "# 3으로 나눈 나머지 :1 2 0 1 2 0 1 2 0"
   ]
  },
  {
   "cell_type": "code",
   "execution_count": 91,
   "id": "cbafeeb5",
   "metadata": {},
   "outputs": [
    {
     "data": {
      "text/plain": [
       "[60, 42, 32, 24, 15]"
      ]
     },
     "execution_count": 91,
     "metadata": {},
     "output_type": "execute_result"
    }
   ],
   "source": [
    "#버블정렬 \n",
    "data = [15, 24, 32, 42, 60]\n",
    "\n",
    "def bubbleSort(unsorted):\n",
    "    for iter_no in range(len(unsorted)-1, 0, -1):\n",
    "        for idx in range(iter_no): #열을 증가\n",
    "            if unsorted[idx] < unsorted[idx+1]:\n",
    "                tmp = unsorted[idx]\n",
    "                unsorted[idx] = unsorted[idx+1]\n",
    "                unsorted[idx+1] = tmp\n",
    "                \n",
    "bubbleSort(data)\n",
    "data"
   ]
  },
  {
   "cell_type": "code",
   "execution_count": 85,
   "id": "dbd8be8c",
   "metadata": {},
   "outputs": [
    {
     "name": "stdout",
     "output_type": "stream",
     "text": [
      "5\n",
      "5\n",
      "2\n",
      "3\n",
      "4\n",
      "1\n"
     ]
    },
    {
     "data": {
      "text/plain": [
       "[5, 2, 3, 4, 1]"
      ]
     },
     "execution_count": 85,
     "metadata": {},
     "output_type": "execute_result"
    }
   ],
   "source": [
    "# 오름차순 정렬\n",
    "N = int(input())\n",
    "A = [0]*N\n",
    "\n",
    "for i in range(N):\n",
    "    A[i] = int(input())\n",
    "    \n",
    "A"
   ]
  },
  {
   "cell_type": "code",
   "execution_count": 86,
   "id": "ee078e52",
   "metadata": {},
   "outputs": [],
   "source": [
    "A.sort()"
   ]
  },
  {
   "cell_type": "code",
   "execution_count": 87,
   "id": "0d6842f8",
   "metadata": {},
   "outputs": [
    {
     "data": {
      "text/plain": [
       "[1, 2, 3, 4, 5]"
      ]
     },
     "execution_count": 87,
     "metadata": {},
     "output_type": "execute_result"
    }
   ],
   "source": [
    "A"
   ]
  },
  {
   "cell_type": "code",
   "execution_count": 88,
   "id": "193c54f9",
   "metadata": {},
   "outputs": [
    {
     "name": "stdout",
     "output_type": "stream",
     "text": [
      "1\n",
      "2\n",
      "3\n",
      "4\n",
      "5\n"
     ]
    }
   ],
   "source": [
    "for i in range(N):\n",
    "    print(A[i])"
   ]
  },
  {
   "cell_type": "code",
   "execution_count": 90,
   "id": "b36ac914",
   "metadata": {},
   "outputs": [
    {
     "name": "stdout",
     "output_type": "stream",
     "text": [
      "5\n",
      "5\n",
      "4\n",
      "1\n",
      "3\n",
      "2\n",
      "1\n",
      "2\n",
      "3\n",
      "4\n",
      "5\n"
     ]
    }
   ],
   "source": [
    "# 오름차순 정렬\n",
    "N = int(input())\n",
    "A = [0]*N\n",
    "\n",
    "for i in range(N):\n",
    "    A[i] = int(input())\n",
    "    \n",
    "A.sort()\n",
    "\n",
    "for i in range(N):\n",
    "    print(A[i])"
   ]
  },
  {
   "cell_type": "code",
   "execution_count": 93,
   "id": "331cb487",
   "metadata": {},
   "outputs": [
    {
     "name": "stdout",
     "output_type": "stream",
     "text": [
      "5\n",
      "4\n",
      "5\n",
      "1\n",
      "3\n",
      "2\n",
      "1\n",
      "2\n",
      "3\n",
      "4\n",
      "5\n"
     ]
    }
   ],
   "source": [
    "N = int(input())\n",
    "A = [0]*N\n",
    "\n",
    "for i in range(N):\n",
    "    A[i] = int(input())\n",
    "    \n",
    "#A.sort()\n",
    "for i in range(N-1):\n",
    "    for j in range(N-1-i):\n",
    "        if A[j] > A[j+1]:\n",
    "            tmp = A[j]\n",
    "            A[j] = A[j+1]\n",
    "            A[j+1] = tmp\n",
    "        \n",
    "\n",
    "for i in range(N):\n",
    "    print(A[i])"
   ]
  },
  {
   "cell_type": "code",
   "execution_count": 100,
   "id": "25991667",
   "metadata": {},
   "outputs": [],
   "source": [
    "# 퀵 소트(퀵정렬) : Divide and conquer \n",
    "\n",
    "def swap(A, i, j):\n",
    "    temp = A[i]\n",
    "    A[i] = A[j]\n",
    "    A[j] = temp"
   ]
  },
  {
   "cell_type": "code",
   "execution_count": 101,
   "id": "84fbdfe4",
   "metadata": {},
   "outputs": [],
   "source": [
    "def part(a, start, end):\n",
    "    #mid = (start + end)//2\n",
    "    pivot = a[end]# random, left, right, mid\n",
    "    pindex = start\n",
    "    \n",
    "    for i in range(start, end):\n",
    "        if a[i] <= pivot:\n",
    "            swap(a, i, pindex)\n",
    "            pindex += 1\n",
    "    swap(a, end, pindex)\n",
    "    return pindex"
   ]
  },
  {
   "cell_type": "code",
   "execution_count": 102,
   "id": "904bce7e",
   "metadata": {},
   "outputs": [],
   "source": [
    "def qsort(a, start, end):\n",
    "    if start >= end: return\n",
    "    pivot = part (a, start, end)\n",
    "    qsort(a, start, pivot-1) # pivot 기준 왼쪽\n",
    "    qsort(a, pivot+1, end) # pivot 기준 오른쪽"
   ]
  },
  {
   "cell_type": "code",
   "execution_count": 103,
   "id": "50f9a8e0",
   "metadata": {},
   "outputs": [
    {
     "data": {
      "text/plain": [
       "[-6, -3, 1, 2, 3, 5, 6, 8, 9]"
      ]
     },
     "execution_count": 103,
     "metadata": {},
     "output_type": "execute_result"
    }
   ],
   "source": [
    "data = [9, -3, 5, 2, 3, 6, 8, -6, 1]\n",
    "qsort(data, 0, len(data)-1)\n",
    "data"
   ]
  },
  {
   "cell_type": "code",
   "execution_count": 104,
   "id": "3a70bdfe",
   "metadata": {},
   "outputs": [],
   "source": [
    "# 병합 정렬 (Divide and conquer)"
   ]
  },
  {
   "cell_type": "code",
   "execution_count": 107,
   "id": "5693992e",
   "metadata": {},
   "outputs": [],
   "source": [
    "def merge_sort(unsorted):\n",
    "    if len(unsorted) <= 1:\n",
    "        return unsorted\n",
    "    mid = len(unsorted)//2\n",
    "    left_list = unsorted[:mid]\n",
    "    right_list = unsorted[mid:]\n",
    "    left_list = merge_sort(left_list)\n",
    "    right_list = merge_sort(right_list)\n",
    "    return merge(left_list, right_list)"
   ]
  },
  {
   "cell_type": "code",
   "execution_count": 108,
   "id": "aa25e91c",
   "metadata": {},
   "outputs": [],
   "source": [
    "def merge(left_list, right_list):\n",
    "    res = []\n",
    "    while len(left_list) != 0 and len(right_list) != 0:\n",
    "        if left_list[0] < right_list[0]:\n",
    "            res.append(left_list[0])\n",
    "            del left_list[0]\n",
    "        else:\n",
    "            res.append(right_list[0])\n",
    "            del right_list[0]\n",
    "    if len(left_list) == 0: #왼쪽 다 쓰고 오른쪽이 남으면\n",
    "        res += right_list\n",
    "    else: # 오른쪽 다 쓰고 왼쪽이 남으면\n",
    "        res += left_list\n",
    "    return res"
   ]
  },
  {
   "cell_type": "code",
   "execution_count": 113,
   "id": "da20efb1",
   "metadata": {},
   "outputs": [
    {
     "data": {
      "text/plain": [
       "[1, 2, 3, 4, 5, 6, 7, 8]"
      ]
     },
     "execution_count": 113,
     "metadata": {},
     "output_type": "execute_result"
    }
   ],
   "source": [
    "data = [6,5,3,1,8,7,2,4]\n",
    "data_sorted = merge_sort(data)\n",
    "data_sorted"
   ]
  },
  {
   "cell_type": "code",
   "execution_count": 114,
   "id": "e1198fd6",
   "metadata": {},
   "outputs": [],
   "source": [
    "# Tree"
   ]
  },
  {
   "cell_type": "code",
   "execution_count": 117,
   "id": "d70f2a34",
   "metadata": {},
   "outputs": [],
   "source": [
    "class Node:\n",
    "    def __init__(self, data):\n",
    "        self.data = data\n",
    "        self.left_child = None\n",
    "        self.right_child = None"
   ]
  },
  {
   "cell_type": "code",
   "execution_count": 122,
   "id": "ef08c2a2",
   "metadata": {},
   "outputs": [
    {
     "data": {
      "text/plain": [
       "('A', 'B', 'C', 'D', 'E')"
      ]
     },
     "execution_count": 122,
     "metadata": {},
     "output_type": "execute_result"
    }
   ],
   "source": [
    "node_a = Node(\"A\")\n",
    "node_b = Node(\"B\")\n",
    "node_c = Node(\"C\")\n",
    "node_d = Node(\"D\")\n",
    "node_e = Node(\"E\")\n",
    "\n",
    "node_a.data, node_b.data, node_c.data, node_d.data, node_e.data"
   ]
  },
  {
   "cell_type": "code",
   "execution_count": 123,
   "id": "1421cab8",
   "metadata": {},
   "outputs": [],
   "source": [
    "node_a.left_child = node_b\n",
    "node_a.right_child = node_c\n",
    "node_b.left_child = node_d\n",
    "node_b.right_child = node_e"
   ]
  },
  {
   "cell_type": "code",
   "execution_count": 124,
   "id": "b6cae378",
   "metadata": {},
   "outputs": [],
   "source": [
    "# 이진 트리 Binary tree (page.382)"
   ]
  },
  {
   "cell_type": "code",
   "execution_count": 169,
   "id": "01aa7b3f",
   "metadata": {},
   "outputs": [],
   "source": [
    "class Node:\n",
    "    def __init__(self, data=None):\n",
    "        self.data = data\n",
    "        self.left = None\n",
    "        self.right = None\n",
    "    def insert(self, data):\n",
    "        if self.data == None:\n",
    "            self.data = data\n",
    "        else: #자식에게 data 넣어줌 \n",
    "            if data < self.data: # insert left\n",
    "                if self.left is not None: # left 노드가 비어 있을 때\n",
    "                    self.left.insert(data)\n",
    "                else: #left 노드가 없을 때\n",
    "                    self.left = Node(data)\n",
    "            elif data > self.data: # insert right\n",
    "                if self.right is not None:\n",
    "                    self.right.insert(data)\n",
    "                else: #right 노드가 없을 때\n",
    "                    self.right = Node(data)\n",
    "            else:\n",
    "                print(\"트리에 존재하는 값\")"
   ]
  },
  {
   "cell_type": "code",
   "execution_count": 170,
   "id": "7acce411",
   "metadata": {},
   "outputs": [
    {
     "data": {
      "text/plain": [
       "(3, None, None)"
      ]
     },
     "execution_count": 170,
     "metadata": {},
     "output_type": "execute_result"
    }
   ],
   "source": [
    "root = Node(3)\n",
    "root.data, root.left, root.right"
   ]
  },
  {
   "cell_type": "code",
   "execution_count": 171,
   "id": "8ec54cf1",
   "metadata": {},
   "outputs": [],
   "source": [
    "root.insert(1)"
   ]
  },
  {
   "cell_type": "code",
   "execution_count": 172,
   "id": "5cbe6f62",
   "metadata": {},
   "outputs": [
    {
     "data": {
      "text/plain": [
       "(3, <__main__.Node at 0x105ee52d0>, None)"
      ]
     },
     "execution_count": 172,
     "metadata": {},
     "output_type": "execute_result"
    }
   ],
   "source": [
    "root.data, root.left, root.right"
   ]
  },
  {
   "cell_type": "code",
   "execution_count": 173,
   "id": "5a83c479",
   "metadata": {},
   "outputs": [
    {
     "data": {
      "text/plain": [
       "1"
      ]
     },
     "execution_count": 173,
     "metadata": {},
     "output_type": "execute_result"
    }
   ],
   "source": [
    "root.left.data"
   ]
  },
  {
   "cell_type": "code",
   "execution_count": 174,
   "id": "5196e0ed",
   "metadata": {},
   "outputs": [],
   "source": [
    "root.insert(5)"
   ]
  },
  {
   "cell_type": "code",
   "execution_count": 175,
   "id": "315d89e9",
   "metadata": {},
   "outputs": [
    {
     "data": {
      "text/plain": [
       "(3, <__main__.Node at 0x105ee52d0>, <__main__.Node at 0x105ee4430>)"
      ]
     },
     "execution_count": 175,
     "metadata": {},
     "output_type": "execute_result"
    }
   ],
   "source": [
    "root.data, root.left, root.right"
   ]
  },
  {
   "cell_type": "code",
   "execution_count": 180,
   "id": "80931618",
   "metadata": {},
   "outputs": [
    {
     "data": {
      "text/plain": [
       "5"
      ]
     },
     "execution_count": 180,
     "metadata": {},
     "output_type": "execute_result"
    }
   ],
   "source": [
    "root.right.data"
   ]
  },
  {
   "cell_type": "code",
   "execution_count": 181,
   "id": "f5e31d80",
   "metadata": {},
   "outputs": [],
   "source": [
    "# 순위 (Traversing) page.384\n",
    "# 중위 순회 ( in-order traversal ) : left child -> root -> right child\n",
    "# 전위 순회 ( pre-order traversal ): root -> left -> right \n",
    "# 후위 순회 ( post-order traversal ): left -> right -> root"
   ]
  },
  {
   "cell_type": "code",
   "execution_count": 190,
   "id": "4328b678",
   "metadata": {},
   "outputs": [],
   "source": [
    "class Node:\n",
    "    def __init__(self, data=None):\n",
    "        self.data = data\n",
    "        self.left = None\n",
    "        self.right = None\n",
    "    def insert(self, data):\n",
    "        if self.data == None:\n",
    "            self.data = data\n",
    "        else: #자식에게 data 넣어줌 \n",
    "            if data < self.data: # insert left\n",
    "                if self.left is not None: # left 노드가 비어 있을 때\n",
    "                    self.left.insert(data)\n",
    "                else: #left 노드가 없을 때\n",
    "                    self.left = Node(data)\n",
    "            elif data > self.data: # insert right\n",
    "                if self.right is not None:\n",
    "                    self.right.insert(data)\n",
    "                else: #right 노드가 없을 때\n",
    "                    self.right = Node(data)\n",
    "            else:\n",
    "                print(\"트리에 존재하는 값\")\n",
    "                \n",
    "    def iot(self, root): #in order traversal 중위순회 ( left > root > right )\n",
    "        res = []\n",
    "        if root:\n",
    "            res = self.iot(root.left)\n",
    "            res.append(root.data)\n",
    "            res += self.iot(root.right)\n",
    "        return res\n",
    "    \n",
    "    def pot(self, root): #pre order traversal 전위순회 (root > left > right)\n",
    "        res = []\n",
    "        if root:\n",
    "            res.append(root.data)\n",
    "            res += self.pot(root.left)\n",
    "            res += self.pot(root.right)\n",
    "        return res\n",
    "    \n",
    "    def post_ot(self, root): #post order traversal 전위순회 (left > right > root)\n",
    "        res = []\n",
    "        if root:\n",
    "            res = self.post_ot(root.left)\n",
    "            res += self.post_ot(root.right)\n",
    "            res.append(root.data)\n",
    "        return res"
   ]
  },
  {
   "cell_type": "code",
   "execution_count": 191,
   "id": "895829d9",
   "metadata": {},
   "outputs": [
    {
     "name": "stdout",
     "output_type": "stream",
     "text": [
      "in order:  [10, 14, 19, 27, 31, 35, 42]\n",
      "pre order:  [27, 14, 10, 19, 35, 31, 42]\n",
      "post order:  [10, 19, 14, 31, 42, 35, 27]\n"
     ]
    }
   ],
   "source": [
    "root = Node(27)\n",
    "root.insert(14)\n",
    "root.insert(35)\n",
    "root.insert(10)\n",
    "root.insert(19)\n",
    "root.insert(31)\n",
    "root.insert(42)\n",
    "print(\"in order: \", root.iot(root))\n",
    "print(\"pre order: \", root.pot(root))\n",
    "print(\"post order: \", root.post_ot(root))"
   ]
  },
  {
   "cell_type": "code",
   "execution_count": null,
   "id": "0998f820",
   "metadata": {},
   "outputs": [],
   "source": []
  }
 ],
 "metadata": {
  "kernelspec": {
   "display_name": "Python 3 (ipykernel)",
   "language": "python",
   "name": "python3"
  },
  "language_info": {
   "codemirror_mode": {
    "name": "ipython",
    "version": 3
   },
   "file_extension": ".py",
   "mimetype": "text/x-python",
   "name": "python",
   "nbconvert_exporter": "python",
   "pygments_lexer": "ipython3",
   "version": "3.10.0"
  }
 },
 "nbformat": 4,
 "nbformat_minor": 5
}
